{
 "cells": [
  {
   "cell_type": "markdown",
   "metadata": {},
   "source": [
    "# Python for Data Science Workshop - Spring 2018\n",
    "June 14, 2018\n",
    "\n",
    "Instructor: Fernando Rodriguez\n",
    "\n",
    "Clickstream examples and exercises provided by Jihyun Park\n",
    "\n",
    "## Session 8: Reading in Multiple Files, Storing Data in Dictionaires, Date-Time, Converting Data to Exportable Matrix"
   ]
  },
  {
   "cell_type": "markdown",
   "metadata": {},
   "source": [
    "## Part 1\n",
    "\n",
    "#### Reading in Multiple Files"
   ]
  },
  {
   "cell_type": "code",
   "execution_count": null,
   "metadata": {},
   "outputs": [],
   "source": [
    "import os"
   ]
  },
  {
   "cell_type": "markdown",
   "metadata": {},
   "source": [
    "#### Getting current working directory\n",
    "\n",
    "Using os.getcwd() method\n",
    "\n",
    "This is usually the file path of where we are running this notebook."
   ]
  },
  {
   "cell_type": "code",
   "execution_count": null,
   "metadata": {},
   "outputs": [],
   "source": [
    "os.getcwd()"
   ]
  },
  {
   "cell_type": "markdown",
   "metadata": {},
   "source": [
    "Take a moment to add the csv files to your directory. I have created a seperate folder that has these files.\n",
    "\n",
    "<br>\n",
    "#### Storing folder paths\n",
    "If we have files in several different folders, we can store their paths in variables."
   ]
  },
  {
   "cell_type": "code",
   "execution_count": null,
   "metadata": {},
   "outputs": [],
   "source": [
    "CurrentDir = \"/Volumes/GoogleDrive/My Drive/Python Workspace/Python-for-Data-Science-Workshop\"\n",
    "\n",
    "files = \"/Volumes/GoogleDrive/My Drive/Python Workspace/Python-for-Data-Science-Workshop/s6data\""
   ]
  },
  {
   "cell_type": "markdown",
   "metadata": {},
   "source": [
    "#### Accessing files in folder paths\n",
    "We can see the different files in our folder paths by using the .listdir() method."
   ]
  },
  {
   "cell_type": "code",
   "execution_count": null,
   "metadata": {},
   "outputs": [],
   "source": [
    "os.listdir(CurrentDir)"
   ]
  },
  {
   "cell_type": "markdown",
   "metadata": {},
   "source": [
    "<br>\n",
    "#### Using the 'with' Statement\n",
    "\n",
    "With statements automatically close the file after the nested block of code. It helps with handling common preparation and cleanup tasks.\n",
    "\n",
    "#### csv.reader method\n",
    ".reader method returns the objects in a csv file which will iterate over lines\n",
    "\n",
    "usually has two common arguments. \n",
    "\n",
    "1) the csv file\n",
    "\n",
    "2) the delimiter\n",
    "    "
   ]
  },
  {
   "cell_type": "code",
   "execution_count": null,
   "metadata": {},
   "outputs": [],
   "source": [
    "# First we need to import the csv module\n",
    "import csv"
   ]
  },
  {
   "cell_type": "markdown",
   "metadata": {},
   "source": [
    "open() returns a file object and has two common arguments\n",
    "\n",
    "(filename, mode)\n",
    "\n",
    "mode <b>`r`</b> is for when the file will only be read"
   ]
  },
  {
   "cell_type": "code",
   "execution_count": null,
   "metadata": {},
   "outputs": [],
   "source": [
    "open(\"104500.csv\", \"r\")"
   ]
  },
  {
   "cell_type": "code",
   "execution_count": null,
   "metadata": {},
   "outputs": [],
   "source": [
    "from IPython.display import Image\n",
    "Image(filename='images/clickstreamdata2.png') "
   ]
  },
  {
   "cell_type": "markdown",
   "metadata": {},
   "source": [
    "#### Reviewing how to read in a single CSV file"
   ]
  },
  {
   "cell_type": "markdown",
   "metadata": {},
   "source": [
    "For every line in the csv file, 104500.csv, we are going to use a for-loop to save the following 4 columns:\n",
    "\n",
    "1. roster_randomid<br> (We will remove this variable later, since we don't want a list of the same randomid)\n",
    "2. url<br>\n",
    "3. created_at<br>\n",
    "4. ip<br>\n",
    "\n",
    "<b>Instructions</b>\n",
    "1. Create new variables. One variable for each fo the above columns. Each variable should be a list. They should be empty (e.g., Initializing).\n",
    "\n",
    "2. Open the csv file, 104500.csv, using one of the two <b>with open( )</b> methods.\n",
    "\n",
    "3. Within the 'with open()' statement that opens the csv file, <b>write a for-loop</b> that iterates through every line in the csv file. The for-loop should be indented within the 'with open()' statement. (First line of for-loop code provided)\n",
    "\n",
    "4. In the for-loop, save the colum information for each of the 4 colums (roster_randomid, url, created_at, ip). <i>Hint, hint!</i>: Use indexing.\n",
    "\n",
    "5. Within the for-loop, print the url variable you created. This will help us check whether our for-loop works."
   ]
  },
  {
   "cell_type": "code",
   "execution_count": null,
   "metadata": {},
   "outputs": [],
   "source": [
    "# Importing modules\n",
    "import os\n",
    "import csv\n",
    "\n",
    "# Initializing\n",
    "# we are going to put each entry in a list as a variable\n",
    "\n",
    "\n",
    "url_list = []\n",
    "ts_list = []\n",
    "ip_list  = []\n",
    "\n",
    "# Opening our csv file, 104500.csv. \n",
    "# Note that I am using method 2, where my data was stored in a separate folder\n",
    "# so I had to create a variable, csv_file, which contained the folder path and csv file.\n",
    "\n",
    "with open('104500.csv', 'r') as f:\n",
    "    reader = csv.reader(f, delimiter=\",\")\n",
    "    header = reader.next() #  We need to add this in order to pass the header\n",
    "\n",
    "# Writing a for-loop within the `with` statement. Note that it is indented.\n",
    "# `line` is our psuedo-variable that signifies each row found in our variable 'reader'\n",
    "\n",
    "    for line in reader: \n",
    "        url_list = line[1]\n",
    "        ts_list = line[3]\n",
    "        ip_list = line[5]\n",
    "        print url_list"
   ]
  },
  {
   "cell_type": "markdown",
   "metadata": {},
   "source": [
    "<br><br>\n",
    "## Part 1/2 of our For-Loop\n",
    "### Writing For-Loop, which will\n",
    "#### 1) Create an empty dictionary called 'data'. This will store our key-value pairs. The key will be random id, the values will be the data colums (New Step)\n",
    "#### 2) Create an empty list where we will store the data colums\n",
    "#### 3) Create an empty list where we will store the randomids (New Step)\n",
    "#### 4) Get the paths of our 4 csv files using a for-loop Withing this for-loop, get randomid. (New Step)\n",
    "#### 5) Open each csv file\n",
    "#### 6) Write a for loop that appends the colum data in the empty lists (url, timestamp, ip)\n",
    "#### 7) For our dictionary, 'id', assign randomid as the key and the data columns  stored as lists as values (New Step)\n",
    "\n",
    "\n"
   ]
  },
  {
   "cell_type": "markdown",
   "metadata": {},
   "source": [
    "<br><br>\n",
    "First, import the modules we know we will need (os and csv)<br>\n",
    "1 - Creating empty dictionary called 'data'. This will store our key-value pairs. The key will be random id, the values will be the data colums.<br>\n",
    "2 - Creating empty list where we will store our data colums (urls, timestamp, ips)<br>\n",
    "3 - Creating empty list where we will store randomids, called 'rid'<br>"
   ]
  },
  {
   "cell_type": "code",
   "execution_count": null,
   "metadata": {},
   "outputs": [],
   "source": [
    "# Importing modules\n",
    "import os\n",
    "import csv\n",
    "\n",
    "# 1) empty dictionary\n",
    "data = {}\n",
    "\n",
    "# 2) Create empty list where we will store the data colums\n",
    "url_list = []\n",
    "ts_list = []\n",
    "ip_list  = []\n",
    "\n",
    "# 3) Create an empty list where we will store the randomids\n",
    "rid = []\n"
   ]
  },
  {
   "cell_type": "markdown",
   "metadata": {},
   "source": [
    "<br><br>\n",
    "4  - Using a for-loop to read in file path and file names for each of the 4 csv files, and also getting the randomids"
   ]
  },
  {
   "cell_type": "code",
   "execution_count": null,
   "metadata": {},
   "outputs": [],
   "source": [
    "# 4) For-loop for reading in csv files and getting randomids\n",
    "\n",
    "# We first have to save the file path where we have our csv files\n",
    "dataDir = \"/Volumes/GoogleDrive/My Drive/Python Workspace/Python-for-Data-Science-Workshop/s6data\"\n",
    "\n",
    "for files in os.listdir(dataDir):\n",
    "    rid = (files.split(\".\")[0]) # Getting randomid\n",
    "    print rid\n",
    "    csvFiles = os.path.join(dataDir, files)\n",
    "    print csvFiles\n",
    "\n"
   ]
  },
  {
   "cell_type": "code",
   "execution_count": null,
   "metadata": {},
   "outputs": [],
   "source": [
    "# checking\n",
    "# remember, we are not appending the data just yet. \n",
    "print (rid)"
   ]
  },
  {
   "cell_type": "code",
   "execution_count": null,
   "metadata": {},
   "outputs": [],
   "source": [
    "# Image for reference\n",
    "Image(filename='images/clickstreamdata2.png') "
   ]
  },
  {
   "cell_type": "markdown",
   "metadata": {},
   "source": [
    "<br><br>\n",
    "5 - Open each csv file <br>\n",
    "6 - Write for-loop the store the columns (url, timestamp, ip) in a list"
   ]
  },
  {
   "cell_type": "code",
   "execution_count": null,
   "metadata": {},
   "outputs": [],
   "source": [
    "import os\n",
    "import csv\n",
    "\n",
    "# 1) empty dictionary\n",
    "data = {}\n",
    "\n",
    "# 2) Create empty list where we will store the data colums\n",
    "url_list = []\n",
    "ts_list = []\n",
    "ip_list  = []\n",
    "\n",
    "# 3) Create an empty list where we will store the randomids\n",
    "rid = []\n",
    "\n",
    "# 4) Writing for-loop to access each csv file\n",
    "\n",
    "dataDir = \"/Volumes/GoogleDrive/My Drive/Python Workspace/Python-for-Data-Science-Workshop/s6data\"\n",
    "\n",
    "for files in os.listdir(dataDir):\n",
    "    if not files.startswith('.') and not files.startswith(\"Icon\"): # excluding .ipynb_checkpoints and 'Icon' files\n",
    "\n",
    "        csvFiles = os.path.join(dataDir, files)\n",
    "\n",
    "        # storing randomid\n",
    "        rid = (files.split(\".\")[0])\n",
    "\n",
    "    # 5) Open each csv file\n",
    "    # This is the same code form last week, minus appending the rid\n",
    "    # Also notice that this code is indented\n",
    "\n",
    "        with open(csvFiles, 'r') as f:\n",
    "            reader = csv.reader(f, delimiter=\",\")\n",
    "            header = reader.next()\n",
    "\n",
    "    #6) For-loop that appends colum data in a list\n",
    "            for line in reader: \n",
    "\n",
    "                url = line[1]\n",
    "                ts = line[3]\n",
    "                ip = line[5]\n",
    "\n",
    "                url_list.append(url)\n",
    "                ts_list.append(ts)\n",
    "                ip_list.append(ip)\n",
    "\n",
    "\n",
    "            "
   ]
  },
  {
   "cell_type": "code",
   "execution_count": null,
   "metadata": {},
   "outputs": [],
   "source": [
    "# If you get this message, you need to write a script where you ignore the file 'ipynb_checkpoints'\n",
    "Image(filename='images/ipynb_error.png') "
   ]
  },
  {
   "cell_type": "code",
   "execution_count": null,
   "metadata": {},
   "outputs": [],
   "source": [
    "# checking \n",
    "print rid"
   ]
  },
  {
   "cell_type": "markdown",
   "metadata": {},
   "source": [
    "<br><br>\n",
    "7 - Saving student data into a dictionary"
   ]
  },
  {
   "cell_type": "code",
   "execution_count": null,
   "metadata": {},
   "outputs": [],
   "source": [
    "import os\n",
    "import csv\n",
    "\n",
    "\n",
    "data = {}\n",
    "\n",
    "url_list = []\n",
    "ts_list = []\n",
    "ip_list  = []\n",
    "\n",
    "rid = []\n",
    "\n",
    "\n",
    "dataDir = \"/Volumes/GoogleDrive/My Drive/Python Workspace/Python-for-Data-Science-Workshop/s6data\"\n",
    "\n",
    "for files in os.listdir(dataDir):\n",
    "    if not files.startswith('.') and not files.startswith(\"Icon\"): # excluding .ipynb_checkpoints and 'Icon' files\n",
    "        csvFiles = os.path.join(dataDir, files)\n",
    "        rid = (files.split(\".\")[0])\n",
    "\n",
    "        with open(csvFiles, 'r') as f:\n",
    "            reader = csv.reader(f, delimiter=\",\")\n",
    "            header = reader.next()\n",
    "\n",
    "            for line in reader: \n",
    "                url = line[1]\n",
    "                ts = line[3]\n",
    "                ip = line[5]\n",
    "\n",
    "                url_list.append(url)\n",
    "                ts_list.append(ts)\n",
    "                ip_list.append(ip)\n",
    "\n",
    "\n",
    "            \n",
    "# 7) Saving data to dictionary:\n",
    "\n",
    "        studentData = {\"urls\":url_list, \"ts\":ts_list, \"ips\":ip_list}\n",
    "\n",
    "        # Save \"studenData\" dict (each student's data) to the \"data\" dictionary\n",
    "        # where the key is the student's random ID \n",
    "        data[rid] = studentData\n",
    "            "
   ]
  },
  {
   "cell_type": "code",
   "execution_count": null,
   "metadata": {},
   "outputs": [],
   "source": [
    "data.keys()"
   ]
  },
  {
   "cell_type": "code",
   "execution_count": null,
   "metadata": {},
   "outputs": [],
   "source": [
    "# Try accessing a single student's data using \"data\" dictionary and student's random id\n",
    "data['106707']['urls']"
   ]
  },
  {
   "cell_type": "markdown",
   "metadata": {},
   "source": [
    "# BREAK !\n"
   ]
  },
  {
   "cell_type": "markdown",
   "metadata": {},
   "source": [
    "<br><br>\n",
    "### Part 2\n",
    "\n",
    "#### 8. Adding the url categories\n",
    "#### 9. Using Date-Time module for the timestamp column\n",
    "#### 10. using Numpy Module to export data into a matrix"
   ]
  },
  {
   "cell_type": "code",
   "execution_count": null,
   "metadata": {},
   "outputs": [],
   "source": [
    "# Image for reference\n",
    "Image(filename='images/clickstreamdata2.png') "
   ]
  },
  {
   "cell_type": "code",
   "execution_count": null,
   "metadata": {},
   "outputs": [],
   "source": [
    "# example variables we use to see if function works\n",
    "url_file = \"https://canvas.eee.uci.edu/courses/2230/files/742190?module_item_id=62039\" \n",
    "url_assignment = \"https://canvas.eee.uci.edu/courses/2230/assignments/49367/submissions\"  \n",
    "url_home = \"https://canvas.eee.uci.edu/courses/2230\""
   ]
  },
  {
   "cell_type": "markdown",
   "metadata": {},
   "source": [
    "8 - Adding the url categories using a function"
   ]
  },
  {
   "cell_type": "code",
   "execution_count": null,
   "metadata": {},
   "outputs": [],
   "source": [
    "def get_cats_from_url(url):\n",
    "    if len(url.split('/')) < 6:\n",
    "        return \"homepage\"\n",
    "    else:\n",
    "        return url.split('/')[5]"
   ]
  },
  {
   "cell_type": "code",
   "execution_count": null,
   "metadata": {},
   "outputs": [],
   "source": [
    "print get_cats_from_url(url_file)\n",
    "print get_cats_from_url(url_assignment)\n",
    "print get_cats_from_url(url_home)"
   ]
  },
  {
   "cell_type": "code",
   "execution_count": null,
   "metadata": {},
   "outputs": [],
   "source": [
    "import os\n",
    "import csv\n",
    "\n",
    "\n",
    "data = {}\n",
    "\n",
    "url_list = []\n",
    "ts_list = []\n",
    "ip_list  = []\n",
    "\n",
    "cat_list = [] # Creating new variable, which will store the url categories\n",
    "\n",
    "rid = []\n",
    "\n",
    "\n",
    "dataDir = \"/Volumes/GoogleDrive/My Drive/Python Workspace/Python-for-Data-Science-Workshop/s6data\"\n",
    "\n",
    "for files in os.listdir(dataDir):\n",
    "    if not files.startswith('.') and not files.startswith(\"Icon\"): # excluding .ipynb_checkpoints and 'Icon' files\n",
    "        csvFiles = os.path.join(dataDir, files)\n",
    "        rid = (files.split(\".\")[0])\n",
    "\n",
    "        with open(csvFiles, 'r') as f:\n",
    "            reader = csv.reader(f, delimiter=\",\")\n",
    "            header = reader.next()\n",
    "\n",
    "            for line in reader: \n",
    "                url = line[1]\n",
    "                cat = get_cats_from_url(url) # using our categories function\n",
    "                ts = line[3]\n",
    "                ip = line[5]\n",
    "\n",
    "                url_list.append(url)\n",
    "                cat_list.append(cat)\n",
    "                ts_list.append(ts)\n",
    "                ip_list.append(ip)\n",
    "\n",
    "\n",
    "        studentData = {\"urls\":url_list, \"ts\":ts_list, \"ips\":ip_list, \"cats\": cat_list} # 8) adding categories into the dictionary\n",
    "\n",
    "        # Save \"studenData\" dict (each student's data) to the \"data\" dictionary\n",
    "        # where the key is the student's random ID \n",
    "        data[rid] = studentData\n",
    "            "
   ]
  },
  {
   "cell_type": "code",
   "execution_count": null,
   "metadata": {},
   "outputs": [],
   "source": [
    "data['106707']['cats']"
   ]
  },
  {
   "cell_type": "markdown",
   "metadata": {},
   "source": [
    "<br><br>\n",
    "9 - Datetime module, and timedelta"
   ]
  },
  {
   "cell_type": "code",
   "execution_count": null,
   "metadata": {},
   "outputs": [],
   "source": [
    "# Importing module \n",
    "from datetime import datetime, timedelta"
   ]
  },
  {
   "cell_type": "markdown",
   "metadata": {},
   "source": [
    "### datetime\n",
    "##### Datetime module allows us to convert string timestamp data to a date-time object"
   ]
  },
  {
   "cell_type": "code",
   "execution_count": null,
   "metadata": {},
   "outputs": [],
   "source": [
    "dt1 = datetime(2016, 7, 20)\n",
    "print dt1"
   ]
  },
  {
   "cell_type": "markdown",
   "metadata": {},
   "source": [
    "Extracting date-time information and creating a datetime object\n",
    "More information at : https://docs.python.org/2/library/datetime.html#strftime-and-strptime-behavior"
   ]
  },
  {
   "cell_type": "code",
   "execution_count": null,
   "metadata": {},
   "outputs": [],
   "source": [
    "data['106707']['ts']"
   ]
  },
  {
   "cell_type": "code",
   "execution_count": null,
   "metadata": {},
   "outputs": [],
   "source": [
    "example_date = \"2016-07-31T21:26:28Z\"\n",
    "dt_format = \"%Y-%m-%dT%H:%M:%SZ\"\n",
    "\n",
    "# using the .striptime method \n",
    "dt2 = datetime.strptime(example_date, dt_format)"
   ]
  },
  {
   "cell_type": "code",
   "execution_count": null,
   "metadata": {},
   "outputs": [],
   "source": [
    "\n",
    "print dt2\n",
    "print type(dt2)"
   ]
  },
  {
   "cell_type": "markdown",
   "metadata": {},
   "source": [
    "### timedelta\n",
    "##### timedelta module allows to express the differences between two date-time instances"
   ]
  },
  {
   "cell_type": "code",
   "execution_count": null,
   "metadata": {},
   "outputs": [],
   "source": [
    "print dt1\n",
    "print dt2"
   ]
  },
  {
   "cell_type": "code",
   "execution_count": null,
   "metadata": {},
   "outputs": [],
   "source": [
    "dt_delta = dt2-dt1"
   ]
  },
  {
   "cell_type": "code",
   "execution_count": null,
   "metadata": {},
   "outputs": [],
   "source": [
    "print dt_delta"
   ]
  },
  {
   "cell_type": "code",
   "execution_count": null,
   "metadata": {},
   "outputs": [],
   "source": [
    "diff_days = dt_delta.days\n",
    "\n",
    "diff_secs = dt_delta.seconds\n"
   ]
  },
  {
   "cell_type": "code",
   "execution_count": null,
   "metadata": {},
   "outputs": [],
   "source": [
    "print diff_days\n",
    "print diff_secs"
   ]
  },
  {
   "cell_type": "markdown",
   "metadata": {},
   "source": [
    "<br><br>\n",
    "9 - Adding datetime format to ts_list"
   ]
  },
  {
   "cell_type": "code",
   "execution_count": null,
   "metadata": {},
   "outputs": [],
   "source": [
    "import os\n",
    "import csv\n",
    "from datetime import datetime, timedelta # importing datetime module\n",
    "\n",
    "data = {}\n",
    "\n",
    "dt_format = \"%Y-%m-%dT%H:%M:%SZ\" # date-time format\n",
    "\n",
    "\n",
    "url_list = []\n",
    "ts_list = []\n",
    "ip_list  = []\n",
    "\n",
    "cat_list = [] # Creating new variable, which will store the url categories\n",
    "\n",
    "rid = []\n",
    "\n",
    "\n",
    "dataDir = \"/Volumes/GoogleDrive/My Drive/Python Workspace/Python-for-Data-Science-Workshop/s6data\"\n",
    "\n",
    "for files in os.listdir(dataDir):\n",
    "    if not files.startswith('.') and not files.startswith(\"Icon\"): # excluding .ipynb_checkpoints and 'Icon' files\n",
    "        csvFiles = os.path.join(dataDir, files)\n",
    "        rid = (files.split(\".\")[0])\n",
    "\n",
    "        with open(csvFiles, 'r') as f:\n",
    "            reader = csv.reader(f, delimiter=\",\")\n",
    "            header = reader.next()\n",
    "\n",
    "            for line in reader: \n",
    "                url = line[1]\n",
    "                cat = get_cats_from_url(url)\n",
    "                ts = datetime.strptime(line[3], dt_format) # using .strptime method to put this variable in date-time format\n",
    "                ip = line[5]\n",
    "\n",
    "                url_list.append(url)\n",
    "                cat_list.append(cat)\n",
    "                ts_list.append(ts)\n",
    "                ip_list.append(ip)\n",
    "\n",
    "\n",
    "        studentData = {\"urls\":url_list, \"ts\":ts_list, \"ips\":ip_list, \"cats\": cat_list} # 8) adding categories into the dictionary\n",
    "\n",
    "        # Save \"studenData\" dict (each student's data) to the \"data\" dictionary\n",
    "        # where the key is the student's random ID \n",
    "        data[rid] = studentData"
   ]
  },
  {
   "cell_type": "code",
   "execution_count": null,
   "metadata": {},
   "outputs": [],
   "source": [
    "type(ts)"
   ]
  },
  {
   "cell_type": "markdown",
   "metadata": {},
   "source": [
    "<br><br>\n",
    "### 10. Using Numpy module to convert data to matrix"
   ]
  },
  {
   "cell_type": "code",
   "execution_count": null,
   "metadata": {},
   "outputs": [],
   "source": [
    "import numpy as np"
   ]
  },
  {
   "cell_type": "markdown",
   "metadata": {},
   "source": [
    "#### np.array module\n",
    "np.array is useful when initialization is needed<br>"
   ]
  },
  {
   "cell_type": "code",
   "execution_count": null,
   "metadata": {},
   "outputs": [],
   "source": [
    "list_2d= [[1,2,3], [4,5,6]]\n",
    "# list_2d[0][0]\n",
    "np.array(list_2d)"
   ]
  },
  {
   "cell_type": "markdown",
   "metadata": {},
   "source": [
    "#### .zeros and .ones modules\n",
    "np.zeros() : Initializing numpy arrays to zeros<br>\n",
    "np.ones() : Initializaing numpy arrays to ones<br>"
   ]
  },
  {
   "cell_type": "code",
   "execution_count": null,
   "metadata": {},
   "outputs": [],
   "source": [
    "np.zeros((10, 5))"
   ]
  },
  {
   "cell_type": "code",
   "execution_count": null,
   "metadata": {},
   "outputs": [],
   "source": [
    "np.ones((10, 5))"
   ]
  },
  {
   "cell_type": "markdown",
   "metadata": {},
   "source": [
    "#### Create an array for a single student first."
   ]
  },
  {
   "cell_type": "code",
   "execution_count": null,
   "metadata": {},
   "outputs": [],
   "source": []
  },
  {
   "cell_type": "code",
   "execution_count": null,
   "metadata": {},
   "outputs": [],
   "source": []
  }
 ],
 "metadata": {
  "kernelspec": {
   "display_name": "Python [default]",
   "language": "python",
   "name": "python2"
  },
  "language_info": {
   "codemirror_mode": {
    "name": "ipython",
    "version": 2
   },
   "file_extension": ".py",
   "mimetype": "text/x-python",
   "name": "python",
   "nbconvert_exporter": "python",
   "pygments_lexer": "ipython2",
   "version": "2.7.13"
  }
 },
 "nbformat": 4,
 "nbformat_minor": 2
}
