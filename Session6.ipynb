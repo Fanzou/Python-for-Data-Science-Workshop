{
 "cells": [
  {
   "cell_type": "markdown",
   "metadata": {},
   "source": [
    "# Python for Data Science Workshop - Spring 2018\n",
    "May 31, 2018\n",
    "\n",
    "Instructor: Fernando Rodriguez\n",
    "\n",
    "Clickstream examples and exercises provided by Jihyun Park\n",
    "\n",
    "## Session 6: Dictionaries, Accessing Folders, Reading in Files"
   ]
  },
  {
   "cell_type": "markdown",
   "metadata": {},
   "source": [
    "<br>After 5 sessions, we are now able to create functions that categorize clickstream urls.\n",
    "\n",
    "Congrats on this accomplishment!"
   ]
  },
  {
   "cell_type": "code",
   "execution_count": 3,
   "metadata": {},
   "outputs": [],
   "source": [
    "def get_cats_from_url(url):\n",
    "    if len(url.split('/')) < 6:\n",
    "        return \"homepage\"\n",
    "    else:\n",
    "        return url.split('/')[5]"
   ]
  },
  {
   "cell_type": "markdown",
   "metadata": {},
   "source": [
    "<br>The next 3 sessions will focus on creating dictionaries, reading in multiple files using for-loops, and converting this information into a dataset.\n",
    "\n",
    "By the end of Session 8, you will be able to produce the following lines of code that accomplish these tasks."
   ]
  },
  {
   "cell_type": "code",
   "execution_count": 1,
   "metadata": {},
   "outputs": [
    {
     "ename": "NameError",
     "evalue": "name 'os' is not defined",
     "output_type": "error",
     "traceback": [
      "\u001b[0;31m---------------------------------------------------------------------------\u001b[0m",
      "\u001b[0;31mNameError\u001b[0m                                 Traceback (most recent call last)",
      "\u001b[0;32m<ipython-input-1-3aeae5a42a0a>\u001b[0m in \u001b[0;36m<module>\u001b[0;34m()\u001b[0m\n\u001b[1;32m      2\u001b[0m \u001b[0mdt_format\u001b[0m \u001b[0;34m=\u001b[0m \u001b[0;34m\"%Y-%m-%dT%H:%M:%SZ\"\u001b[0m\u001b[0;34m\u001b[0m\u001b[0m\n\u001b[1;32m      3\u001b[0m \u001b[0;34m\u001b[0m\u001b[0m\n\u001b[0;32m----> 4\u001b[0;31m \u001b[0;32mfor\u001b[0m \u001b[0mfilename\u001b[0m \u001b[0;32min\u001b[0m \u001b[0mos\u001b[0m\u001b[0;34m.\u001b[0m\u001b[0mlistdir\u001b[0m\u001b[0;34m(\u001b[0m\u001b[0mdeidentified_data_dir\u001b[0m\u001b[0;34m)\u001b[0m\u001b[0;34m:\u001b[0m\u001b[0;34m\u001b[0m\u001b[0m\n\u001b[0m\u001b[1;32m      5\u001b[0m \u001b[0;34m\u001b[0m\u001b[0m\n\u001b[1;32m      6\u001b[0m     \u001b[0mcsv_file\u001b[0m \u001b[0;34m=\u001b[0m \u001b[0mos\u001b[0m\u001b[0;34m.\u001b[0m\u001b[0mpath\u001b[0m\u001b[0;34m.\u001b[0m\u001b[0mjoin\u001b[0m\u001b[0;34m(\u001b[0m\u001b[0mdeidentified_data_dir\u001b[0m\u001b[0;34m,\u001b[0m \u001b[0mfilename\u001b[0m\u001b[0;34m)\u001b[0m\u001b[0;34m\u001b[0m\u001b[0m\n",
      "\u001b[0;31mNameError\u001b[0m: name 'os' is not defined"
     ]
    }
   ],
   "source": [
    "data = {}\n",
    "dt_format = \"%Y-%m-%dT%H:%M:%SZ\"\n",
    "\n",
    "for filename in os.listdir(deidentified_data_dir):\n",
    "    \n",
    "    csv_file = os.path.join(deidentified_data_dir, filename)\n",
    "\n",
    "    url_list =[]\n",
    "    category_list = []\n",
    "    time_list = []\n",
    "    ip_list = []\n",
    "    \n",
    "    rid = int( filename.split(\".\")[0]  )\n",
    "    \n",
    "    with open(csv_file, 'r') as f:\n",
    "        reader = csv.reader(f, delimiter=\",\")\n",
    "        header = reader.next()\n",
    "        \n",
    "        for line in reader:\n",
    "            rid = int(line[0])\n",
    "            url = line[1]\n",
    "            timestamp = datetime.strptime(line[3], dt_format)\n",
    "            ip = line[5]\n",
    "            cat = get_cats_from_url(url)\n",
    "            \n",
    "            url_list.append(url)\n",
    "            category_list.append(cat)\n",
    "            time_list.append(timestamp)\n",
    "            ip_list.append(ip)\n",
    "    \n",
    "    student_data = {\"url\":url_list, \"created_at\":time_list, \"ip\":ip_list, \"category\":category_list}\n",
    "\n",
    "    data[rid] = student_data"
   ]
  },
  {
   "cell_type": "markdown",
   "metadata": {},
   "source": [
    "<br><br>\n",
    "## Dictionaries\n",
    "\n",
    "First let's review what lists do. Lists are ordered set of objects, which you can index. "
   ]
  },
  {
   "cell_type": "code",
   "execution_count": 4,
   "metadata": {},
   "outputs": [
    {
     "name": "stdout",
     "output_type": "stream",
     "text": [
      "[4, 7, 2, 55, 1, 3, 13]\n",
      "55\n"
     ]
    }
   ],
   "source": [
    "numList = [4, 7, 2, 55, 1, 3, 13]\n",
    "print numList\n",
    "print numList[3]"
   ]
  },
  {
   "cell_type": "markdown",
   "metadata": {},
   "source": [
    "<br><b>Dictionaires</b>, on the other hand, are a set of unordered objects. This means you cannot slice or index them.\n",
    "\n",
    "What really sets dictionaries apart from lists is that these objects have key-value pairs. \n",
    "\n",
    "A key is a associated with a value, or set of values. "
   ]
  },
  {
   "cell_type": "markdown",
   "metadata": {},
   "source": [
    "<br>\n",
    "#### Creating Empty Dictionaires\n",
    "We can build a dictionary that maps English words (our keys) to Spanish words (our values).\n",
    "\n",
    "The fuction <b>dict()</b> creates a new empty dictionary with no items."
   ]
  },
  {
   "cell_type": "code",
   "execution_count": 6,
   "metadata": {},
   "outputs": [
    {
     "name": "stdout",
     "output_type": "stream",
     "text": [
      "{}\n"
     ]
    },
    {
     "data": {
      "text/plain": [
       "dict"
      ]
     },
     "execution_count": 6,
     "metadata": {},
     "output_type": "execute_result"
    }
   ],
   "source": [
    "eng2sp = dict()\n",
    "print eng2sp\n",
    "type(eng2sp)"
   ]
  },
  {
   "cell_type": "markdown",
   "metadata": {},
   "source": [
    "We can also create empty dictionaries using curly brackets {}"
   ]
  },
  {
   "cell_type": "code",
   "execution_count": 9,
   "metadata": {},
   "outputs": [
    {
     "name": "stdout",
     "output_type": "stream",
     "text": [
      "{}\n"
     ]
    },
    {
     "data": {
      "text/plain": [
       "dict"
      ]
     },
     "execution_count": 9,
     "metadata": {},
     "output_type": "execute_result"
    }
   ],
   "source": [
    "eng2sp2 = {}\n",
    "print eng2sp2\n",
    "type(eng2sp2)"
   ]
  },
  {
   "cell_type": "markdown",
   "metadata": {},
   "source": [
    "<br>\n",
    "#### Creating an English-to-Spanish dictionary\n",
    "\n",
    "You can use curly brackets {} to create a dictionary and assign key-value pairs."
   ]
  },
  {
   "cell_type": "markdown",
   "metadata": {},
   "source": [
    "The English words will be our keys, the Spanish words will be our values.\n",
    "\n",
    "The 'one' is our key, the 'uno' is our value. Key value pairs are seperated by a colon :"
   ]
  },
  {
   "cell_type": "code",
   "execution_count": 11,
   "metadata": {},
   "outputs": [
    {
     "name": "stdout",
     "output_type": "stream",
     "text": [
      "{'one': 'uno'}\n"
     ]
    }
   ],
   "source": [
    "eng2sp = {'one' : 'uno'}\n",
    "print eng2sp"
   ]
  },
  {
   "cell_type": "markdown",
   "metadata": {},
   "source": [
    "You can add items using square brackets"
   ]
  },
  {
   "cell_type": "markdown",
   "metadata": {},
   "source": [
    "You can create a dictionary with more than one item.\n",
    "\n",
    "We seperate each key-value pair with a comma ,"
   ]
  },
  {
   "cell_type": "code",
   "execution_count": 12,
   "metadata": {},
   "outputs": [
    {
     "name": "stdout",
     "output_type": "stream",
     "text": [
      "{'three': 'tres', 'two': 'dos', 'one': 'uno'}\n"
     ]
    }
   ],
   "source": [
    "eng2sp = {'one' : 'uno', 'two' : 'dos', 'three' : 'tres'}\n",
    "print eng2sp\n"
   ]
  },
  {
   "cell_type": "markdown",
   "metadata": {},
   "source": [
    "<br>\n",
    "#### Adding items to our exsisting English-to-Spanish dictionary"
   ]
  },
  {
   "cell_type": "markdown",
   "metadata": {},
   "source": [
    "You can keep adding key-value pairs even after the dictionary has been created.\n",
    "\n",
    "Use the square bracket method [] to add items to an already exsisting dictionary."
   ]
  },
  {
   "cell_type": "code",
   "execution_count": 15,
   "metadata": {},
   "outputs": [
    {
     "name": "stdout",
     "output_type": "stream",
     "text": [
      "{'four': 'cuatro', 'three': 'tres', 'two': 'dos', 'one': 'uno'}\n"
     ]
    }
   ],
   "source": [
    "eng2sp['four'] = 'cuatro'\n",
    "print eng2sp"
   ]
  },
  {
   "cell_type": "markdown",
   "metadata": {},
   "source": [
    "using curly brackets {} will overwrite our exsisting dictionary"
   ]
  },
  {
   "cell_type": "markdown",
   "metadata": {},
   "source": [
    "<br>\n",
    "#### Dictionaries are paired but unordered"
   ]
  },
  {
   "cell_type": "code",
   "execution_count": 16,
   "metadata": {},
   "outputs": [
    {
     "name": "stdout",
     "output_type": "stream",
     "text": [
      "{'four': 'cuartro', 'three': 'tres', 'five': 'cinco', 'two': 'dos', 'one': 'uno'}\n"
     ]
    }
   ],
   "source": [
    "eng2sp = {'one': 'uno', 'two' : 'dos', 'three' : 'tres', 'four' : 'cuartro', 'five' : 'cinco'}\n",
    "print (eng2sp)"
   ]
  },
  {
   "cell_type": "markdown",
   "metadata": {},
   "source": [
    "You'll notice that your key-value pairs are not in the order you entered them in.\n",
    "\n",
    "Because dictionaires are unordered, the elements of a dictionary cannot be indexed."
   ]
  },
  {
   "cell_type": "code",
   "execution_count": 17,
   "metadata": {},
   "outputs": [
    {
     "ename": "KeyError",
     "evalue": "1",
     "output_type": "error",
     "traceback": [
      "\u001b[0;31m---------------------------------------------------------------------------\u001b[0m",
      "\u001b[0;31mKeyError\u001b[0m                                  Traceback (most recent call last)",
      "\u001b[0;32m<ipython-input-17-17944fd8ab6d>\u001b[0m in \u001b[0;36m<module>\u001b[0;34m()\u001b[0m\n\u001b[0;32m----> 1\u001b[0;31m \u001b[0;32mprint\u001b[0m \u001b[0meng2sp\u001b[0m\u001b[0;34m[\u001b[0m\u001b[0;36m1\u001b[0m\u001b[0;34m]\u001b[0m \u001b[0;31m# you get an error\u001b[0m\u001b[0;34m\u001b[0m\u001b[0m\n\u001b[0m",
      "\u001b[0;31mKeyError\u001b[0m: 1"
     ]
    }
   ],
   "source": [
    "# print eng2sp[1] # you get an error"
   ]
  },
  {
   "cell_type": "markdown",
   "metadata": {},
   "source": [
    "Instead, you could use the keys to look up corresponding values"
   ]
  },
  {
   "cell_type": "code",
   "execution_count": 18,
   "metadata": {},
   "outputs": [
    {
     "name": "stdout",
     "output_type": "stream",
     "text": [
      "cuartro\n"
     ]
    }
   ],
   "source": [
    "print eng2sp['four']"
   ]
  },
  {
   "cell_type": "markdown",
   "metadata": {},
   "source": [
    "the len() function works on dictionaries and returns number of key-value pairs"
   ]
  },
  {
   "cell_type": "code",
   "execution_count": 19,
   "metadata": {},
   "outputs": [
    {
     "name": "stdout",
     "output_type": "stream",
     "text": [
      "5\n"
     ]
    }
   ],
   "source": [
    "print len(eng2sp)"
   ]
  },
  {
   "cell_type": "markdown",
   "metadata": {},
   "source": [
    "the `in` operator tells you whether something appears as a value in the dictionary."
   ]
  },
  {
   "cell_type": "code",
   "execution_count": 21,
   "metadata": {},
   "outputs": [
    {
     "data": {
      "text/plain": [
       "False"
      ]
     },
     "execution_count": 21,
     "metadata": {},
     "output_type": "execute_result"
    }
   ],
   "source": [
    "'seven' in eng2sp"
   ]
  },
  {
   "cell_type": "markdown",
   "metadata": {},
   "source": [
    "<br>\n",
    "#### Dictionaires can have more than 1 value to a key\n"
   ]
  },
  {
   "cell_type": "code",
   "execution_count": 30,
   "metadata": {},
   "outputs": [
    {
     "name": "stdout",
     "output_type": "stream",
     "text": [
      "{'key2': ['value 4', 'value 5'], 'key1': ['value 1', 'value 2', 'value 3']}\n",
      "['value 1', 'value 2', 'value 3']\n",
      "True\n",
      "False\n"
     ]
    }
   ],
   "source": [
    "multiVal = {'key1' : ['value 1', 'value 2', 'value 3'], 'key2' : ['value 4', 'value 5']}\n",
    "\n",
    "print multiVal\n",
    "type(multiVal)\n",
    "\n",
    "print multiVal['key1']\n",
    "\n",
    "print 'key2' in multiVal\n",
    "print 'key3' in multiVal\n"
   ]
  },
  {
   "cell_type": "markdown",
   "metadata": {},
   "source": [
    "Key-value pairs can be a mix of integers, floats, and strings"
   ]
  },
  {
   "cell_type": "code",
   "execution_count": 36,
   "metadata": {},
   "outputs": [
    {
     "name": "stdout",
     "output_type": "stream",
     "text": [
      "{1: 4, 2: 'b', 'three': 3.23}\n",
      "3.23\n"
     ]
    }
   ],
   "source": [
    "mixedDict = {1 : 4, 2 : \"b\", \"three\" : 3.23}\n",
    "print mixedDict\n",
    "print mixedDict[\"three\"]"
   ]
  },
  {
   "cell_type": "code",
   "execution_count": 37,
   "metadata": {},
   "outputs": [
    {
     "data": {
      "text/plain": [
       "True"
      ]
     },
     "execution_count": 37,
     "metadata": {},
     "output_type": "execute_result"
    }
   ],
   "source": [
    "\"three\" in mixedDict"
   ]
  },
  {
   "cell_type": "markdown",
   "metadata": {},
   "source": [
    "<br>\n",
    "#### More ways to define dictionaries"
   ]
  },
  {
   "cell_type": "code",
   "execution_count": 38,
   "metadata": {},
   "outputs": [],
   "source": [
    "# 1\n",
    "d = {\"a\":[1,2,3], \"b\":[4,5,6]}\n",
    "\n",
    "# 2\n",
    "d = {} # equivalent to d = dict()\n",
    "d[\"a\"] = [1,2,3]\n",
    "d[\"b\"] = [4,5,6]\n"
   ]
  },
  {
   "cell_type": "markdown",
   "metadata": {},
   "source": [
    "<br>\n",
    "### Exercise\n",
    "Store the information in the table into a dictionary.\n",
    "\n",
    "This dictionary will have two keys: <b>url</b> and <b>created_at</b>.\n",
    "\n",
    "The actual urls and the two timestamps are the <b>`values`</b>.\n",
    "\n",
    "| random_id  | URL           | created_at  |\n",
    "| - |------------- | ----|\n",
    "| 123  |  https://canvas.eee.uci.edu/courses/2230/files |2016-07-24T21:36:07Z |\n",
    "| 123  |  https://canvas.eee.uci.edu/courses/2230/    |2016-08-01T17:29:47Z |"
   ]
  },
  {
   "cell_type": "code",
   "execution_count": 39,
   "metadata": {},
   "outputs": [],
   "source": [
    "url1  = dict()\n",
    "url1[\"url\"] = [\"https://canvas.eee.uci.edu/courses/2230/files\", \"https://canvas.eee.uci.edu/courses/2230/\"]\n",
    "url1[\"createdat\"] = [\"2016-07-24T21:36:07Z\", \"2016-08-01T17:29:47Z\"]"
   ]
  },
  {
   "cell_type": "code",
   "execution_count": 40,
   "metadata": {},
   "outputs": [
    {
     "name": "stdout",
     "output_type": "stream",
     "text": [
      "{'url': ['https://canvas.eee.uci.edu/courses/2230/files', 'https://canvas.eee.uci.edu/courses/2230/'], 'createdat': ['2016-07-24T21:36:07Z', '2016-08-01T17:29:47Z']}\n"
     ]
    }
   ],
   "source": [
    "print url1"
   ]
  },
  {
   "cell_type": "code",
   "execution_count": 41,
   "metadata": {},
   "outputs": [
    {
     "name": "stdout",
     "output_type": "stream",
     "text": [
      "['https://canvas.eee.uci.edu/courses/2230/files', 'https://canvas.eee.uci.edu/courses/2230/']\n"
     ]
    }
   ],
   "source": [
    "print url1[\"url\"]"
   ]
  },
  {
   "cell_type": "markdown",
   "metadata": {},
   "source": [
    "<br><br>\n",
    "## Accesssing Folders"
   ]
  },
  {
   "cell_type": "markdown",
   "metadata": {},
   "source": [
    "Python uses the <b>os</b> module to get around the fact that operating systems have differet path name conventions."
   ]
  },
  {
   "cell_type": "markdown",
   "metadata": {},
   "source": [
    "We have to import the os module to use it"
   ]
  },
  {
   "cell_type": "code",
   "execution_count": 42,
   "metadata": {},
   "outputs": [],
   "source": [
    "import os"
   ]
  },
  {
   "cell_type": "markdown",
   "metadata": {},
   "source": [
    "#### Getting current working directory\n",
    "\n",
    "Using os.getcwd() method\n",
    "\n",
    "This is usually the file path of where we are running this notebook."
   ]
  },
  {
   "cell_type": "code",
   "execution_count": 43,
   "metadata": {},
   "outputs": [
    {
     "data": {
      "text/plain": [
       "'/Volumes/GoogleDrive/My Drive/Python Workspace/Python-for-Data-Science-Workshop'"
      ]
     },
     "execution_count": 43,
     "metadata": {},
     "output_type": "execute_result"
    }
   ],
   "source": [
    "os.getcwd()"
   ]
  },
  {
   "cell_type": "markdown",
   "metadata": {},
   "source": [
    "Take a moment to add the csv files to your directory. I have created a seperate folder that has these files.\n",
    "\n",
    "<br>\n",
    "#### Storing folder paths\n",
    "If we have files in several different folders, we can store their paths in variables."
   ]
  },
  {
   "cell_type": "code",
   "execution_count": 44,
   "metadata": {},
   "outputs": [],
   "source": [
    "CurrentDir = \"/Volumes/GoogleDrive/My Drive/Python Workspace/Python-for-Data-Science-Workshop\"\n",
    "\n",
    "files = \"/Volumes/GoogleDrive/My Drive/Python Workspace/Python-for-Data-Science-Workshop/s6data\"\n"
   ]
  },
  {
   "cell_type": "markdown",
   "metadata": {},
   "source": [
    "#### Accessing files in folder paths\n",
    "We can see the different files in our folder paths by using the .listdir() method."
   ]
  },
  {
   "cell_type": "code",
   "execution_count": 53,
   "metadata": {},
   "outputs": [
    {
     "name": "stdout",
     "output_type": "stream",
     "text": [
      "['Session2.ipynb', 'images', '.ipynb_checkpoints', 'README.md', '.git', 'Session3.ipynb', 'Session4.ipynb', 'WorkingNotes.ipynb', 'Session5.ipynb', 'Session6.ipynb', 's6data', '104500.csv']\n"
     ]
    }
   ],
   "source": [
    "\n",
    "print os.listdir(CurrentDir)"
   ]
  },
  {
   "cell_type": "markdown",
   "metadata": {},
   "source": [
    "<br><br>\n",
    "## Reading in CSV Files"
   ]
  },
  {
   "cell_type": "markdown",
   "metadata": {},
   "source": [
    "We use the <b>csv</b> module to read in csv files."
   ]
  },
  {
   "cell_type": "code",
   "execution_count": 52,
   "metadata": {},
   "outputs": [],
   "source": [
    "import csv"
   ]
  },
  {
   "cell_type": "markdown",
   "metadata": {},
   "source": [
    "open() returns a file object and has two common arguments\n",
    "\n",
    "(filename, mode)\n",
    "\n",
    "mode <b>`r`</b> is for when the file will only be read"
   ]
  },
  {
   "cell_type": "code",
   "execution_count": 54,
   "metadata": {},
   "outputs": [
    {
     "data": {
      "text/plain": [
       "<open file '104500.csv', mode 'r' at 0x10fc426f0>"
      ]
     },
     "execution_count": 54,
     "metadata": {},
     "output_type": "execute_result"
    }
   ],
   "source": [
    "open(\"104500.csv\", \"r\")"
   ]
  },
  {
   "cell_type": "markdown",
   "metadata": {},
   "source": [
    "If you stored your csv files in a folder, you have to join the folder path and the name of the csv file.\n",
    "\n",
    "use the .path and .join method to save the file path and file name in a variable."
   ]
  },
  {
   "cell_type": "code",
   "execution_count": 55,
   "metadata": {},
   "outputs": [],
   "source": [
    "csv_file = os.path.join(files, '104500.csv')"
   ]
  },
  {
   "cell_type": "code",
   "execution_count": 56,
   "metadata": {},
   "outputs": [
    {
     "data": {
      "text/plain": [
       "<open file '/Volumes/GoogleDrive/My Drive/Python Workspace/Python-for-Data-Science-Workshop/s6data/104500.csv', mode 'r' at 0x10fc42780>"
      ]
     },
     "execution_count": 56,
     "metadata": {},
     "output_type": "execute_result"
    }
   ],
   "source": [
    "open(csv_file, \"r\")"
   ]
  },
  {
   "cell_type": "markdown",
   "metadata": {},
   "source": [
    "<br>\n",
    "#### Using the 'with' Statement\n",
    "\n",
    "With statements automatically close the file after the nested block of code. It helps with handling common preparation and cleanup tasks.\n",
    "\n",
    "#### csv.reader method\n",
    ".reader method returns the objects in a csv file which will iterate over lines\n",
    "\n",
    "usually has two common arguments. \n",
    "\n",
    "1) the csv file\n",
    "\n",
    "2) the delimiter\n",
    "    "
   ]
  },
  {
   "cell_type": "code",
   "execution_count": 58,
   "metadata": {},
   "outputs": [
    {
     "name": "stdout",
     "output_type": "stream",
     "text": [
      "['roster_randomid', 'url', 'action', 'created_at', 'interaction_seconds', 'remote_ip']\n",
      "['104500', 'https://canvas.eee.uci.edu/courses/2230/files/742190/download?download_frd=1', 'show', '2016-08-01T17:29:47Z', '', '70.209.201.77']\n",
      "['104500', 'https://canvas.eee.uci.edu/courses/2230/files/742190?module_item_id=62039', 'show', '2016-08-01T17:29:37Z', '', '70.209.201.77']\n",
      "['104500', 'https://canvas.eee.uci.edu/courses/2230/pages/5-box-solution-format?module_item_id=62400', 'show', '2016-08-01T17:29:25Z', '', '70.209.201.77']\n",
      "['104500', 'https://canvas.eee.uci.edu/courses/2230/files/742190?module_item_id=62039', 'show', '2016-08-01T17:29:02Z', '', '70.209.201.77']\n",
      "['104500', 'https://canvas.eee.uci.edu/courses/2230', 'show', '2016-08-01T17:28:51Z', '', '70.209.201.77']\n",
      "['104500', 'https://canvas.eee.uci.edu/courses/2230/files/747534/download?wrap=1', 'show', '2016-07-27T01:50:13Z', '', '70.209.208.98']\n",
      "['104500', 'https://canvas.eee.uci.edu/courses/2230/pages/list-of-important-concepts?module_item_id=62386', 'show', '2016-07-27T01:50:07Z', '', '70.209.208.98']\n",
      "['104500', 'https://canvas.eee.uci.edu/courses/2230', 'show', '2016-07-27T01:49:56Z', '', '70.209.208.98']\n",
      "['104500', 'https://canvas.eee.uci.edu/courses/2230/files/748147?module_item_id=62454', 'show', '2016-07-27T01:06:27Z', '', '70.187.187.85']\n",
      "['104500', 'https://canvas.eee.uci.edu/courses/2230', 'show', '2016-07-27T01:06:23Z', '', '70.187.187.85']\n",
      "['104500', 'https://canvas.eee.uci.edu/courses/2230/files/748131?module_item_id=62444', 'show', '2016-07-27T01:05:57Z', '', '70.187.187.85']\n",
      "['104500', 'https://canvas.eee.uci.edu/courses/2230', 'show', '2016-07-27T01:05:40Z', '', '70.187.187.85']\n",
      "['104500', 'https://canvas.eee.uci.edu/courses/2230/files/748142/download?wrap=1', 'show', '2016-07-26T21:35:12Z', '', '70.187.187.85']\n",
      "['104500', 'https://canvas.eee.uci.edu/courses/2230/files/748132/download?wrap=1', 'show', '2016-07-26T21:35:11Z', '', '70.187.187.85']\n",
      "['104500', 'https://canvas.eee.uci.edu/courses/2230/files/748141/download?wrap=1', 'show', '2016-07-26T21:27:23Z', '', '70.187.187.85']\n",
      "['104500', 'https://canvas.eee.uci.edu/courses/2230/files/748130/download?wrap=1', 'show', '2016-07-26T21:27:19Z', '', '70.187.187.85']\n",
      "['104500', 'https://canvas.eee.uci.edu/courses/2230/files/748132/download?wrap=1', 'show', '2016-07-26T19:50:06Z', '', '70.187.187.85']\n",
      "['104500', 'https://canvas.eee.uci.edu/courses/2230/files/748142/download?wrap=1', 'show', '2016-07-26T19:49:59Z', '', '70.187.187.85']\n",
      "['104500', 'https://canvas.eee.uci.edu/courses/2230/files/748132/download?wrap=1', 'show', '2016-07-26T19:49:57Z', '', '70.187.187.85']\n",
      "['104500', 'https://canvas.eee.uci.edu/courses/2230/files/748162/download?wrap=1', 'show', '2016-07-26T18:15:14Z', '', '70.187.187.85']\n",
      "['104500', 'https://canvas.eee.uci.edu/courses/2230/files/748133/download?wrap=1', 'show', '2016-07-26T18:15:11Z', '', '70.187.187.85']\n",
      "['104500', 'https://canvas.eee.uci.edu/courses/2230/pages/practice-exams?module_item_id=62459', 'show', '2016-07-26T18:15:03Z', '15.0', '70.187.187.85']\n",
      "['104500', 'https://canvas.eee.uci.edu/courses/2230', 'show', '2016-07-26T18:14:54Z', '', '70.187.187.85']\n",
      "['104500', 'https://canvas.eee.uci.edu/courses/2230/files/748057/download?wrap=1', 'show', '2016-07-26T00:41:04Z', '', '70.187.187.85']\n",
      "['104500', 'https://canvas.eee.uci.edu/courses/2230/files/748149/download?wrap=1', 'show', '2016-07-26T00:40:55Z', '', '70.187.187.85']\n",
      "['104500', 'https://canvas.eee.uci.edu/courses/2230/files/748150/download?wrap=1', 'show', '2016-07-25T00:07:48Z', '', '70.187.187.85']\n",
      "['104500', 'https://canvas.eee.uci.edu/courses/2230/files/748140/download?wrap=1', 'show', '2016-07-25T00:04:39Z', '', '70.187.187.85']\n",
      "['104500', 'https://canvas.eee.uci.edu/courses/2230/pages/practice-exams?module_item_id=62459', 'show', '2016-07-25T00:04:27Z', '14.0', '70.187.187.85']\n",
      "['104500', 'https://ucirvine.instructure.com/courses/2230/assignments/49369', 'show', '2016-07-24T23:06:20Z', '', '70.187.187.85']\n",
      "['104500', 'https://canvas.eee.uci.edu/courses/2230', 'show', '2016-07-24T21:36:07Z', '11.0', '70.187.187.85']\n",
      "['104500', 'https://canvas.eee.uci.edu/courses/2230/assignments/49374?module_item_id=62441', 'show', '2016-07-24T19:05:23Z', '19.0', '70.187.187.85']\n",
      "['104500', 'https://canvas.eee.uci.edu/courses/2230', 'show', '2016-07-24T19:05:13Z', '', '70.187.187.85']\n",
      "['104500', 'https://canvas.eee.uci.edu/courses/2230/pages/reading-schedule?module_item_id=62397', 'show', '2016-07-24T18:35:00Z', '24.0', '70.187.187.85']\n",
      "['104500', 'https://canvas.eee.uci.edu/courses/2230', 'show', '2016-07-24T18:34:41Z', '', '70.187.187.85']\n",
      "['104500', 'https://canvas.eee.uci.edu/courses/2230/assignments/49367/submissions', 'create', '2016-07-24T06:00:44Z', '', '70.187.187.85']\n",
      "['104500', 'https://canvas.eee.uci.edu/courses/2230/assignments/49367', 'show', '2016-07-24T06:00:16Z', '', '70.187.187.85']\n",
      "['104500', 'https://canvas.eee.uci.edu/courses/2230/files/748152/download?wrap=1', 'show', '2016-07-24T05:35:58Z', '', '70.187.187.85']\n",
      "['104500', 'https://canvas.eee.uci.edu/courses/2230/assignments/49367', 'show', '2016-07-24T05:35:50Z', '', '70.187.187.85']\n",
      "['104500', 'https://canvas.eee.uci.edu/courses/2230', 'show', '2016-07-24T05:31:54Z', '', '70.187.187.85']\n",
      "['104500', 'https://canvas.eee.uci.edu/courses/2230/pages/week-5-daily-lectures?module_item_id=62449', 'show', '2016-07-23T04:03:45Z', '', '68.231.213.182']\n",
      "['104500', 'https://canvas.eee.uci.edu/courses/2230', 'show', '2016-07-23T04:03:39Z', '', '68.231.213.182']\n",
      "['104500', 'https://canvas.eee.uci.edu/courses/2230/pages/week-5-checklist?module_item_id=62448', 'show', '2016-07-23T04:03:34Z', '', '68.231.213.182']\n",
      "['104500', 'https://canvas.eee.uci.edu/courses/2230/pages/reading-schedule', 'show', '2016-07-23T02:04:56Z', '15.0', '68.231.213.182']\n",
      "['104500', 'https://canvas.eee.uci.edu/courses/2230', 'show', '2016-07-23T01:55:24Z', '', '68.231.213.182']\n",
      "['104500', 'https://canvas.eee.uci.edu/courses/2230/files/747534/download?wrap=1', 'show', '2016-07-22T18:49:31Z', '', '70.187.187.85']\n",
      "['104500', 'https://canvas.eee.uci.edu/courses/2230/pages/list-of-important-concepts?module_item_id=62386', 'show', '2016-07-22T18:48:49Z', '', '70.187.187.85']\n",
      "['104500', 'https://canvas.eee.uci.edu/courses/2230', 'show', '2016-07-22T18:48:40Z', '', '70.187.187.85']\n",
      "['104500', 'https://canvas.eee.uci.edu/courses/2230/pages/week-5-daily-lectures?module_item_id=62449', 'show', '2016-07-22T04:19:26Z', '', '68.231.213.182']\n",
      "['104500', 'https://canvas.eee.uci.edu/courses/2230', 'show', '2016-07-22T04:19:21Z', '', '68.231.213.182']\n",
      "['104500', 'https://canvas.eee.uci.edu/courses/2230/pages/reading-schedule?module_item_id=62397', 'show', '2016-07-22T00:57:49Z', '', '68.231.213.182']\n",
      "['104500', 'https://canvas.eee.uci.edu/courses/2230', 'show', '2016-07-22T00:57:44Z', '', '68.231.213.182']\n",
      "['104500', 'https://canvas.eee.uci.edu/courses/2230/files/748131?module_item_id=62444', 'show', '2016-07-21T22:32:42Z', '15.0', '68.231.213.182']\n",
      "['104500', 'https://canvas.eee.uci.edu/courses/2230', 'show', '2016-07-21T22:32:22Z', '', '68.231.213.182']\n",
      "['104500', 'https://canvas.eee.uci.edu/courses/2230/pages/week-4-daily-lectures?module_item_id=62440', 'show', '2016-07-21T22:07:20Z', '13.0', '68.231.213.182']\n",
      "['104500', 'https://canvas.eee.uci.edu/courses/2230', 'show', '2016-07-21T22:07:01Z', '', '68.231.213.182']\n",
      "['104500', 'https://canvas.eee.uci.edu/courses/2230/assignments/49373?module_item_id=62433', 'show', '2016-07-21T04:17:59Z', '', '68.231.213.182']\n",
      "['104500', 'https://canvas.eee.uci.edu/courses/2230', 'show', '2016-07-21T04:17:48Z', '', '68.231.213.182']\n",
      "['104500', 'https://canvas.eee.uci.edu/courses/2230/assignments/49376', 'show', '2016-07-21T04:11:28Z', '', '68.231.213.182']\n",
      "['104500', 'https://canvas.eee.uci.edu/courses/2230/assignments/49376/submissions', 'create', '2016-07-21T04:11:28Z', '', '68.231.213.182']\n",
      "['104500', 'https://canvas.eee.uci.edu/courses/2230/assignments/49375/submissions/11512?preview=1&rand=272760', 'show', '2016-07-21T04:11:11Z', '', '68.231.213.182']\n",
      "['104500', 'https://canvas.eee.uci.edu/courses/2230/assignments/49375/submissions/11512', 'show', '2016-07-21T04:11:10Z', '', '68.231.213.182']\n",
      "['104500', 'https://canvas.eee.uci.edu/courses/2230', 'show', '2016-07-21T04:11:02Z', '', '68.231.213.182']\n",
      "['104500', 'https://canvas.eee.uci.edu/courses/2230/files/748154/download?wrap=1', 'show', '2016-07-21T03:42:20Z', '', '68.231.213.182']\n",
      "['104500', 'https://canvas.eee.uci.edu/courses/2230/assignments/49376', 'show', '2016-07-21T03:42:11Z', '', '68.231.213.182']\n",
      "['104500', 'https://canvas.eee.uci.edu/courses/2230', 'show', '2016-07-21T03:19:19Z', '11.0', '68.231.213.182']\n",
      "['104500', 'https://canvas.eee.uci.edu/courses/2230/pages/week-5-daily-lectures?module_item_id=62449', 'show', '2016-07-21T02:21:04Z', '', '68.231.213.182']\n",
      "['104500', 'https://canvas.eee.uci.edu/courses/2230/pages/week-5-daily-lectures?module_item_id=62449', 'show', '2016-07-20T23:34:05Z', '11.0', '70.187.187.85']\n",
      "['104500', 'https://canvas.eee.uci.edu/courses/2230', 'show', '2016-07-20T23:33:58Z', '', '70.187.187.85']\n",
      "['104500', 'https://canvas.eee.uci.edu/courses/2230/assignments/49372?module_item_id=62432', 'show', '2016-07-20T23:02:08Z', '', '70.187.187.85']\n",
      "['104500', 'https://canvas.eee.uci.edu/courses/2230', 'show', '2016-07-20T23:01:51Z', '', '70.187.187.85']\n",
      "['104500', 'https://canvas.eee.uci.edu/courses/2230/pages/week-5-daily-lectures?module_item_id=62449', 'show', '2016-07-20T05:19:34Z', '', '70.187.187.85']\n",
      "['104500', 'https://canvas.eee.uci.edu/courses/2230', 'show', '2016-07-20T05:19:26Z', '', '70.187.187.85']\n",
      "['104500', 'https://canvas.eee.uci.edu/courses/2230/files/748121?module_item_id=62435', 'show', '2016-07-19T18:03:09Z', '18.0', '70.187.187.85']\n",
      "['104500', 'https://canvas.eee.uci.edu/courses/2230', 'show', '2016-07-19T18:03:01Z', '', '70.187.187.85']\n",
      "['104500', 'https://canvas.eee.uci.edu/courses/2230/pages/reading-schedule?module_item_id=62397', 'show', '2016-07-19T18:02:03Z', '14.0', '70.187.187.85']\n",
      "['104500', 'https://canvas.eee.uci.edu/courses/2230', 'show', '2016-07-19T18:01:57Z', '', '70.187.187.85']\n",
      "['104500', 'https://canvas.eee.uci.edu/courses/2230/files/748121?module_item_id=62435', 'show', '2016-07-19T17:12:01Z', '', '70.187.187.85']\n",
      "['104500', 'https://canvas.eee.uci.edu/courses/2230', 'show', '2016-07-19T17:11:53Z', '', '70.187.187.85']\n",
      "['104500', 'https://canvas.eee.uci.edu/courses/2230/files/748099?module_item_id=62426', 'show', '2016-07-19T17:11:42Z', '', '70.187.187.85']\n",
      "['104500', 'https://canvas.eee.uci.edu/courses/2230', 'show', '2016-07-19T17:11:26Z', '', '70.187.187.85']\n",
      "['104500', 'https://canvas.eee.uci.edu/courses/2230/assignments/49371/submissions/11512?preview=1&rand=370241', 'show', '2016-07-19T06:17:53Z', '', '70.187.187.85']\n",
      "['104500', 'https://canvas.eee.uci.edu/courses/2230/assignments/49371/submissions/11512', 'show', '2016-07-19T06:17:52Z', '', '70.187.187.85']\n",
      "['104500', 'https://canvas.eee.uci.edu/courses/2230', 'show', '2016-07-19T06:17:45Z', '', '70.187.187.85']\n",
      "['104500', 'https://canvas.eee.uci.edu/courses/2230/files/748105?module_item_id=62429', 'show', '2016-07-19T06:16:48Z', '', '70.187.187.85']\n",
      "['104500', 'https://canvas.eee.uci.edu/courses/2230', 'show', '2016-07-19T06:16:41Z', '', '70.187.187.85']\n",
      "['104500', 'https://canvas.eee.uci.edu/courses/2230/pages/reading-schedule?module_item_id=62397', 'show', '2016-07-19T05:07:59Z', '', '70.187.187.85']\n",
      "['104500', 'https://canvas.eee.uci.edu/courses/2230', 'show', '2016-07-19T05:07:55Z', '', '70.187.187.85']\n",
      "['104500', 'https://canvas.eee.uci.edu/courses/2230/pages/week-5-daily-lectures?module_item_id=62449', 'show', '2016-07-19T04:15:30Z', '', '70.187.187.85']\n",
      "['104500', 'https://canvas.eee.uci.edu/courses/2230', 'show', '2016-07-19T04:15:20Z', '', '70.187.187.85']\n",
      "['104500', 'https://canvas.eee.uci.edu/courses/2230/files/748107/download?wrap=1', 'show', '2016-07-18T23:03:32Z', '', '70.187.187.85']\n",
      "['104500', 'https://canvas.eee.uci.edu/courses/2230/assignments/49371?module_item_id=62424', 'show', '2016-07-18T23:03:23Z', '', '70.187.187.85']\n",
      "['104500', 'https://canvas.eee.uci.edu/courses/2230', 'show', '2016-07-18T23:03:19Z', '', '70.187.187.85']\n",
      "['104500', 'https://canvas.eee.uci.edu/courses/2230/files/748105?module_item_id=62429', 'show', '2016-07-18T23:03:16Z', '', '70.187.187.85']\n",
      "['104500', 'https://canvas.eee.uci.edu/courses/2230', 'show', '2016-07-18T23:02:29Z', '', '70.187.187.85']\n",
      "['104500', 'https://canvas.eee.uci.edu/courses/2230/files/748108?module_item_id=62428', 'show', '2016-07-18T22:10:17Z', '12.0', '70.187.187.85']\n",
      "['104500', 'https://canvas.eee.uci.edu/courses/2230', 'show', '2016-07-18T22:10:09Z', '', '70.187.187.85']\n",
      "['104500', 'https://canvas.eee.uci.edu/courses/2230/assignments/49370?module_item_id=62423', 'show', '2016-07-18T21:49:54Z', '16.0', '70.187.187.85']\n",
      "['104500', 'https://canvas.eee.uci.edu/courses/2230', 'show', '2016-07-18T21:49:33Z', '', '70.187.187.85']\n",
      "['104500', 'https://canvas.eee.uci.edu/courses/2230/pages/reading-schedule?module_item_id=62397', 'show', '2016-07-18T17:18:35Z', '22.0', '70.187.187.85']\n",
      "['104500', 'https://canvas.eee.uci.edu/courses/2230/files/748099?module_item_id=62426', 'show', '2016-07-18T17:18:01Z', '21.0', '70.187.187.85']\n",
      "['104500', 'https://canvas.eee.uci.edu/courses/2230', 'show', '2016-07-18T03:58:00Z', '', '70.187.187.85']\n",
      "['104500', 'https://canvas.eee.uci.edu/courses/2230/files/748134?module_item_id=62436', 'show', '2016-07-18T03:57:03Z', '', '70.187.187.85']\n",
      "['104500', 'https://canvas.eee.uci.edu/courses/2230', 'show', '2016-07-18T03:56:58Z', '', '70.187.187.85']\n",
      "['104500', 'https://canvas.eee.uci.edu/courses/2230/files/748159?module_item_id=62427', 'show', '2016-07-18T03:56:27Z', '', '70.187.187.85']\n",
      "['104500', 'https://canvas.eee.uci.edu/courses/2230', 'show', '2016-07-18T03:56:19Z', '', '70.187.187.85']\n",
      "['104500', 'https://canvas.eee.uci.edu/courses/2230', 'show', '2016-07-18T02:48:02Z', '12.0', '70.187.187.85']\n",
      "['104500', 'https://canvas.eee.uci.edu/courses/2230/assignments/49375', 'show', '2016-07-18T02:14:00Z', '', '70.187.187.85']\n",
      "['104500', 'https://canvas.eee.uci.edu/courses/2230/assignments/49375/submissions', 'create', '2016-07-18T02:14:00Z', '', '70.187.187.85']\n",
      "['104500', 'https://canvas.eee.uci.edu/courses/2230/assignments/49375', 'show', '2016-07-18T02:11:37Z', '', '70.187.187.85']\n",
      "['104500', 'https://canvas.eee.uci.edu/courses/2230', 'show', '2016-07-18T02:09:10Z', '', '70.187.187.85']\n",
      "['104500', 'https://canvas.eee.uci.edu/courses/2230/assignments/49371/submissions/11512?preview=1&rand=273613', 'show', '2016-07-18T02:09:05Z', '', '70.187.187.85']\n",
      "['104500', 'https://canvas.eee.uci.edu/courses/2230/assignments/49371/submissions/11512', 'show', '2016-07-18T02:09:04Z', '', '70.187.187.85']\n",
      "['104500', 'https://canvas.eee.uci.edu/courses/2230', 'show', '2016-07-18T02:08:39Z', '', '70.187.187.85']\n",
      "['104500', 'https://canvas.eee.uci.edu/courses/2230/assignments/49372/submissions/11512?preview=1&rand=433531', 'show', '2016-07-18T02:08:25Z', '', '70.187.187.85']\n",
      "['104500', 'https://canvas.eee.uci.edu/courses/2230/assignments/49372/submissions/11512', 'show', '2016-07-18T02:08:24Z', '', '70.187.187.85']\n",
      "['104500', 'https://canvas.eee.uci.edu/courses/2230', 'show', '2016-07-18T02:07:59Z', '', '70.187.187.85']\n",
      "['104500', 'https://canvas.eee.uci.edu/courses/2230/assignments/49373/submissions/11512?preview=1&rand=363004', 'show', '2016-07-18T02:07:58Z', '', '70.187.187.85']\n",
      "['104500', 'https://canvas.eee.uci.edu/courses/2230/assignments/49373/submissions/11512', 'show', '2016-07-18T02:07:56Z', '', '70.187.187.85']\n",
      "['104500', 'https://canvas.eee.uci.edu/courses/2230', 'show', '2016-07-18T02:07:46Z', '', '70.187.187.85']\n",
      "['104500', 'https://canvas.eee.uci.edu/courses/2230/files/748111/download?wrap=1', 'show', '2016-07-18T00:24:24Z', '', '70.187.187.85']\n",
      "['104500', 'https://canvas.eee.uci.edu/courses/2230/assignments/49375', 'show', '2016-07-18T00:23:46Z', '', '70.187.187.85']\n",
      "['104500', 'https://canvas.eee.uci.edu/courses/2230', 'show', '2016-07-18T00:16:12Z', '', '70.187.187.85']\n",
      "['104500', 'https://canvas.eee.uci.edu/courses/2230/files/748104?module_item_id=62420', 'show', '2016-07-17T21:09:56Z', '13.0', '70.187.187.85']\n",
      "['104500', 'https://canvas.eee.uci.edu/courses/2230', 'show', '2016-07-17T21:09:50Z', '', '70.187.187.85']\n",
      "['104500', 'https://canvas.eee.uci.edu/courses/2230/files/748068/download?wrap=1', 'show', '2016-07-17T20:57:25Z', '', '70.187.187.85']\n",
      "['104500', 'https://canvas.eee.uci.edu/courses/2230/assignments/49369?module_item_id=62415', 'show', '2016-07-17T20:57:19Z', '11.0', '70.187.187.85']\n",
      "['104500', 'https://canvas.eee.uci.edu/courses/2230', 'show', '2016-07-17T20:57:16Z', '', '70.187.187.85']\n",
      "['104500', 'https://canvas.eee.uci.edu/courses/2230/files/748012/download?wrap=1', 'show', '2016-07-17T20:56:47Z', '', '70.187.187.85']\n",
      "['104500', 'https://canvas.eee.uci.edu/courses/2230/assignments/49368?module_item_id=62414', 'show', '2016-07-17T20:56:38Z', '', '70.187.187.85']\n",
      "['104500', 'https://canvas.eee.uci.edu/courses/2230', 'show', '2016-07-17T20:56:30Z', '', '70.187.187.85']\n",
      "['104500', 'https://canvas.eee.uci.edu/courses/2230/pages/reading-schedule?module_item_id=62397', 'show', '2016-07-17T05:36:12Z', '', '70.187.187.85']\n",
      "['104500', 'https://canvas.eee.uci.edu/courses/2230', 'show', '2016-07-17T05:36:06Z', '', '70.187.187.85']\n",
      "['104500', 'https://canvas.eee.uci.edu/courses/2230/files/742190?module_item_id=62039', 'show', '2016-07-17T05:35:52Z', '', '70.187.187.85']\n",
      "['104500', 'https://canvas.eee.uci.edu/courses/2230', 'show', '2016-07-17T05:35:47Z', '', '70.187.187.85']\n",
      "['104500', 'https://canvas.eee.uci.edu/courses/2230/files/748014?module_item_id=62417', 'show', '2016-07-17T04:28:37Z', '19.0', '70.187.187.85']\n",
      "['104500', 'https://canvas.eee.uci.edu/courses/2230/discussion_topics/27490', 'show', '2016-07-17T04:27:49Z', '', '70.187.187.85']\n",
      "['104500', 'https://canvas.eee.uci.edu/courses/2230/announcements', 'index', '2016-07-17T04:27:04Z', '', '70.187.187.85']\n",
      "['104500', 'https://canvas.eee.uci.edu/courses/2230', 'show', '2016-07-17T04:25:23Z', '', '70.187.187.85']\n",
      "['104500', 'https://canvas.eee.uci.edu/courses/2230/pages/week-1-daily-lectures?module_item_id=62413', 'show', '2016-07-17T04:24:37Z', '', '70.187.187.85']\n",
      "['104500', 'https://canvas.eee.uci.edu/courses/2230', 'show', '2016-07-17T04:24:21Z', '', '70.187.187.85']\n",
      "['104500', 'https://canvas.eee.uci.edu/courses/2230/files/747534/download?wrap=1', 'show', '2016-07-17T04:23:54Z', '', '70.187.187.85']\n",
      "['104500', 'https://canvas.eee.uci.edu/courses/2230/pages/list-of-important-concepts?module_item_id=62386', 'show', '2016-07-17T04:23:40Z', '', '70.187.187.85']\n",
      "['104500', 'https://canvas.eee.uci.edu/courses/2230', 'show', '2016-07-17T04:23:33Z', '', '70.187.187.85']\n",
      "['104500', 'https://canvas.eee.uci.edu/courses/2230/pages/reading-schedule?module_item_id=62397', 'show', '2016-07-17T04:23:22Z', '', '70.187.187.85']\n",
      "['104500', 'https://canvas.eee.uci.edu/courses/2230', 'show', '2016-07-17T04:23:17Z', '', '70.187.187.85']\n",
      "['104500', 'https://canvas.eee.uci.edu/courses/2230/files/742190?module_item_id=62039', 'show', '2016-07-17T04:22:47Z', '', '70.187.187.85']\n",
      "['104500', 'https://canvas.eee.uci.edu/courses/2230', 'show', '2016-07-17T04:22:17Z', '', '70.187.187.85']\n",
      "['104500', 'https://canvas.eee.uci.edu/courses/2230', 'show', '2016-07-17T04:21:59Z', '14.0', '70.187.187.85']\n",
      "['104500', 'https://canvas.eee.uci.edu/courses/2230/files/748014?module_item_id=62417', 'show', '2016-07-17T04:21:32Z', '', '70.187.187.85']\n",
      "['104500', 'https://canvas.eee.uci.edu/courses/2230', 'show', '2016-07-17T04:21:25Z', '', '70.187.187.85']\n",
      "['104500', 'https://canvas.eee.uci.edu/courses/2230/files/748099?module_item_id=62426', 'show', '2016-07-17T04:20:59Z', '', '70.187.187.85']\n",
      "['104500', 'https://canvas.eee.uci.edu/courses/2230', 'show', '2016-07-17T04:20:42Z', '', '70.187.187.85']\n",
      "['104500', 'https://canvas.eee.uci.edu/courses/2230/discussion_topics/27480?module_item_id=62443', 'show', '2016-07-17T04:20:14Z', '', '70.187.187.85']\n",
      "['104500', 'https://canvas.eee.uci.edu/courses/2230', 'show', '2016-07-17T04:20:10Z', '', '70.187.187.85']\n",
      "['104500', 'https://canvas.eee.uci.edu/courses/2230/discussion_topics/27481?module_item_id=62453', 'show', '2016-07-17T04:20:08Z', '', '70.187.187.85']\n",
      "['104500', 'https://canvas.eee.uci.edu/courses/2230', 'show', '2016-07-17T04:20:03Z', '', '70.187.187.85']\n",
      "['104500', 'https://canvas.eee.uci.edu/courses/2230/pages/week-5-daily-lectures?module_item_id=62449', 'show', '2016-07-17T03:49:20Z', '11.0', '70.187.187.85']\n",
      "['104500', 'https://canvas.eee.uci.edu/courses/2230', 'show', '2016-07-17T03:49:14Z', '', '70.187.187.85']\n",
      "['104500', 'https://canvas.eee.uci.edu/courses/2230/pages/week-4-daily-lectures?module_item_id=62440', 'show', '2016-07-17T03:49:05Z', '', '70.187.187.85']\n",
      "['104500', 'https://canvas.eee.uci.edu/courses/2230', 'show', '2016-07-17T03:48:54Z', '', '70.187.187.85']\n",
      "['104500', 'https://canvas.eee.uci.edu/courses/2230/announcements', 'index', '2016-07-16T05:05:24Z', '', '70.187.187.85']\n",
      "['104500', 'https://canvas.eee.uci.edu/courses/2230', 'show', '2016-07-16T05:05:12Z', '', '70.187.187.85']\n",
      "['104500', 'https://canvas.eee.uci.edu/courses/2230/pages/week-4-daily-lectures?module_item_id=62440', 'show', '2016-07-16T05:04:43Z', '', '70.187.187.85']\n",
      "['104500', 'https://canvas.eee.uci.edu/courses/2230', 'show', '2016-07-16T05:04:33Z', '', '70.187.187.85']\n",
      "['104500', 'https://canvas.eee.uci.edu/courses/2230/pages/week-4-daily-lectures?module_item_id=62440', 'show', '2016-07-15T04:35:42Z', '', '70.187.187.85']\n",
      "['104500', 'https://canvas.eee.uci.edu/courses/2230', 'show', '2016-07-15T04:35:36Z', '', '70.187.187.85']\n",
      "['104500', 'https://canvas.eee.uci.edu/courses/2230/pages/week-4-daily-lectures?module_item_id=62440', 'show', '2016-07-15T04:15:54Z', '', '70.187.187.85']\n",
      "['104500', 'https://canvas.eee.uci.edu/courses/2230', 'show', '2016-07-15T04:15:44Z', '', '70.187.187.85']\n",
      "['104500', 'https://canvas.eee.uci.edu/courses/2230/assignments/49374', 'show', '2016-07-15T04:15:35Z', '', '70.187.187.85']\n",
      "['104500', 'https://canvas.eee.uci.edu/courses/2230/assignments/49374', 'show', '2016-07-14T04:42:58Z', '', '70.187.187.85']\n",
      "['104500', 'https://canvas.eee.uci.edu/courses/2230/assignments/49374/submissions', 'create', '2016-07-14T04:42:58Z', '', '70.187.187.85']\n",
      "['104500', 'https://canvas.eee.uci.edu/courses/2230/files/748112/download?wrap=1', 'show', '2016-07-14T03:13:38Z', '', '70.187.187.85']\n",
      "['104500', 'https://canvas.eee.uci.edu/courses/2230/assignments/49374', 'show', '2016-07-14T03:06:40Z', '21.0', '70.187.187.85']\n",
      "['104500', 'https://canvas.eee.uci.edu/courses/2230', 'show', '2016-07-14T03:06:24Z', '', '70.187.187.85']\n",
      "['104500', 'https://canvas.eee.uci.edu/courses/2230/pages/week-4-daily-lectures?module_item_id=62440', 'show', '2016-07-13T03:12:30Z', '', '70.187.187.85']\n",
      "['104500', 'https://canvas.eee.uci.edu/courses/2230', 'show', '2016-07-13T03:12:20Z', '', '70.187.187.85']\n",
      "['104500', 'https://canvas.eee.uci.edu/courses/2230/pages/week-4-daily-lectures?module_item_id=62440', 'show', '2016-07-12T18:40:26Z', '', '70.187.187.85']\n",
      "['104500', 'https://canvas.eee.uci.edu/courses/2230/pages/week-4-daily-lectures?module_item_id=62440', 'show', '2016-07-12T05:12:44Z', '', '70.187.187.85']\n",
      "['104500', 'https://canvas.eee.uci.edu/courses/2230', 'show', '2016-07-12T05:12:40Z', '', '70.187.187.85']\n",
      "['104500', 'https://canvas.eee.uci.edu/courses/2230/pages/week-3-daily-lectures?module_item_id=62431', 'show', '2016-07-12T05:12:38Z', '', '70.187.187.85']\n",
      "['104500', 'https://canvas.eee.uci.edu/courses/2230', 'show', '2016-07-12T05:12:19Z', '', '70.187.187.85']\n",
      "['104500', 'https://canvas.eee.uci.edu/courses/2230/assignments/49373/submissions/11512?download=795783', 'show', '2016-07-11T05:12:24Z', '', '70.187.187.85']\n",
      "['104500', 'https://canvas.eee.uci.edu/courses/2230/assignments/49373/submissions/11512?preview=1&rand=941093', 'show', '2016-07-11T05:12:20Z', '', '70.187.187.85']\n",
      "['104500', 'https://canvas.eee.uci.edu/courses/2230/assignments/49373/submissions/11512', 'show', '2016-07-11T05:12:19Z', '', '70.187.187.85']\n",
      "['104500', 'https://canvas.eee.uci.edu/courses/2230/assignments/49373', 'show', '2016-07-11T05:12:13Z', '', '70.187.187.85']\n",
      "['104500', 'https://canvas.eee.uci.edu/courses/2230/assignments/49373/submissions', 'create', '2016-07-11T05:12:13Z', '', '70.187.187.85']\n",
      "['104500', 'https://canvas.eee.uci.edu/courses/2230/files/748122/download?wrap=1', 'show', '2016-07-11T04:15:34Z', '', '70.187.187.85']\n",
      "['104500', 'https://canvas.eee.uci.edu/courses/2230/assignments/49373', 'show', '2016-07-11T04:15:18Z', '11.0', '70.187.187.85']\n",
      "['104500', 'https://canvas.eee.uci.edu/courses/2230', 'show', '2016-07-11T04:11:00Z', '', '70.187.187.85']\n",
      "['104500', 'https://canvas.eee.uci.edu/courses/2230/pages/week-3-daily-lectures?module_item_id=62431', 'show', '2016-07-08T21:37:49Z', '', '70.187.187.85']\n",
      "['104500', 'https://canvas.eee.uci.edu/courses/2230', 'show', '2016-07-08T17:25:08Z', '', '70.187.187.85']\n",
      "['104500', 'https://canvas.eee.uci.edu/courses/2230/pages/week-3-daily-lectures?module_item_id=62431', 'show', '2016-07-08T01:18:54Z', '', '70.187.187.85']\n",
      "['104500', 'https://canvas.eee.uci.edu/courses/2230', 'show', '2016-07-08T01:18:47Z', '', '70.187.187.85']\n",
      "['104500', 'https://canvas.eee.uci.edu/courses/2230/files/742190?module_item_id=62039', 'show', '2016-07-08T01:08:30Z', '', '70.187.187.85']\n",
      "['104500', 'https://canvas.eee.uci.edu/courses/2230', 'show', '2016-07-08T01:08:19Z', '', '70.187.187.85']\n",
      "['104500', 'https://canvas.eee.uci.edu/courses/2230/assignments/49372', 'show', '2016-07-06T23:40:04Z', '', '70.187.187.85']\n",
      "['104500', 'https://canvas.eee.uci.edu/courses/2230/assignments/49372/submissions', 'create', '2016-07-06T23:40:04Z', '', '70.187.187.85']\n",
      "['104500', 'https://canvas.eee.uci.edu/courses/2230/files/748109/download?wrap=1', 'show', '2016-07-06T22:53:50Z', '', '70.187.187.85']\n",
      "['104500', 'https://canvas.eee.uci.edu/courses/2230/assignments/49372', 'show', '2016-07-06T22:53:45Z', '', '70.187.187.85']\n",
      "['104500', 'https://canvas.eee.uci.edu/courses/2230', 'show', '2016-07-06T22:53:36Z', '', '70.187.187.85']\n",
      "['104500', 'https://canvas.eee.uci.edu/courses/2230/pages/week-3-daily-lectures?module_item_id=62431', 'show', '2016-07-06T22:08:12Z', '', '70.187.187.85']\n",
      "['104500', 'https://canvas.eee.uci.edu/courses/2230', 'show', '2016-07-06T22:07:51Z', '', '70.187.187.85']\n",
      "['104500', 'https://canvas.eee.uci.edu/courses/2230', 'show', '2016-07-06T03:19:13Z', '', '70.187.187.85']\n",
      "['104500', 'https://canvas.eee.uci.edu/courses/2230/pages/week-3-daily-lectures?module_item_id=62431', 'show', '2016-07-06T03:06:38Z', '', '70.187.187.85']\n",
      "['104500', 'https://canvas.eee.uci.edu/courses/2230', 'show', '2016-07-06T03:06:31Z', '', '70.187.187.85']\n",
      "['104500', 'https://canvas.eee.uci.edu/courses/2230/pages/week-3-daily-lectures?module_item_id=62431', 'show', '2016-07-05T01:08:34Z', '', '99.109.146.209']\n",
      "['104500', 'https://canvas.eee.uci.edu/courses/2230/pages/week-3-daily-lectures?module_item_id=62431', 'show', '2016-07-05T00:45:55Z', '', '99.109.146.209']\n",
      "['104500', 'https://canvas.eee.uci.edu/courses/2230', 'show', '2016-07-05T00:45:44Z', '', '99.109.146.209']\n",
      "['104500', 'https://canvas.eee.uci.edu/courses/2230/assignments/49371', 'show', '2016-07-05T00:45:39Z', '', '99.109.146.209']\n",
      "['104500', 'https://ucirvine.instructure.com/courses/2230/assignments/49379', 'show', '2016-07-03T20:14:38Z', '', '23.241.154.49']\n",
      "['104500', 'https://ucirvine.instructure.com/courses/2230/assignments/49370', 'show', '2016-07-03T08:01:48Z', '', '23.241.154.49']\n",
      "['104500', 'https://ucirvine.instructure.com/courses/2230/assignments/49401', 'show', '2016-07-03T08:01:36Z', '', '23.241.154.49']\n",
      "['104500', 'https://ucirvine.instructure.com/courses/2230/assignments/49402', 'show', '2016-07-03T08:01:21Z', '', '23.241.154.49']\n",
      "['104500', 'https://ucirvine.instructure.com/courses/2230/assignments/49379', 'show', '2016-07-03T08:01:02Z', '', '23.241.154.49']\n",
      "['104500', 'https://canvas.eee.uci.edu/courses/2230', 'show', '2016-07-03T08:00:31Z', '', '23.241.154.49']\n",
      "['104500', 'https://canvas.eee.uci.edu/courses/2230/assignments/49371', 'show', '2016-07-03T04:36:18Z', '', '23.241.154.49']\n",
      "['104500', 'https://canvas.eee.uci.edu/courses/2230/assignments/49371/submissions', 'create', '2016-07-03T04:36:17Z', '', '23.241.154.49']\n",
      "['104500', 'https://canvas.eee.uci.edu/courses/2230/assignments/49371', 'show', '2016-07-03T04:34:52Z', '', '23.241.154.49']\n",
      "['104500', 'https://canvas.eee.uci.edu/courses/2230', 'show', '2016-07-03T04:34:44Z', '', '23.241.154.49']\n",
      "['104500', 'https://canvas.eee.uci.edu/courses/2230/pages/week-2-daily-lectures?module_item_id=62422', 'show', '2016-07-03T02:42:18Z', '', '23.241.154.49']\n",
      "['104500', 'https://canvas.eee.uci.edu/courses/2230/pages/week-2-daily-lectures?module_item_id=62422', 'show', '2016-07-03T02:40:09Z', '', '23.241.154.49']\n",
      "['104500', 'https://canvas.eee.uci.edu/courses/2230', 'show', '2016-07-03T02:39:46Z', '', '23.241.154.49']\n",
      "['104500', 'https://canvas.eee.uci.edu/courses/2230', 'show', '2016-07-02T04:41:28Z', '', '70.187.187.85']\n",
      "['104500', 'https://canvas.eee.uci.edu/courses/2230/pages/week-2-daily-lectures?module_item_id=62422', 'show', '2016-07-01T23:16:54Z', '', '70.187.187.85']\n",
      "['104500', 'https://canvas.eee.uci.edu/courses/2230/pages/week-2-daily-lectures?module_item_id=62422', 'show', '2016-07-01T22:26:13Z', '', '70.187.187.85']\n",
      "['104500', 'https://canvas.eee.uci.edu/courses/2230/pages/week-2-daily-lectures?module_item_id=62422', 'show', '2016-07-01T22:22:33Z', '', '70.187.187.85']\n",
      "['104500', 'https://canvas.eee.uci.edu/courses/2230', 'show', '2016-06-30T22:22:03Z', '14.0', '169.234.63.151']\n",
      "['104500', 'https://canvas.eee.uci.edu/courses/2230/pages/week-1-daily-lectures?module_item_id=62413', 'show', '2016-06-30T22:21:40Z', '', '169.234.63.151']\n",
      "['104500', 'https://canvas.eee.uci.edu/courses/2230', 'show', '2016-06-30T22:21:36Z', '', '169.234.63.151']\n",
      "['104500', 'https://canvas.eee.uci.edu/courses/2230/discussion_topics/27477?module_item_id=62416', 'show', '2016-06-30T22:21:33Z', '', '169.234.63.151']\n",
      "['104500', 'https://canvas.eee.uci.edu/courses/2230', 'show', '2016-06-30T22:21:24Z', '', '169.234.63.151']\n",
      "['104500', 'https://canvas.eee.uci.edu/courses/2230/pages/reading-schedule?module_item_id=62397', 'show', '2016-06-30T22:21:18Z', '', '169.234.63.151']\n",
      "['104500', 'https://canvas.eee.uci.edu/courses/2230', 'show', '2016-06-30T22:21:14Z', '', '169.234.63.151']\n",
      "['104500', 'https://canvas.eee.uci.edu/courses/2230/files/747534/download?wrap=1', 'show', '2016-06-30T21:36:27Z', '', '169.234.63.151']\n",
      "['104500', 'https://canvas.eee.uci.edu/courses/2230/pages/list-of-important-concepts?module_item_id=62386', 'show', '2016-06-30T21:26:03Z', '', '169.234.63.151']\n",
      "['104500', 'https://canvas.eee.uci.edu/courses/2230', 'show', '2016-06-30T21:25:45Z', '', '169.234.63.151']\n",
      "['104500', 'https://canvas.eee.uci.edu/courses/2230/pages/week-2-daily-lectures?module_item_id=62422', 'show', '2016-06-30T21:15:09Z', '', '169.234.63.151']\n",
      "['104500', 'https://canvas.eee.uci.edu/courses/2230/pages/week-2-daily-lectures?module_item_id=62422', 'show', '2016-06-30T21:14:48Z', '', '169.234.63.151']\n",
      "['104500', 'https://canvas.eee.uci.edu/courses/2230', 'show', '2016-06-30T21:14:16Z', '', '169.234.63.151']\n",
      "['104500', 'https://canvas.eee.uci.edu/courses/2230', 'show', '2016-06-30T21:13:55Z', '', '169.234.63.151']\n",
      "['104500', 'https://canvas.eee.uci.edu/courses/2230/assignments/49370', 'show', '2016-06-30T04:07:47Z', '', '70.187.187.85']\n",
      "['104500', 'https://canvas.eee.uci.edu/courses/2230', 'show', '2016-06-30T01:02:32Z', '', '70.187.187.85']\n",
      "['104500', 'https://canvas.eee.uci.edu/courses/2230/pages/week-2-daily-lectures?module_item_id=62422', 'show', '2016-06-30T01:01:48Z', '', '70.187.187.85']\n",
      "['104500', 'https://canvas.eee.uci.edu/courses/2230', 'show', '2016-06-29T17:34:55Z', '', '70.187.187.85']\n",
      "['104500', 'https://canvas.eee.uci.edu/courses/2230/assignments', 'index', '2016-06-29T17:34:55Z', '', '70.187.187.85']\n",
      "['104500', 'https://canvas.eee.uci.edu/courses/2230/assignments/49369', 'show', '2016-06-29T17:34:46Z', '', '70.187.187.85']\n",
      "['104500', 'https://canvas.eee.uci.edu/courses/2230/assignments/49369', 'show', '2016-06-29T05:17:58Z', '', '70.187.187.85']\n",
      "['104500', 'https://canvas.eee.uci.edu/courses/2230/assignments/49369/submissions', 'create', '2016-06-29T05:17:58Z', '', '70.187.187.85']\n",
      "['104500', 'https://canvas.eee.uci.edu/courses/2230/files/748068/download?wrap=1', 'show', '2016-06-29T04:40:58Z', '', '70.187.187.85']\n",
      "['104500', 'https://canvas.eee.uci.edu/courses/2230/assignments/49369', 'show', '2016-06-29T04:40:42Z', '12.0', '70.187.187.85']\n",
      "['104500', 'https://canvas.eee.uci.edu/courses/2230/pages/week-2-daily-lectures?module_item_id=62422', 'show', '2016-06-29T02:53:43Z', '', '70.187.187.85']\n",
      "['104500', 'https://canvas.eee.uci.edu/courses/2230', 'show', '2016-06-29T01:39:45Z', '', '70.187.187.85']\n",
      "['104500', 'https://canvas.eee.uci.edu/courses/2230/files/748110/download?wrap=1', 'show', '2016-06-29T01:39:03Z', '', '70.187.187.85']\n",
      "['104500', 'https://canvas.eee.uci.edu/courses/2230/assignments/49370', 'show', '2016-06-29T01:38:48Z', '', '70.187.187.85']\n",
      "['104500', 'https://canvas.eee.uci.edu/courses/2230', 'show', '2016-06-29T01:38:01Z', '', '70.187.187.85']\n",
      "['104500', 'https://canvas.eee.uci.edu/courses/2230/pages/week-2-daily-lectures?module_item_id=62422', 'show', '2016-06-28T03:49:42Z', '', '70.187.187.85']\n",
      "['104500', 'https://canvas.eee.uci.edu/courses/2230', 'show', '2016-06-28T03:49:34Z', '', '70.187.187.85']\n",
      "['104500', 'https://canvas.eee.uci.edu/courses/2230/pages', 'index', '2016-06-28T03:49:34Z', '', '70.187.187.85']\n",
      "['104500', 'https://canvas.eee.uci.edu/courses/2230/pages/week-1-daily-lectures?module_item_id=62413', 'show', '2016-06-28T03:49:29Z', '', '70.187.187.85']\n",
      "['104500', 'https://canvas.eee.uci.edu/courses/2230/pages/week-1-daily-lectures?module_item_id=62413', 'show', '2016-06-28T03:49:19Z', '', '70.187.187.85']\n",
      "['104500', 'https://canvas.eee.uci.edu/courses/2230', 'show', '2016-06-28T03:49:10Z', '', '70.187.187.85']\n",
      "['104500', 'https://canvas.eee.uci.edu/courses/2230/files/742190/download?download_frd=1', 'show', '2016-06-28T03:02:35Z', '', '184.189.203.244']\n",
      "['104500', 'https://canvas.eee.uci.edu/courses/2230/files/742190?module_item_id=62039', 'show', '2016-06-28T03:02:28Z', '', '184.189.203.244']\n",
      "['104500', 'https://canvas.eee.uci.edu/courses/2230', 'show', '2016-06-28T03:02:17Z', '', '184.189.203.244']\n",
      "['104500', 'https://canvas.eee.uci.edu/courses/2230/assignments/49368', 'show', '2016-06-27T17:48:41Z', '', '70.187.187.85']\n",
      "['104500', 'https://canvas.eee.uci.edu/courses/2230/assignments/49368', 'show', '2016-06-27T03:54:50Z', '', '70.187.187.85']\n",
      "['104500', 'https://canvas.eee.uci.edu/courses/2230', 'show', '2016-06-26T20:46:01Z', '', '70.187.187.85']\n",
      "['104500', 'https://canvas.eee.uci.edu/courses/2230/files/748012/download?wrap=1', 'show', '2016-06-26T17:56:49Z', '', '70.187.187.85']\n",
      "['104500', 'https://canvas.eee.uci.edu/courses/2230/assignments/49368', 'show', '2016-06-26T06:36:51Z', '19.0', '70.187.187.85']\n",
      "['104500', 'https://canvas.eee.uci.edu/courses/2230', 'show', '2016-06-26T06:36:41Z', '', '70.187.187.85']\n",
      "['104500', 'https://canvas.eee.uci.edu/courses/2230/pages/week-1-daily-lectures?module_item_id=62413', 'show', '2016-06-25T04:41:05Z', '', '70.187.187.85']\n",
      "['104500', 'https://canvas.eee.uci.edu/courses/2230/pages/week-1-daily-lectures?module_item_id=62413', 'show', '2016-06-25T03:45:55Z', '', '70.187.187.85']\n",
      "['104500', 'https://canvas.eee.uci.edu/courses/2230/pages/week-1-daily-lectures?module_item_id=62413', 'show', '2016-06-25T02:56:17Z', '', '70.187.187.85']\n",
      "['104500', 'https://canvas.eee.uci.edu/courses/2230/pages/week-1-daily-lectures?module_item_id=62413', 'show', '2016-06-25T00:07:26Z', '', '70.187.187.85']\n",
      "['104500', 'https://canvas.eee.uci.edu/courses/2230', 'show', '2016-06-24T01:28:34Z', '', '70.187.187.85']\n",
      "['104500', 'https://canvas.eee.uci.edu/courses/2230/files/742190?module_item_id=62039', 'show', '2016-06-24T01:27:41Z', '', '70.187.187.85']\n",
      "['104500', 'https://canvas.eee.uci.edu/courses/2230', 'show', '2016-06-24T01:27:31Z', '', '70.187.187.85']\n",
      "['104500', 'https://canvas.eee.uci.edu/courses/2230/pages/week-1-daily-lectures?module_item_id=62413', 'show', '2016-06-24T00:40:13Z', '', '70.187.187.85']\n",
      "['104500', 'https://canvas.eee.uci.edu/courses/2230', 'show', '2016-06-24T00:39:57Z', '', '70.187.187.85']\n",
      "['104500', 'https://canvas.eee.uci.edu/courses/2230/files/742190/download?download_frd=1', 'show', '2016-06-24T00:39:21Z', '', '70.187.187.85']\n",
      "['104500', 'https://canvas.eee.uci.edu/courses/2230/files/742190?module_item_id=62039', 'show', '2016-06-24T00:39:19Z', '', '70.187.187.85']\n",
      "['104500', 'https://canvas.eee.uci.edu/courses/2230', 'show', '2016-06-24T00:39:15Z', '', '70.187.187.85']\n",
      "['104500', 'https://canvas.eee.uci.edu/courses/2230/announcements', 'index', '2016-06-24T00:39:10Z', '', '70.187.187.85']\n",
      "['104500', 'https://canvas.eee.uci.edu/courses/2230/pages/week-1-daily-lectures?module_item_id=62413', 'show', '2016-06-24T00:38:05Z', '', '70.187.187.85']\n",
      "['104500', 'https://canvas.eee.uci.edu/courses/2230', 'show', '2016-06-24T00:38:00Z', '', '70.187.187.85']\n",
      "['104500', 'https://canvas.eee.uci.edu/courses/2230/pages/reading-schedule?module_item_id=62397', 'show', '2016-06-23T00:09:15Z', '25.0', '70.187.187.85']\n",
      "['104500', 'https://canvas.eee.uci.edu/courses/2230', 'show', '2016-06-23T00:09:05Z', '', '70.187.187.85']\n",
      "['104500', 'https://canvas.eee.uci.edu/courses/2230/pages/week-1-daily-lectures?module_item_id=62413', 'show', '2016-06-22T23:01:53Z', '12.0', '70.187.187.85']\n",
      "['104500', 'https://canvas.eee.uci.edu/courses/2230', 'show', '2016-06-22T23:01:47Z', '', '70.187.187.85']\n",
      "['104500', 'https://canvas.eee.uci.edu/courses/2230/pages/reading-schedule?module_item_id=62397', 'show', '2016-06-22T05:40:48Z', '13.0', '70.187.187.85']\n",
      "['104500', 'https://canvas.eee.uci.edu/courses/2230', 'show', '2016-06-22T05:40:45Z', '', '70.187.187.85']\n",
      "['104500', 'https://canvas.eee.uci.edu/courses/2230/pages/5-box-solution-format?module_item_id=62400', 'show', '2016-06-22T05:40:41Z', '', '70.187.187.85']\n",
      "['104500', 'https://canvas.eee.uci.edu/courses/2230', 'show', '2016-06-22T05:40:28Z', '', '70.187.187.85']\n",
      "['104500', 'https://canvas.eee.uci.edu/courses/2230/users', 'roster', '2016-06-22T05:40:15Z', '', '70.187.187.85']\n",
      "['104500', 'https://canvas.eee.uci.edu/courses/2230/discussion_topics', 'index', '2016-06-22T05:40:14Z', '', '70.187.187.85']\n",
      "['104500', 'https://canvas.eee.uci.edu/courses/2230', 'show', '2016-06-22T05:40:05Z', '', '70.187.187.85']\n",
      "['104500', 'https://canvas.eee.uci.edu/courses/2230/discussion_topics/27498', 'show', '2016-06-22T05:40:01Z', '', '70.187.187.85']\n",
      "['104500', 'https://canvas.eee.uci.edu/courses/2230/discussion_topics', 'index', '2016-06-22T05:39:51Z', '', '70.187.187.85']\n",
      "['104500', 'https://canvas.eee.uci.edu/courses/2230/announcements', 'index', '2016-06-22T05:39:42Z', '', '70.187.187.85']\n",
      "['104500', 'https://canvas.eee.uci.edu/courses/2230/pages/week-1-daily-lectures?module_item_id=62413', 'show', '2016-06-22T05:39:08Z', '', '70.187.187.85']\n",
      "['104500', 'https://canvas.eee.uci.edu/courses/2230', 'show', '2016-06-22T05:38:52Z', '', '70.187.187.85']\n",
      "['104500', 'https://canvas.eee.uci.edu/courses/2230/discussion_topics/27477?module_item_id=62416', 'show', '2016-06-22T05:38:47Z', '', '70.187.187.85']\n",
      "['104500', 'https://canvas.eee.uci.edu/courses/2230/files/742190/download?download_frd=1', 'show', '2016-06-22T05:25:11Z', '', '70.187.187.85']\n",
      "['104500', 'https://canvas.eee.uci.edu/courses/2230/files/742190?module_item_id=62039', 'show', '2016-06-22T05:25:08Z', '12.0', '70.187.187.85']\n",
      "['104500', 'https://canvas.eee.uci.edu/courses/2230', 'show', '2016-06-22T05:24:57Z', '13.0', '70.187.187.85']\n",
      "['104500', 'https://canvas.eee.uci.edu/courses/2230/pages/week-1-daily-lectures?module_item_id=62413', 'show', '2016-06-22T05:09:47Z', '11.0', '70.187.187.85']\n",
      "['104500', 'https://canvas.eee.uci.edu/courses/2230', 'show', '2016-06-22T05:09:36Z', '', '70.187.187.85']\n",
      "['104500', 'https://canvas.eee.uci.edu/courses/2230/assignments/49403?module_item_id=62408', 'show', '2016-06-22T05:09:29Z', '', '70.187.187.85']\n",
      "['104500', 'https://canvas.eee.uci.edu/courses/2230', 'show', '2016-06-22T05:08:17Z', '', '70.187.187.85']\n",
      "['104500', 'https://canvas.eee.uci.edu/courses/2230/files/742190/download?download_frd=1', 'show', '2016-06-22T05:07:15Z', '', '70.187.187.85']\n",
      "['104500', 'https://canvas.eee.uci.edu/courses/2230/files/742190?module_item_id=62039', 'show', '2016-06-22T05:07:13Z', '', '70.187.187.85']\n",
      "['104500', 'https://canvas.eee.uci.edu/courses/2230', 'show', '2016-06-22T05:07:04Z', '', '70.187.187.85']\n",
      "['104500', 'https://canvas.eee.uci.edu/courses/2230/files/748073/download?wrap=1', 'show', '2016-06-20T19:06:58Z', '', '70.187.187.85']\n",
      "['104500', 'https://canvas.eee.uci.edu/courses/2230/files/748073/download?wrap=1', 'show', '2016-06-20T17:50:44Z', '', '70.187.187.85']\n",
      "['104500', 'https://canvas.eee.uci.edu/courses/2230/discussion_topics/27494', 'show', '2016-06-20T17:50:25Z', '13.0', '70.187.187.85']\n",
      "['104500', 'https://canvas.eee.uci.edu/courses/2230/announcements', 'index', '2016-06-20T17:50:20Z', '', '70.187.187.85']\n",
      "['104500', 'https://canvas.eee.uci.edu/courses/2230/announcements', 'index', '2016-06-20T17:50:02Z', '', '70.187.187.85']\n",
      "['104500', 'https://canvas.eee.uci.edu/courses/2230/pages/week-1-daily-lectures?module_item_id=62413', 'show', '2016-06-20T04:18:57Z', '', '70.187.187.85']\n",
      "['104500', 'https://canvas.eee.uci.edu/courses/2230', 'show', '2016-06-20T04:18:07Z', '33.0', '70.187.187.85']\n"
     ]
    }
   ],
   "source": [
    "# Print out the lines that are being read using a csv reader\n",
    "# we are using 'f' to label our csv file in this with statement\n",
    "\n",
    "with open('104500.csv', \"r\") as f:\n",
    "    reader = csv.reader(f, delimiter = \",\")\n",
    "    for line in reader:\n",
    "        print line\n",
    "    "
   ]
  },
  {
   "cell_type": "markdown",
   "metadata": {},
   "source": [
    "Without the with statement, we would have to write something like this."
   ]
  },
  {
   "cell_type": "code",
   "execution_count": 30,
   "metadata": {},
   "outputs": [
    {
     "name": "stdout",
     "output_type": "stream",
     "text": [
      "roster_randomid,url,action,created_at,interaction_seconds,remote_ip\n",
      "104500,https://canvas.eee.uci.edu/courses/2230/files/742190/download?download_frd=1,show,2016-08-01T17:29:47Z,,70.209.201.77\n",
      "104500,https://canvas.eee.uci.edu/courses/2230/files/742190?module_item_id=62039,show,2016-08-01T17:29:37Z,,70.209.201.77\n",
      "104500,https://canvas.eee.uci.edu/courses/2230/pages/5-box-solution-format?module_item_id=62400,show,2016-08-01T17:29:25Z,,70.209.201.77\n",
      "104500,https://canvas.eee.uci.edu/courses/2230/files/742190?module_item_id=62039,show,2016-08-01T17:29:02Z,,70.209.201.77\n",
      "104500,https://canvas.eee.uci.edu/courses/2230,show,2016-08-01T17:28:51Z,,70.209.201.77\n",
      "104500,https://canvas.eee.uci.edu/courses/2230/files/747534/download?wrap=1,show,2016-07-27T01:50:13Z,,70.209.208.98\n",
      "104500,https://canvas.eee.uci.edu/courses/2230/pages/list-of-important-concepts?module_item_id=62386,show,2016-07-27T01:50:07Z,,70.209.208.98\n",
      "104500,https://canvas.eee.uci.edu/courses/2230,show,2016-07-27T01:49:56Z,,70.209.208.98\n",
      "104500,https://canvas.eee.uci.edu/courses/2230/files/748147?module_item_id=62454,show,2016-07-27T01:06:27Z,,70.187.187.85\n",
      "104500,https://canvas.eee.uci.edu/courses/2230,show,2016-07-27T01:06:23Z,,70.187.187.85\n",
      "104500,https://canvas.eee.uci.edu/courses/2230/files/748131?module_item_id=62444,show,2016-07-27T01:05:57Z,,70.187.187.85\n",
      "104500,https://canvas.eee.uci.edu/courses/2230,show,2016-07-27T01:05:40Z,,70.187.187.85\n",
      "104500,https://canvas.eee.uci.edu/courses/2230/files/748142/download?wrap=1,show,2016-07-26T21:35:12Z,,70.187.187.85\n",
      "104500,https://canvas.eee.uci.edu/courses/2230/files/748132/download?wrap=1,show,2016-07-26T21:35:11Z,,70.187.187.85\n",
      "104500,https://canvas.eee.uci.edu/courses/2230/files/748141/download?wrap=1,show,2016-07-26T21:27:23Z,,70.187.187.85\n",
      "104500,https://canvas.eee.uci.edu/courses/2230/files/748130/download?wrap=1,show,2016-07-26T21:27:19Z,,70.187.187.85\n",
      "104500,https://canvas.eee.uci.edu/courses/2230/files/748132/download?wrap=1,show,2016-07-26T19:50:06Z,,70.187.187.85\n",
      "104500,https://canvas.eee.uci.edu/courses/2230/files/748142/download?wrap=1,show,2016-07-26T19:49:59Z,,70.187.187.85\n",
      "104500,https://canvas.eee.uci.edu/courses/2230/files/748132/download?wrap=1,show,2016-07-26T19:49:57Z,,70.187.187.85\n",
      "104500,https://canvas.eee.uci.edu/courses/2230/files/748162/download?wrap=1,show,2016-07-26T18:15:14Z,,70.187.187.85\n",
      "104500,https://canvas.eee.uci.edu/courses/2230/files/748133/download?wrap=1,show,2016-07-26T18:15:11Z,,70.187.187.85\n",
      "104500,https://canvas.eee.uci.edu/courses/2230/pages/practice-exams?module_item_id=62459,show,2016-07-26T18:15:03Z,15.0,70.187.187.85\n",
      "104500,https://canvas.eee.uci.edu/courses/2230,show,2016-07-26T18:14:54Z,,70.187.187.85\n",
      "104500,https://canvas.eee.uci.edu/courses/2230/files/748057/download?wrap=1,show,2016-07-26T00:41:04Z,,70.187.187.85\n",
      "104500,https://canvas.eee.uci.edu/courses/2230/files/748149/download?wrap=1,show,2016-07-26T00:40:55Z,,70.187.187.85\n",
      "104500,https://canvas.eee.uci.edu/courses/2230/files/748150/download?wrap=1,show,2016-07-25T00:07:48Z,,70.187.187.85\n",
      "104500,https://canvas.eee.uci.edu/courses/2230/files/748140/download?wrap=1,show,2016-07-25T00:04:39Z,,70.187.187.85\n",
      "104500,https://canvas.eee.uci.edu/courses/2230/pages/practice-exams?module_item_id=62459,show,2016-07-25T00:04:27Z,14.0,70.187.187.85\n",
      "104500,https://ucirvine.instructure.com/courses/2230/assignments/49369,show,2016-07-24T23:06:20Z,,70.187.187.85\n",
      "104500,https://canvas.eee.uci.edu/courses/2230,show,2016-07-24T21:36:07Z,11.0,70.187.187.85\n",
      "104500,https://canvas.eee.uci.edu/courses/2230/assignments/49374?module_item_id=62441,show,2016-07-24T19:05:23Z,19.0,70.187.187.85\n",
      "104500,https://canvas.eee.uci.edu/courses/2230,show,2016-07-24T19:05:13Z,,70.187.187.85\n",
      "104500,https://canvas.eee.uci.edu/courses/2230/pages/reading-schedule?module_item_id=62397,show,2016-07-24T18:35:00Z,24.0,70.187.187.85\n",
      "104500,https://canvas.eee.uci.edu/courses/2230,show,2016-07-24T18:34:41Z,,70.187.187.85\n",
      "104500,https://canvas.eee.uci.edu/courses/2230/assignments/49367/submissions,create,2016-07-24T06:00:44Z,,70.187.187.85\n",
      "104500,https://canvas.eee.uci.edu/courses/2230/assignments/49367,show,2016-07-24T06:00:16Z,,70.187.187.85\n",
      "104500,https://canvas.eee.uci.edu/courses/2230/files/748152/download?wrap=1,show,2016-07-24T05:35:58Z,,70.187.187.85\n",
      "104500,https://canvas.eee.uci.edu/courses/2230/assignments/49367,show,2016-07-24T05:35:50Z,,70.187.187.85\n",
      "104500,https://canvas.eee.uci.edu/courses/2230,show,2016-07-24T05:31:54Z,,70.187.187.85\n",
      "104500,https://canvas.eee.uci.edu/courses/2230/pages/week-5-daily-lectures?module_item_id=62449,show,2016-07-23T04:03:45Z,,68.231.213.182\n",
      "104500,https://canvas.eee.uci.edu/courses/2230,show,2016-07-23T04:03:39Z,,68.231.213.182\n",
      "104500,https://canvas.eee.uci.edu/courses/2230/pages/week-5-checklist?module_item_id=62448,show,2016-07-23T04:03:34Z,,68.231.213.182\n",
      "104500,https://canvas.eee.uci.edu/courses/2230/pages/reading-schedule,show,2016-07-23T02:04:56Z,15.0,68.231.213.182\n",
      "104500,https://canvas.eee.uci.edu/courses/2230,show,2016-07-23T01:55:24Z,,68.231.213.182\n",
      "104500,https://canvas.eee.uci.edu/courses/2230/files/747534/download?wrap=1,show,2016-07-22T18:49:31Z,,70.187.187.85\n",
      "104500,https://canvas.eee.uci.edu/courses/2230/pages/list-of-important-concepts?module_item_id=62386,show,2016-07-22T18:48:49Z,,70.187.187.85\n",
      "104500,https://canvas.eee.uci.edu/courses/2230,show,2016-07-22T18:48:40Z,,70.187.187.85\n",
      "104500,https://canvas.eee.uci.edu/courses/2230/pages/week-5-daily-lectures?module_item_id=62449,show,2016-07-22T04:19:26Z,,68.231.213.182\n",
      "104500,https://canvas.eee.uci.edu/courses/2230,show,2016-07-22T04:19:21Z,,68.231.213.182\n",
      "104500,https://canvas.eee.uci.edu/courses/2230/pages/reading-schedule?module_item_id=62397,show,2016-07-22T00:57:49Z,,68.231.213.182\n",
      "104500,https://canvas.eee.uci.edu/courses/2230,show,2016-07-22T00:57:44Z,,68.231.213.182\n",
      "104500,https://canvas.eee.uci.edu/courses/2230/files/748131?module_item_id=62444,show,2016-07-21T22:32:42Z,15.0,68.231.213.182\n",
      "104500,https://canvas.eee.uci.edu/courses/2230,show,2016-07-21T22:32:22Z,,68.231.213.182\n",
      "104500,https://canvas.eee.uci.edu/courses/2230/pages/week-4-daily-lectures?module_item_id=62440,show,2016-07-21T22:07:20Z,13.0,68.231.213.182\n",
      "104500,https://canvas.eee.uci.edu/courses/2230,show,2016-07-21T22:07:01Z,,68.231.213.182\n",
      "104500,https://canvas.eee.uci.edu/courses/2230/assignments/49373?module_item_id=62433,show,2016-07-21T04:17:59Z,,68.231.213.182\n",
      "104500,https://canvas.eee.uci.edu/courses/2230,show,2016-07-21T04:17:48Z,,68.231.213.182\n",
      "104500,https://canvas.eee.uci.edu/courses/2230/assignments/49376,show,2016-07-21T04:11:28Z,,68.231.213.182\n",
      "104500,https://canvas.eee.uci.edu/courses/2230/assignments/49376/submissions,create,2016-07-21T04:11:28Z,,68.231.213.182\n",
      "104500,https://canvas.eee.uci.edu/courses/2230/assignments/49375/submissions/11512?preview=1&rand=272760,show,2016-07-21T04:11:11Z,,68.231.213.182\n",
      "104500,https://canvas.eee.uci.edu/courses/2230/assignments/49375/submissions/11512,show,2016-07-21T04:11:10Z,,68.231.213.182\n",
      "104500,https://canvas.eee.uci.edu/courses/2230,show,2016-07-21T04:11:02Z,,68.231.213.182\n",
      "104500,https://canvas.eee.uci.edu/courses/2230/files/748154/download?wrap=1,show,2016-07-21T03:42:20Z,,68.231.213.182\n",
      "104500,https://canvas.eee.uci.edu/courses/2230/assignments/49376,show,2016-07-21T03:42:11Z,,68.231.213.182\n",
      "104500,https://canvas.eee.uci.edu/courses/2230,show,2016-07-21T03:19:19Z,11.0,68.231.213.182\n",
      "104500,https://canvas.eee.uci.edu/courses/2230/pages/week-5-daily-lectures?module_item_id=62449,show,2016-07-21T02:21:04Z,,68.231.213.182\n",
      "104500,https://canvas.eee.uci.edu/courses/2230/pages/week-5-daily-lectures?module_item_id=62449,show,2016-07-20T23:34:05Z,11.0,70.187.187.85\n",
      "104500,https://canvas.eee.uci.edu/courses/2230,show,2016-07-20T23:33:58Z,,70.187.187.85\n",
      "104500,https://canvas.eee.uci.edu/courses/2230/assignments/49372?module_item_id=62432,show,2016-07-20T23:02:08Z,,70.187.187.85\n",
      "104500,https://canvas.eee.uci.edu/courses/2230,show,2016-07-20T23:01:51Z,,70.187.187.85\n",
      "104500,https://canvas.eee.uci.edu/courses/2230/pages/week-5-daily-lectures?module_item_id=62449,show,2016-07-20T05:19:34Z,,70.187.187.85\n",
      "104500,https://canvas.eee.uci.edu/courses/2230,show,2016-07-20T05:19:26Z,,70.187.187.85\n",
      "104500,https://canvas.eee.uci.edu/courses/2230/files/748121?module_item_id=62435,show,2016-07-19T18:03:09Z,18.0,70.187.187.85\n",
      "104500,https://canvas.eee.uci.edu/courses/2230,show,2016-07-19T18:03:01Z,,70.187.187.85\n",
      "104500,https://canvas.eee.uci.edu/courses/2230/pages/reading-schedule?module_item_id=62397,show,2016-07-19T18:02:03Z,14.0,70.187.187.85\n",
      "104500,https://canvas.eee.uci.edu/courses/2230,show,2016-07-19T18:01:57Z,,70.187.187.85\n",
      "104500,https://canvas.eee.uci.edu/courses/2230/files/748121?module_item_id=62435,show,2016-07-19T17:12:01Z,,70.187.187.85\n",
      "104500,https://canvas.eee.uci.edu/courses/2230,show,2016-07-19T17:11:53Z,,70.187.187.85\n",
      "104500,https://canvas.eee.uci.edu/courses/2230/files/748099?module_item_id=62426,show,2016-07-19T17:11:42Z,,70.187.187.85\n",
      "104500,https://canvas.eee.uci.edu/courses/2230,show,2016-07-19T17:11:26Z,,70.187.187.85\n",
      "104500,https://canvas.eee.uci.edu/courses/2230/assignments/49371/submissions/11512?preview=1&rand=370241,show,2016-07-19T06:17:53Z,,70.187.187.85\n",
      "104500,https://canvas.eee.uci.edu/courses/2230/assignments/49371/submissions/11512,show,2016-07-19T06:17:52Z,,70.187.187.85\n",
      "104500,https://canvas.eee.uci.edu/courses/2230,show,2016-07-19T06:17:45Z,,70.187.187.85\n",
      "104500,https://canvas.eee.uci.edu/courses/2230/files/748105?module_item_id=62429,show,2016-07-19T06:16:48Z,,70.187.187.85\n",
      "104500,https://canvas.eee.uci.edu/courses/2230,show,2016-07-19T06:16:41Z,,70.187.187.85\n",
      "104500,https://canvas.eee.uci.edu/courses/2230/pages/reading-schedule?module_item_id=62397,show,2016-07-19T05:07:59Z,,70.187.187.85\n",
      "104500,https://canvas.eee.uci.edu/courses/2230,show,2016-07-19T05:07:55Z,,70.187.187.85\n",
      "104500,https://canvas.eee.uci.edu/courses/2230/pages/week-5-daily-lectures?module_item_id=62449,show,2016-07-19T04:15:30Z,,70.187.187.85\n",
      "104500,https://canvas.eee.uci.edu/courses/2230,show,2016-07-19T04:15:20Z,,70.187.187.85\n",
      "104500,https://canvas.eee.uci.edu/courses/2230/files/748107/download?wrap=1,show,2016-07-18T23:03:32Z,,70.187.187.85\n",
      "104500,https://canvas.eee.uci.edu/courses/2230/assignments/49371?module_item_id=62424,show,2016-07-18T23:03:23Z,,70.187.187.85\n",
      "104500,https://canvas.eee.uci.edu/courses/2230,show,2016-07-18T23:03:19Z,,70.187.187.85\n",
      "104500,https://canvas.eee.uci.edu/courses/2230/files/748105?module_item_id=62429,show,2016-07-18T23:03:16Z,,70.187.187.85\n",
      "104500,https://canvas.eee.uci.edu/courses/2230,show,2016-07-18T23:02:29Z,,70.187.187.85\n",
      "104500,https://canvas.eee.uci.edu/courses/2230/files/748108?module_item_id=62428,show,2016-07-18T22:10:17Z,12.0,70.187.187.85\n",
      "104500,https://canvas.eee.uci.edu/courses/2230,show,2016-07-18T22:10:09Z,,70.187.187.85\n",
      "104500,https://canvas.eee.uci.edu/courses/2230/assignments/49370?module_item_id=62423,show,2016-07-18T21:49:54Z,16.0,70.187.187.85\n",
      "104500,https://canvas.eee.uci.edu/courses/2230,show,2016-07-18T21:49:33Z,,70.187.187.85\n",
      "104500,https://canvas.eee.uci.edu/courses/2230/pages/reading-schedule?module_item_id=62397,show,2016-07-18T17:18:35Z,22.0,70.187.187.85\n",
      "104500,https://canvas.eee.uci.edu/courses/2230/files/748099?module_item_id=62426,show,2016-07-18T17:18:01Z,21.0,70.187.187.85\n",
      "104500,https://canvas.eee.uci.edu/courses/2230,show,2016-07-18T03:58:00Z,,70.187.187.85\n",
      "104500,https://canvas.eee.uci.edu/courses/2230/files/748134?module_item_id=62436,show,2016-07-18T03:57:03Z,,70.187.187.85\n",
      "104500,https://canvas.eee.uci.edu/courses/2230,show,2016-07-18T03:56:58Z,,70.187.187.85\n",
      "104500,https://canvas.eee.uci.edu/courses/2230/files/748159?module_item_id=62427,show,2016-07-18T03:56:27Z,,70.187.187.85\n",
      "104500,https://canvas.eee.uci.edu/courses/2230,show,2016-07-18T03:56:19Z,,70.187.187.85\n",
      "104500,https://canvas.eee.uci.edu/courses/2230,show,2016-07-18T02:48:02Z,12.0,70.187.187.85\n",
      "104500,https://canvas.eee.uci.edu/courses/2230/assignments/49375,show,2016-07-18T02:14:00Z,,70.187.187.85\n",
      "104500,https://canvas.eee.uci.edu/courses/2230/assignments/49375/submissions,create,2016-07-18T02:14:00Z,,70.187.187.85\n",
      "104500,https://canvas.eee.uci.edu/courses/2230/assignments/49375,show,2016-07-18T02:11:37Z,,70.187.187.85\n",
      "104500,https://canvas.eee.uci.edu/courses/2230,show,2016-07-18T02:09:10Z,,70.187.187.85\n",
      "104500,https://canvas.eee.uci.edu/courses/2230/assignments/49371/submissions/11512?preview=1&rand=273613,show,2016-07-18T02:09:05Z,,70.187.187.85\n",
      "104500,https://canvas.eee.uci.edu/courses/2230/assignments/49371/submissions/11512,show,2016-07-18T02:09:04Z,,70.187.187.85\n",
      "104500,https://canvas.eee.uci.edu/courses/2230,show,2016-07-18T02:08:39Z,,70.187.187.85\n",
      "104500,https://canvas.eee.uci.edu/courses/2230/assignments/49372/submissions/11512?preview=1&rand=433531,show,2016-07-18T02:08:25Z,,70.187.187.85\n",
      "104500,https://canvas.eee.uci.edu/courses/2230/assignments/49372/submissions/11512,show,2016-07-18T02:08:24Z,,70.187.187.85\n",
      "104500,https://canvas.eee.uci.edu/courses/2230,show,2016-07-18T02:07:59Z,,70.187.187.85\n",
      "104500,https://canvas.eee.uci.edu/courses/2230/assignments/49373/submissions/11512?preview=1&rand=363004,show,2016-07-18T02:07:58Z,,70.187.187.85\n",
      "104500,https://canvas.eee.uci.edu/courses/2230/assignments/49373/submissions/11512,show,2016-07-18T02:07:56Z,,70.187.187.85\n",
      "104500,https://canvas.eee.uci.edu/courses/2230,show,2016-07-18T02:07:46Z,,70.187.187.85\n",
      "104500,https://canvas.eee.uci.edu/courses/2230/files/748111/download?wrap=1,show,2016-07-18T00:24:24Z,,70.187.187.85\n",
      "104500,https://canvas.eee.uci.edu/courses/2230/assignments/49375,show,2016-07-18T00:23:46Z,,70.187.187.85\n",
      "104500,https://canvas.eee.uci.edu/courses/2230,show,2016-07-18T00:16:12Z,,70.187.187.85\n",
      "104500,https://canvas.eee.uci.edu/courses/2230/files/748104?module_item_id=62420,show,2016-07-17T21:09:56Z,13.0,70.187.187.85\n",
      "104500,https://canvas.eee.uci.edu/courses/2230,show,2016-07-17T21:09:50Z,,70.187.187.85\n",
      "104500,https://canvas.eee.uci.edu/courses/2230/files/748068/download?wrap=1,show,2016-07-17T20:57:25Z,,70.187.187.85\n",
      "104500,https://canvas.eee.uci.edu/courses/2230/assignments/49369?module_item_id=62415,show,2016-07-17T20:57:19Z,11.0,70.187.187.85\n",
      "104500,https://canvas.eee.uci.edu/courses/2230,show,2016-07-17T20:57:16Z,,70.187.187.85\n",
      "104500,https://canvas.eee.uci.edu/courses/2230/files/748012/download?wrap=1,show,2016-07-17T20:56:47Z,,70.187.187.85\n",
      "104500,https://canvas.eee.uci.edu/courses/2230/assignments/49368?module_item_id=62414,show,2016-07-17T20:56:38Z,,70.187.187.85\n",
      "104500,https://canvas.eee.uci.edu/courses/2230,show,2016-07-17T20:56:30Z,,70.187.187.85\n",
      "104500,https://canvas.eee.uci.edu/courses/2230/pages/reading-schedule?module_item_id=62397,show,2016-07-17T05:36:12Z,,70.187.187.85\n",
      "104500,https://canvas.eee.uci.edu/courses/2230,show,2016-07-17T05:36:06Z,,70.187.187.85\n",
      "104500,https://canvas.eee.uci.edu/courses/2230/files/742190?module_item_id=62039,show,2016-07-17T05:35:52Z,,70.187.187.85\n",
      "104500,https://canvas.eee.uci.edu/courses/2230,show,2016-07-17T05:35:47Z,,70.187.187.85\n",
      "104500,https://canvas.eee.uci.edu/courses/2230/files/748014?module_item_id=62417,show,2016-07-17T04:28:37Z,19.0,70.187.187.85\n",
      "104500,https://canvas.eee.uci.edu/courses/2230/discussion_topics/27490,show,2016-07-17T04:27:49Z,,70.187.187.85\n",
      "104500,https://canvas.eee.uci.edu/courses/2230/announcements,index,2016-07-17T04:27:04Z,,70.187.187.85\n",
      "104500,https://canvas.eee.uci.edu/courses/2230,show,2016-07-17T04:25:23Z,,70.187.187.85\n",
      "104500,https://canvas.eee.uci.edu/courses/2230/pages/week-1-daily-lectures?module_item_id=62413,show,2016-07-17T04:24:37Z,,70.187.187.85\n",
      "104500,https://canvas.eee.uci.edu/courses/2230,show,2016-07-17T04:24:21Z,,70.187.187.85\n",
      "104500,https://canvas.eee.uci.edu/courses/2230/files/747534/download?wrap=1,show,2016-07-17T04:23:54Z,,70.187.187.85\n",
      "104500,https://canvas.eee.uci.edu/courses/2230/pages/list-of-important-concepts?module_item_id=62386,show,2016-07-17T04:23:40Z,,70.187.187.85\n",
      "104500,https://canvas.eee.uci.edu/courses/2230,show,2016-07-17T04:23:33Z,,70.187.187.85\n",
      "104500,https://canvas.eee.uci.edu/courses/2230/pages/reading-schedule?module_item_id=62397,show,2016-07-17T04:23:22Z,,70.187.187.85\n",
      "104500,https://canvas.eee.uci.edu/courses/2230,show,2016-07-17T04:23:17Z,,70.187.187.85\n",
      "104500,https://canvas.eee.uci.edu/courses/2230/files/742190?module_item_id=62039,show,2016-07-17T04:22:47Z,,70.187.187.85\n",
      "104500,https://canvas.eee.uci.edu/courses/2230,show,2016-07-17T04:22:17Z,,70.187.187.85\n",
      "104500,https://canvas.eee.uci.edu/courses/2230,show,2016-07-17T04:21:59Z,14.0,70.187.187.85\n",
      "104500,https://canvas.eee.uci.edu/courses/2230/files/748014?module_item_id=62417,show,2016-07-17T04:21:32Z,,70.187.187.85\n",
      "104500,https://canvas.eee.uci.edu/courses/2230,show,2016-07-17T04:21:25Z,,70.187.187.85\n",
      "104500,https://canvas.eee.uci.edu/courses/2230/files/748099?module_item_id=62426,show,2016-07-17T04:20:59Z,,70.187.187.85\n",
      "104500,https://canvas.eee.uci.edu/courses/2230,show,2016-07-17T04:20:42Z,,70.187.187.85\n",
      "104500,https://canvas.eee.uci.edu/courses/2230/discussion_topics/27480?module_item_id=62443,show,2016-07-17T04:20:14Z,,70.187.187.85\n",
      "104500,https://canvas.eee.uci.edu/courses/2230,show,2016-07-17T04:20:10Z,,70.187.187.85\n",
      "104500,https://canvas.eee.uci.edu/courses/2230/discussion_topics/27481?module_item_id=62453,show,2016-07-17T04:20:08Z,,70.187.187.85\n",
      "104500,https://canvas.eee.uci.edu/courses/2230,show,2016-07-17T04:20:03Z,,70.187.187.85\n",
      "104500,https://canvas.eee.uci.edu/courses/2230/pages/week-5-daily-lectures?module_item_id=62449,show,2016-07-17T03:49:20Z,11.0,70.187.187.85\n",
      "104500,https://canvas.eee.uci.edu/courses/2230,show,2016-07-17T03:49:14Z,,70.187.187.85\n",
      "104500,https://canvas.eee.uci.edu/courses/2230/pages/week-4-daily-lectures?module_item_id=62440,show,2016-07-17T03:49:05Z,,70.187.187.85\n",
      "104500,https://canvas.eee.uci.edu/courses/2230,show,2016-07-17T03:48:54Z,,70.187.187.85\n",
      "104500,https://canvas.eee.uci.edu/courses/2230/announcements,index,2016-07-16T05:05:24Z,,70.187.187.85\n",
      "104500,https://canvas.eee.uci.edu/courses/2230,show,2016-07-16T05:05:12Z,,70.187.187.85\n",
      "104500,https://canvas.eee.uci.edu/courses/2230/pages/week-4-daily-lectures?module_item_id=62440,show,2016-07-16T05:04:43Z,,70.187.187.85\n",
      "104500,https://canvas.eee.uci.edu/courses/2230,show,2016-07-16T05:04:33Z,,70.187.187.85\n",
      "104500,https://canvas.eee.uci.edu/courses/2230/pages/week-4-daily-lectures?module_item_id=62440,show,2016-07-15T04:35:42Z,,70.187.187.85\n",
      "104500,https://canvas.eee.uci.edu/courses/2230,show,2016-07-15T04:35:36Z,,70.187.187.85\n",
      "104500,https://canvas.eee.uci.edu/courses/2230/pages/week-4-daily-lectures?module_item_id=62440,show,2016-07-15T04:15:54Z,,70.187.187.85\n",
      "104500,https://canvas.eee.uci.edu/courses/2230,show,2016-07-15T04:15:44Z,,70.187.187.85\n",
      "104500,https://canvas.eee.uci.edu/courses/2230/assignments/49374,show,2016-07-15T04:15:35Z,,70.187.187.85\n",
      "104500,https://canvas.eee.uci.edu/courses/2230/assignments/49374,show,2016-07-14T04:42:58Z,,70.187.187.85\n",
      "104500,https://canvas.eee.uci.edu/courses/2230/assignments/49374/submissions,create,2016-07-14T04:42:58Z,,70.187.187.85\n",
      "104500,https://canvas.eee.uci.edu/courses/2230/files/748112/download?wrap=1,show,2016-07-14T03:13:38Z,,70.187.187.85\n",
      "104500,https://canvas.eee.uci.edu/courses/2230/assignments/49374,show,2016-07-14T03:06:40Z,21.0,70.187.187.85\n",
      "104500,https://canvas.eee.uci.edu/courses/2230,show,2016-07-14T03:06:24Z,,70.187.187.85\n",
      "104500,https://canvas.eee.uci.edu/courses/2230/pages/week-4-daily-lectures?module_item_id=62440,show,2016-07-13T03:12:30Z,,70.187.187.85\n",
      "104500,https://canvas.eee.uci.edu/courses/2230,show,2016-07-13T03:12:20Z,,70.187.187.85\n",
      "104500,https://canvas.eee.uci.edu/courses/2230/pages/week-4-daily-lectures?module_item_id=62440,show,2016-07-12T18:40:26Z,,70.187.187.85\n",
      "104500,https://canvas.eee.uci.edu/courses/2230/pages/week-4-daily-lectures?module_item_id=62440,show,2016-07-12T05:12:44Z,,70.187.187.85\n",
      "104500,https://canvas.eee.uci.edu/courses/2230,show,2016-07-12T05:12:40Z,,70.187.187.85\n",
      "104500,https://canvas.eee.uci.edu/courses/2230/pages/week-3-daily-lectures?module_item_id=62431,show,2016-07-12T05:12:38Z,,70.187.187.85\n",
      "104500,https://canvas.eee.uci.edu/courses/2230,show,2016-07-12T05:12:19Z,,70.187.187.85\n",
      "104500,https://canvas.eee.uci.edu/courses/2230/assignments/49373/submissions/11512?download=795783,show,2016-07-11T05:12:24Z,,70.187.187.85\n",
      "104500,https://canvas.eee.uci.edu/courses/2230/assignments/49373/submissions/11512?preview=1&rand=941093,show,2016-07-11T05:12:20Z,,70.187.187.85\n",
      "104500,https://canvas.eee.uci.edu/courses/2230/assignments/49373/submissions/11512,show,2016-07-11T05:12:19Z,,70.187.187.85\n",
      "104500,https://canvas.eee.uci.edu/courses/2230/assignments/49373,show,2016-07-11T05:12:13Z,,70.187.187.85\n",
      "104500,https://canvas.eee.uci.edu/courses/2230/assignments/49373/submissions,create,2016-07-11T05:12:13Z,,70.187.187.85\n",
      "104500,https://canvas.eee.uci.edu/courses/2230/files/748122/download?wrap=1,show,2016-07-11T04:15:34Z,,70.187.187.85\n",
      "104500,https://canvas.eee.uci.edu/courses/2230/assignments/49373,show,2016-07-11T04:15:18Z,11.0,70.187.187.85\n",
      "104500,https://canvas.eee.uci.edu/courses/2230,show,2016-07-11T04:11:00Z,,70.187.187.85\n",
      "104500,https://canvas.eee.uci.edu/courses/2230/pages/week-3-daily-lectures?module_item_id=62431,show,2016-07-08T21:37:49Z,,70.187.187.85\n",
      "104500,https://canvas.eee.uci.edu/courses/2230,show,2016-07-08T17:25:08Z,,70.187.187.85\n",
      "104500,https://canvas.eee.uci.edu/courses/2230/pages/week-3-daily-lectures?module_item_id=62431,show,2016-07-08T01:18:54Z,,70.187.187.85\n",
      "104500,https://canvas.eee.uci.edu/courses/2230,show,2016-07-08T01:18:47Z,,70.187.187.85\n",
      "104500,https://canvas.eee.uci.edu/courses/2230/files/742190?module_item_id=62039,show,2016-07-08T01:08:30Z,,70.187.187.85\n",
      "104500,https://canvas.eee.uci.edu/courses/2230,show,2016-07-08T01:08:19Z,,70.187.187.85\n",
      "104500,https://canvas.eee.uci.edu/courses/2230/assignments/49372,show,2016-07-06T23:40:04Z,,70.187.187.85\n",
      "104500,https://canvas.eee.uci.edu/courses/2230/assignments/49372/submissions,create,2016-07-06T23:40:04Z,,70.187.187.85\n",
      "104500,https://canvas.eee.uci.edu/courses/2230/files/748109/download?wrap=1,show,2016-07-06T22:53:50Z,,70.187.187.85\n",
      "104500,https://canvas.eee.uci.edu/courses/2230/assignments/49372,show,2016-07-06T22:53:45Z,,70.187.187.85\n",
      "104500,https://canvas.eee.uci.edu/courses/2230,show,2016-07-06T22:53:36Z,,70.187.187.85\n",
      "104500,https://canvas.eee.uci.edu/courses/2230/pages/week-3-daily-lectures?module_item_id=62431,show,2016-07-06T22:08:12Z,,70.187.187.85\n",
      "104500,https://canvas.eee.uci.edu/courses/2230,show,2016-07-06T22:07:51Z,,70.187.187.85\n",
      "104500,https://canvas.eee.uci.edu/courses/2230,show,2016-07-06T03:19:13Z,,70.187.187.85\n",
      "104500,https://canvas.eee.uci.edu/courses/2230/pages/week-3-daily-lectures?module_item_id=62431,show,2016-07-06T03:06:38Z,,70.187.187.85\n",
      "104500,https://canvas.eee.uci.edu/courses/2230,show,2016-07-06T03:06:31Z,,70.187.187.85\n",
      "104500,https://canvas.eee.uci.edu/courses/2230/pages/week-3-daily-lectures?module_item_id=62431,show,2016-07-05T01:08:34Z,,99.109.146.209\n",
      "104500,https://canvas.eee.uci.edu/courses/2230/pages/week-3-daily-lectures?module_item_id=62431,show,2016-07-05T00:45:55Z,,99.109.146.209\n",
      "104500,https://canvas.eee.uci.edu/courses/2230,show,2016-07-05T00:45:44Z,,99.109.146.209\n",
      "104500,https://canvas.eee.uci.edu/courses/2230/assignments/49371,show,2016-07-05T00:45:39Z,,99.109.146.209\n",
      "104500,https://ucirvine.instructure.com/courses/2230/assignments/49379,show,2016-07-03T20:14:38Z,,23.241.154.49\n",
      "104500,https://ucirvine.instructure.com/courses/2230/assignments/49370,show,2016-07-03T08:01:48Z,,23.241.154.49\n",
      "104500,https://ucirvine.instructure.com/courses/2230/assignments/49401,show,2016-07-03T08:01:36Z,,23.241.154.49\n",
      "104500,https://ucirvine.instructure.com/courses/2230/assignments/49402,show,2016-07-03T08:01:21Z,,23.241.154.49\n",
      "104500,https://ucirvine.instructure.com/courses/2230/assignments/49379,show,2016-07-03T08:01:02Z,,23.241.154.49\n",
      "104500,https://canvas.eee.uci.edu/courses/2230,show,2016-07-03T08:00:31Z,,23.241.154.49\n",
      "104500,https://canvas.eee.uci.edu/courses/2230/assignments/49371,show,2016-07-03T04:36:18Z,,23.241.154.49\n",
      "104500,https://canvas.eee.uci.edu/courses/2230/assignments/49371/submissions,create,2016-07-03T04:36:17Z,,23.241.154.49\n",
      "104500,https://canvas.eee.uci.edu/courses/2230/assignments/49371,show,2016-07-03T04:34:52Z,,23.241.154.49\n",
      "104500,https://canvas.eee.uci.edu/courses/2230,show,2016-07-03T04:34:44Z,,23.241.154.49\n",
      "104500,https://canvas.eee.uci.edu/courses/2230/pages/week-2-daily-lectures?module_item_id=62422,show,2016-07-03T02:42:18Z,,23.241.154.49\n",
      "104500,https://canvas.eee.uci.edu/courses/2230/pages/week-2-daily-lectures?module_item_id=62422,show,2016-07-03T02:40:09Z,,23.241.154.49\n",
      "104500,https://canvas.eee.uci.edu/courses/2230,show,2016-07-03T02:39:46Z,,23.241.154.49\n",
      "104500,https://canvas.eee.uci.edu/courses/2230,show,2016-07-02T04:41:28Z,,70.187.187.85\n",
      "104500,https://canvas.eee.uci.edu/courses/2230/pages/week-2-daily-lectures?module_item_id=62422,show,2016-07-01T23:16:54Z,,70.187.187.85\n",
      "104500,https://canvas.eee.uci.edu/courses/2230/pages/week-2-daily-lectures?module_item_id=62422,show,2016-07-01T22:26:13Z,,70.187.187.85\n",
      "104500,https://canvas.eee.uci.edu/courses/2230/pages/week-2-daily-lectures?module_item_id=62422,show,2016-07-01T22:22:33Z,,70.187.187.85\n",
      "104500,https://canvas.eee.uci.edu/courses/2230,show,2016-06-30T22:22:03Z,14.0,169.234.63.151\n",
      "104500,https://canvas.eee.uci.edu/courses/2230/pages/week-1-daily-lectures?module_item_id=62413,show,2016-06-30T22:21:40Z,,169.234.63.151\n",
      "104500,https://canvas.eee.uci.edu/courses/2230,show,2016-06-30T22:21:36Z,,169.234.63.151\n",
      "104500,https://canvas.eee.uci.edu/courses/2230/discussion_topics/27477?module_item_id=62416,show,2016-06-30T22:21:33Z,,169.234.63.151\n",
      "104500,https://canvas.eee.uci.edu/courses/2230,show,2016-06-30T22:21:24Z,,169.234.63.151\n",
      "104500,https://canvas.eee.uci.edu/courses/2230/pages/reading-schedule?module_item_id=62397,show,2016-06-30T22:21:18Z,,169.234.63.151\n",
      "104500,https://canvas.eee.uci.edu/courses/2230,show,2016-06-30T22:21:14Z,,169.234.63.151\n",
      "104500,https://canvas.eee.uci.edu/courses/2230/files/747534/download?wrap=1,show,2016-06-30T21:36:27Z,,169.234.63.151\n",
      "104500,https://canvas.eee.uci.edu/courses/2230/pages/list-of-important-concepts?module_item_id=62386,show,2016-06-30T21:26:03Z,,169.234.63.151\n",
      "104500,https://canvas.eee.uci.edu/courses/2230,show,2016-06-30T21:25:45Z,,169.234.63.151\n",
      "104500,https://canvas.eee.uci.edu/courses/2230/pages/week-2-daily-lectures?module_item_id=62422,show,2016-06-30T21:15:09Z,,169.234.63.151\n",
      "104500,https://canvas.eee.uci.edu/courses/2230/pages/week-2-daily-lectures?module_item_id=62422,show,2016-06-30T21:14:48Z,,169.234.63.151\n",
      "104500,https://canvas.eee.uci.edu/courses/2230,show,2016-06-30T21:14:16Z,,169.234.63.151\n",
      "104500,https://canvas.eee.uci.edu/courses/2230,show,2016-06-30T21:13:55Z,,169.234.63.151\n",
      "104500,https://canvas.eee.uci.edu/courses/2230/assignments/49370,show,2016-06-30T04:07:47Z,,70.187.187.85\n",
      "104500,https://canvas.eee.uci.edu/courses/2230,show,2016-06-30T01:02:32Z,,70.187.187.85\n",
      "104500,https://canvas.eee.uci.edu/courses/2230/pages/week-2-daily-lectures?module_item_id=62422,show,2016-06-30T01:01:48Z,,70.187.187.85\n",
      "104500,https://canvas.eee.uci.edu/courses/2230,show,2016-06-29T17:34:55Z,,70.187.187.85\n",
      "104500,https://canvas.eee.uci.edu/courses/2230/assignments,index,2016-06-29T17:34:55Z,,70.187.187.85\n",
      "104500,https://canvas.eee.uci.edu/courses/2230/assignments/49369,show,2016-06-29T17:34:46Z,,70.187.187.85\n",
      "104500,https://canvas.eee.uci.edu/courses/2230/assignments/49369,show,2016-06-29T05:17:58Z,,70.187.187.85\n",
      "104500,https://canvas.eee.uci.edu/courses/2230/assignments/49369/submissions,create,2016-06-29T05:17:58Z,,70.187.187.85\n",
      "104500,https://canvas.eee.uci.edu/courses/2230/files/748068/download?wrap=1,show,2016-06-29T04:40:58Z,,70.187.187.85\n",
      "104500,https://canvas.eee.uci.edu/courses/2230/assignments/49369,show,2016-06-29T04:40:42Z,12.0,70.187.187.85\n",
      "104500,https://canvas.eee.uci.edu/courses/2230/pages/week-2-daily-lectures?module_item_id=62422,show,2016-06-29T02:53:43Z,,70.187.187.85\n",
      "104500,https://canvas.eee.uci.edu/courses/2230,show,2016-06-29T01:39:45Z,,70.187.187.85\n",
      "104500,https://canvas.eee.uci.edu/courses/2230/files/748110/download?wrap=1,show,2016-06-29T01:39:03Z,,70.187.187.85\n",
      "104500,https://canvas.eee.uci.edu/courses/2230/assignments/49370,show,2016-06-29T01:38:48Z,,70.187.187.85\n",
      "104500,https://canvas.eee.uci.edu/courses/2230,show,2016-06-29T01:38:01Z,,70.187.187.85\n",
      "104500,https://canvas.eee.uci.edu/courses/2230/pages/week-2-daily-lectures?module_item_id=62422,show,2016-06-28T03:49:42Z,,70.187.187.85\n",
      "104500,https://canvas.eee.uci.edu/courses/2230,show,2016-06-28T03:49:34Z,,70.187.187.85\n",
      "104500,https://canvas.eee.uci.edu/courses/2230/pages,index,2016-06-28T03:49:34Z,,70.187.187.85\n",
      "104500,https://canvas.eee.uci.edu/courses/2230/pages/week-1-daily-lectures?module_item_id=62413,show,2016-06-28T03:49:29Z,,70.187.187.85\n",
      "104500,https://canvas.eee.uci.edu/courses/2230/pages/week-1-daily-lectures?module_item_id=62413,show,2016-06-28T03:49:19Z,,70.187.187.85\n",
      "104500,https://canvas.eee.uci.edu/courses/2230,show,2016-06-28T03:49:10Z,,70.187.187.85\n",
      "104500,https://canvas.eee.uci.edu/courses/2230/files/742190/download?download_frd=1,show,2016-06-28T03:02:35Z,,184.189.203.244\n",
      "104500,https://canvas.eee.uci.edu/courses/2230/files/742190?module_item_id=62039,show,2016-06-28T03:02:28Z,,184.189.203.244\n",
      "104500,https://canvas.eee.uci.edu/courses/2230,show,2016-06-28T03:02:17Z,,184.189.203.244\n",
      "104500,https://canvas.eee.uci.edu/courses/2230/assignments/49368,show,2016-06-27T17:48:41Z,,70.187.187.85\n",
      "104500,https://canvas.eee.uci.edu/courses/2230/assignments/49368,show,2016-06-27T03:54:50Z,,70.187.187.85\n",
      "104500,https://canvas.eee.uci.edu/courses/2230,show,2016-06-26T20:46:01Z,,70.187.187.85\n",
      "104500,https://canvas.eee.uci.edu/courses/2230/files/748012/download?wrap=1,show,2016-06-26T17:56:49Z,,70.187.187.85\n",
      "104500,https://canvas.eee.uci.edu/courses/2230/assignments/49368,show,2016-06-26T06:36:51Z,19.0,70.187.187.85\n",
      "104500,https://canvas.eee.uci.edu/courses/2230,show,2016-06-26T06:36:41Z,,70.187.187.85\n",
      "104500,https://canvas.eee.uci.edu/courses/2230/pages/week-1-daily-lectures?module_item_id=62413,show,2016-06-25T04:41:05Z,,70.187.187.85\n",
      "104500,https://canvas.eee.uci.edu/courses/2230/pages/week-1-daily-lectures?module_item_id=62413,show,2016-06-25T03:45:55Z,,70.187.187.85\n",
      "104500,https://canvas.eee.uci.edu/courses/2230/pages/week-1-daily-lectures?module_item_id=62413,show,2016-06-25T02:56:17Z,,70.187.187.85\n",
      "104500,https://canvas.eee.uci.edu/courses/2230/pages/week-1-daily-lectures?module_item_id=62413,show,2016-06-25T00:07:26Z,,70.187.187.85\n",
      "104500,https://canvas.eee.uci.edu/courses/2230,show,2016-06-24T01:28:34Z,,70.187.187.85\n",
      "104500,https://canvas.eee.uci.edu/courses/2230/files/742190?module_item_id=62039,show,2016-06-24T01:27:41Z,,70.187.187.85\n",
      "104500,https://canvas.eee.uci.edu/courses/2230,show,2016-06-24T01:27:31Z,,70.187.187.85\n",
      "104500,https://canvas.eee.uci.edu/courses/2230/pages/week-1-daily-lectures?module_item_id=62413,show,2016-06-24T00:40:13Z,,70.187.187.85\n",
      "104500,https://canvas.eee.uci.edu/courses/2230,show,2016-06-24T00:39:57Z,,70.187.187.85\n",
      "104500,https://canvas.eee.uci.edu/courses/2230/files/742190/download?download_frd=1,show,2016-06-24T00:39:21Z,,70.187.187.85\n",
      "104500,https://canvas.eee.uci.edu/courses/2230/files/742190?module_item_id=62039,show,2016-06-24T00:39:19Z,,70.187.187.85\n",
      "104500,https://canvas.eee.uci.edu/courses/2230,show,2016-06-24T00:39:15Z,,70.187.187.85\n",
      "104500,https://canvas.eee.uci.edu/courses/2230/announcements,index,2016-06-24T00:39:10Z,,70.187.187.85\n",
      "104500,https://canvas.eee.uci.edu/courses/2230/pages/week-1-daily-lectures?module_item_id=62413,show,2016-06-24T00:38:05Z,,70.187.187.85\n",
      "104500,https://canvas.eee.uci.edu/courses/2230,show,2016-06-24T00:38:00Z,,70.187.187.85\n",
      "104500,https://canvas.eee.uci.edu/courses/2230/pages/reading-schedule?module_item_id=62397,show,2016-06-23T00:09:15Z,25.0,70.187.187.85\n",
      "104500,https://canvas.eee.uci.edu/courses/2230,show,2016-06-23T00:09:05Z,,70.187.187.85\n",
      "104500,https://canvas.eee.uci.edu/courses/2230/pages/week-1-daily-lectures?module_item_id=62413,show,2016-06-22T23:01:53Z,12.0,70.187.187.85\n",
      "104500,https://canvas.eee.uci.edu/courses/2230,show,2016-06-22T23:01:47Z,,70.187.187.85\n",
      "104500,https://canvas.eee.uci.edu/courses/2230/pages/reading-schedule?module_item_id=62397,show,2016-06-22T05:40:48Z,13.0,70.187.187.85\n",
      "104500,https://canvas.eee.uci.edu/courses/2230,show,2016-06-22T05:40:45Z,,70.187.187.85\n",
      "104500,https://canvas.eee.uci.edu/courses/2230/pages/5-box-solution-format?module_item_id=62400,show,2016-06-22T05:40:41Z,,70.187.187.85\n",
      "104500,https://canvas.eee.uci.edu/courses/2230,show,2016-06-22T05:40:28Z,,70.187.187.85\n",
      "104500,https://canvas.eee.uci.edu/courses/2230/users,roster,2016-06-22T05:40:15Z,,70.187.187.85\n",
      "104500,https://canvas.eee.uci.edu/courses/2230/discussion_topics,index,2016-06-22T05:40:14Z,,70.187.187.85\n",
      "104500,https://canvas.eee.uci.edu/courses/2230,show,2016-06-22T05:40:05Z,,70.187.187.85\n",
      "104500,https://canvas.eee.uci.edu/courses/2230/discussion_topics/27498,show,2016-06-22T05:40:01Z,,70.187.187.85\n",
      "104500,https://canvas.eee.uci.edu/courses/2230/discussion_topics,index,2016-06-22T05:39:51Z,,70.187.187.85\n",
      "104500,https://canvas.eee.uci.edu/courses/2230/announcements,index,2016-06-22T05:39:42Z,,70.187.187.85\n",
      "104500,https://canvas.eee.uci.edu/courses/2230/pages/week-1-daily-lectures?module_item_id=62413,show,2016-06-22T05:39:08Z,,70.187.187.85\n",
      "104500,https://canvas.eee.uci.edu/courses/2230,show,2016-06-22T05:38:52Z,,70.187.187.85\n",
      "104500,https://canvas.eee.uci.edu/courses/2230/discussion_topics/27477?module_item_id=62416,show,2016-06-22T05:38:47Z,,70.187.187.85\n",
      "104500,https://canvas.eee.uci.edu/courses/2230/files/742190/download?download_frd=1,show,2016-06-22T05:25:11Z,,70.187.187.85\n",
      "104500,https://canvas.eee.uci.edu/courses/2230/files/742190?module_item_id=62039,show,2016-06-22T05:25:08Z,12.0,70.187.187.85\n",
      "104500,https://canvas.eee.uci.edu/courses/2230,show,2016-06-22T05:24:57Z,13.0,70.187.187.85\n",
      "104500,https://canvas.eee.uci.edu/courses/2230/pages/week-1-daily-lectures?module_item_id=62413,show,2016-06-22T05:09:47Z,11.0,70.187.187.85\n",
      "104500,https://canvas.eee.uci.edu/courses/2230,show,2016-06-22T05:09:36Z,,70.187.187.85\n",
      "104500,https://canvas.eee.uci.edu/courses/2230/assignments/49403?module_item_id=62408,show,2016-06-22T05:09:29Z,,70.187.187.85\n",
      "104500,https://canvas.eee.uci.edu/courses/2230,show,2016-06-22T05:08:17Z,,70.187.187.85\n",
      "104500,https://canvas.eee.uci.edu/courses/2230/files/742190/download?download_frd=1,show,2016-06-22T05:07:15Z,,70.187.187.85\n",
      "104500,https://canvas.eee.uci.edu/courses/2230/files/742190?module_item_id=62039,show,2016-06-22T05:07:13Z,,70.187.187.85\n",
      "104500,https://canvas.eee.uci.edu/courses/2230,show,2016-06-22T05:07:04Z,,70.187.187.85\n",
      "104500,https://canvas.eee.uci.edu/courses/2230/files/748073/download?wrap=1,show,2016-06-20T19:06:58Z,,70.187.187.85\n",
      "104500,https://canvas.eee.uci.edu/courses/2230/files/748073/download?wrap=1,show,2016-06-20T17:50:44Z,,70.187.187.85\n",
      "104500,https://canvas.eee.uci.edu/courses/2230/discussion_topics/27494,show,2016-06-20T17:50:25Z,13.0,70.187.187.85\n",
      "104500,https://canvas.eee.uci.edu/courses/2230/announcements,index,2016-06-20T17:50:20Z,,70.187.187.85\n",
      "104500,https://canvas.eee.uci.edu/courses/2230/announcements,index,2016-06-20T17:50:02Z,,70.187.187.85\n",
      "104500,https://canvas.eee.uci.edu/courses/2230/pages/week-1-daily-lectures?module_item_id=62413,show,2016-06-20T04:18:57Z,,70.187.187.85\n",
      "104500,https://canvas.eee.uci.edu/courses/2230,show,2016-06-20T04:18:07Z,33.0,70.187.187.85\n",
      "\n"
     ]
    }
   ],
   "source": [
    "file = open(\"104500.csv\")\n",
    "\n",
    "data = file.read()\n",
    "\n",
    "print data\n",
    "\n",
    "file.close()  # It's important to close the file when you're done with it"
   ]
  },
  {
   "cell_type": "code",
   "execution_count": null,
   "metadata": {},
   "outputs": [],
   "source": []
  }
 ],
 "metadata": {
  "kernelspec": {
   "display_name": "Python [default]",
   "language": "python",
   "name": "python2"
  },
  "language_info": {
   "codemirror_mode": {
    "name": "ipython",
    "version": 2
   },
   "file_extension": ".py",
   "mimetype": "text/x-python",
   "name": "python",
   "nbconvert_exporter": "python",
   "pygments_lexer": "ipython2",
   "version": "2.7.13"
  }
 },
 "nbformat": 4,
 "nbformat_minor": 2
}
