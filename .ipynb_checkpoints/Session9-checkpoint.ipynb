{
 "cells": [
  {
   "cell_type": "markdown",
   "metadata": {},
   "source": [
    "# Python for Data Science Workshop - Spring 2018\n",
    "June 14, 2018\n",
    "\n",
    "Instructor: Fernando Rodriguez\n",
    "\n",
    "Clickstream examples and exercises provided by Jihyun Park\n",
    "\n",
    "## Session 9: NumPy library for making data matricies, Matplotlib library for making graphs, Exporting CSV files\n",
    "\n",
    "In session 8, we were able to go through all of the necessary steps to get our data into a dictionary.\n",
    "\n",
    "We are now going to convert the dictionary data into a dataset, which we can finally use to analyze our data and export to a csv file. "
   ]
  },
  {
   "cell_type": "markdown",
   "metadata": {},
   "source": [
    "#### Let's first load up our importing script from Session 8. Make sure to include the get_cats_from_url() function as well."
   ]
  },
  {
   "cell_type": "code",
   "execution_count": 6,
   "metadata": {},
   "outputs": [],
   "source": [
    "def get_cats_from_url(url):\n",
    "    if len(url.split('/')) < 6:\n",
    "        return \"homepage\"\n",
    "    else:\n",
    "        return url.split('/')[5]"
   ]
  },
  {
   "cell_type": "code",
   "execution_count": 7,
   "metadata": {},
   "outputs": [],
   "source": [
    "import os\n",
    "import csv\n",
    "from datetime import datetime, timedelta # importing datetime module\n",
    "\n",
    "\n",
    "data = {}\n",
    "\n",
    "rid = []\n",
    "\n",
    "dt_format = \"%Y-%m-%dT%H:%M:%SZ\"   # date-time format\n",
    "\n",
    "\n",
    "dataDir = \"/Volumes/GoogleDrive/My Drive/Python Workspace/Python-for-Data-Science-Workshop/s6data\"\n",
    "\n",
    "for files in os.listdir(dataDir):\n",
    "    if not files.startswith('.') and not files.startswith(\"Icon\"):\n",
    "        csvFiles = os.path.join(dataDir, files)\n",
    "        rid = (files.split(\".\")[0])\n",
    "\n",
    "        url_list = [] # these need to be indented here!!!!!!\n",
    "        ts_list = []\n",
    "        ip_list  = []\n",
    "        cat_list = [] \n",
    "        \n",
    "        with open(csvFiles, 'r') as f:\n",
    "            reader = csv.reader(f, delimiter=\",\")\n",
    "            header = reader.next()\n",
    "\n",
    "            for line in reader: \n",
    "                url = line[1]\n",
    "                cat = get_cats_from_url(url)\n",
    "                ts = datetime.strptime(line[3], dt_format)\n",
    "                ip = line[5]\n",
    "\n",
    "                url_list.append(url)\n",
    "                cat_list.append(cat)\n",
    "                ts_list.append(ts)\n",
    "                ip_list.append(ip)\n",
    "\n",
    "\n",
    "        studentData = {\"urls\":url_list, \"ts\":ts_list, \"ips\":ip_list, \"cats\": cat_list}\n",
    "\n",
    "        data[rid] = studentData"
   ]
  },
  {
   "cell_type": "code",
   "execution_count": 4,
   "metadata": {},
   "outputs": [
    {
     "data": {
      "text/plain": [
       "['https://canvas.eee.uci.edu/courses/2230/files/742190/download?download_frd=1',\n",
       " 'https://canvas.eee.uci.edu/courses/2230/files/742190?module_item_id=62039',\n",
       " 'https://canvas.eee.uci.edu/courses/2230/pages/5-box-solution-format?module_item_id=62400',\n",
       " 'https://canvas.eee.uci.edu/courses/2230/files/742190?module_item_id=62039',\n",
       " 'https://canvas.eee.uci.edu/courses/2230',\n",
       " 'https://canvas.eee.uci.edu/courses/2230/files/747534/download?wrap=1',\n",
       " 'https://canvas.eee.uci.edu/courses/2230/pages/list-of-important-concepts?module_item_id=62386',\n",
       " 'https://canvas.eee.uci.edu/courses/2230',\n",
       " 'https://canvas.eee.uci.edu/courses/2230/files/748147?module_item_id=62454',\n",
       " 'https://canvas.eee.uci.edu/courses/2230']"
      ]
     },
     "execution_count": 4,
     "metadata": {},
     "output_type": "execute_result"
    }
   ],
   "source": [
    "# checking data\n",
    "data['104500']['urls'][0:10]"
   ]
  },
  {
   "cell_type": "code",
   "execution_count": 5,
   "metadata": {},
   "outputs": [
    {
     "data": {
      "text/plain": [
       "['https://ucirvine.instructure.com/courses/2230/assignments/49367',\n",
       " 'https://ucirvine.instructure.com/courses/2230',\n",
       " 'https://ucirvine.instructure.com/courses/2230/quizzes/8316?module_item_id=62462',\n",
       " 'https://ucirvine.instructure.com/courses/2230',\n",
       " 'https://ucirvine.instructure.com/courses/2230/assignments/49395',\n",
       " 'https://canvas.eee.uci.edu/courses/2230/assignments/49367?module_item_id=62451',\n",
       " 'https://canvas.eee.uci.edu/courses/2230/assignments/49367?module_item_id=62451',\n",
       " 'https://canvas.eee.uci.edu/courses/2230/assignments/49367?module_item_id=62451',\n",
       " 'https://canvas.eee.uci.edu/courses/2230',\n",
       " 'https://ucirvine.instructure.com/courses/2230/assignments/49374?module_item_id=62441']"
      ]
     },
     "execution_count": 5,
     "metadata": {},
     "output_type": "execute_result"
    }
   ],
   "source": [
    "# checking data\n",
    "data['104716']['urls'][0:10]"
   ]
  },
  {
   "cell_type": "markdown",
   "metadata": {},
   "source": [
    "<br><br>\n",
    "### Using Numpy library to convert data to matrix\n",
    "It's a Python library focuses on matricies (also known as arrays).\n",
    "\n",
    "We will use this library to convert our data dictionary into a matrix. \n",
    "\n",
    "Our rows will be students, and the colums will be our days. \n",
    "\n",
    "We will compute the total number of clicks per day for each student."
   ]
  },
  {
   "cell_type": "code",
   "execution_count": 13,
   "metadata": {},
   "outputs": [],
   "source": [
    "import numpy as np"
   ]
  },
  {
   "cell_type": "markdown",
   "metadata": {},
   "source": [
    "#### .zeros and .ones modules are useful for initializing datasets\n",
    "np.zeros() : Initializing numpy arrays to zeros<br>\n",
    "np.ones() : Initializaing numpy arrays to ones<br>"
   ]
  },
  {
   "cell_type": "code",
   "execution_count": 274,
   "metadata": {},
   "outputs": [
    {
     "data": {
      "text/plain": [
       "array([[ 0.,  0.,  0.,  0.,  0.,  0.,  0.,  0.,  0.,  0.],\n",
       "       [ 0.,  0.,  0.,  0.,  0.,  0.,  0.,  0.,  0.,  0.],\n",
       "       [ 0.,  0.,  0.,  0.,  0.,  0.,  0.,  0.,  0.,  0.],\n",
       "       [ 0.,  0.,  0.,  0.,  0.,  0.,  0.,  0.,  0.,  0.],\n",
       "       [ 0.,  0.,  0.,  0.,  0.,  0.,  0.,  0.,  0.,  0.]])"
      ]
     },
     "execution_count": 274,
     "metadata": {},
     "output_type": "execute_result"
    }
   ],
   "source": [
    "# the first argument, 5, tells Pyton to make 5 rows\n",
    "# the second argument, 6, tells Python to make 10 colums\n",
    "np.zeros((5, 10)) # you need two parentheses "
   ]
  },
  {
   "cell_type": "code",
   "execution_count": 275,
   "metadata": {},
   "outputs": [
    {
     "data": {
      "text/plain": [
       "array([[ 1.,  1.,  1.,  1.,  1.,  1.,  1.,  1.,  1.,  1.],\n",
       "       [ 1.,  1.,  1.,  1.,  1.,  1.,  1.,  1.,  1.,  1.],\n",
       "       [ 1.,  1.,  1.,  1.,  1.,  1.,  1.,  1.,  1.,  1.],\n",
       "       [ 1.,  1.,  1.,  1.,  1.,  1.,  1.,  1.,  1.,  1.],\n",
       "       [ 1.,  1.,  1.,  1.,  1.,  1.,  1.,  1.,  1.,  1.]])"
      ]
     },
     "execution_count": 275,
     "metadata": {},
     "output_type": "execute_result"
    }
   ],
   "source": [
    "np.ones((5, 10))"
   ]
  },
  {
   "cell_type": "markdown",
   "metadata": {},
   "source": [
    "<br>\n",
    "### Creating arrays from the clickstream data\n",
    "\n",
    "We first need to create our array before we can put our data into it.\n",
    "\n",
    "We need to do two things to set this up.\n",
    "\n",
    "1) decide what we are going to define as the first day of the course. let's select June 13, 2016 as our start day.\n",
    "\n",
    "2) set the number of maximum days, which is the number of days between the start of the course and the end of the course. Let's do 50 days for this example.\n"
   ]
  },
  {
   "cell_type": "code",
   "execution_count": 100,
   "metadata": {},
   "outputs": [],
   "source": [
    "first_day = datetime(2016, 6, 13, 0, 0, 0)\n",
    "max_days = 50\n",
    "# 49 days after 6-13-2016 is 8-1-2016"
   ]
  },
  {
   "cell_type": "markdown",
   "metadata": {},
   "source": [
    "#### Array for single student csv file\n",
    "Now we are going to create an array. For now, we are just going to obtain the total number of clicks per day for a single student"
   ]
  },
  {
   "cell_type": "code",
   "execution_count": 299,
   "metadata": {},
   "outputs": [],
   "source": [
    "# initializing\n",
    "nclicks_per_day = np.zeros(max_days)"
   ]
  },
  {
   "cell_type": "code",
   "execution_count": 300,
   "metadata": {},
   "outputs": [
    {
     "data": {
      "text/plain": [
       "array([ 0.,  0.,  0.,  0.,  0.,  0.,  0.,  0.,  0.,  0.,  0.,  0.,  0.,\n",
       "        0.,  0.,  0.,  0.,  0.,  0.,  0.,  0.,  0.,  0.,  0.,  0.,  0.,\n",
       "        0.,  0.,  0.,  0.,  0.,  0.,  0.,  0.,  0.,  0.,  0.,  0.,  0.,\n",
       "        0.,  0.,  0.,  0.,  0.,  0.,  0.,  0.,  0.,  0.,  0.])"
      ]
     },
     "execution_count": 300,
     "metadata": {},
     "output_type": "execute_result"
    }
   ],
   "source": [
    "nclicks_per_day"
   ]
  },
  {
   "cell_type": "code",
   "execution_count": 301,
   "metadata": {},
   "outputs": [
    {
     "data": {
      "text/plain": [
       "(50,)"
      ]
     },
     "execution_count": 301,
     "metadata": {},
     "output_type": "execute_result"
    }
   ],
   "source": [
    "# this is a one dimensional aray\n",
    "nclicks_per_day.shape"
   ]
  },
  {
   "cell_type": "markdown",
   "metadata": {},
   "source": [
    "Now we wan to create an array of number of clicks using a single csv file. \n",
    "\n",
    "We can do this for a single student in our dictionary, data.\n",
    "\n",
    "To obtain the number of clicks, we need a to utilize the timestamp key-value pair."
   ]
  },
  {
   "cell_type": "markdown",
   "metadata": {},
   "source": [
    "We will create a counter."
   ]
  },
  {
   "cell_type": "code",
   "execution_count": 285,
   "metadata": {},
   "outputs": [],
   "source": [
    "first_day = datetime(2016, 6, 13, 0, 0, 0) # specifying first day of class\n",
    "max_days = 50 # this value will be the size of each row\n",
    "\n",
    "# creating matrix that will capture number of clicks per day on the nth day since the first day\n",
    "# right now, this is a 1-dimensional array\n",
    "nclicks_per_day = np.zeros(max_days, dtype = np.int32) # np.int32 specifies datetime type\n",
    "\n",
    "studentExample = data['104500']\n",
    "\n",
    "# we want to store the number of clicks using timedelta\n",
    "# the 'time' refers to each timestamp\n",
    "# delta will be a timedelta object using .days methods\n",
    "\n",
    "for time in studentExample['ts']:\n",
    "    delta = time - first_day\n",
    "    if 0 <= delta.days < max_days: # If delta.days is equal to or larger than zero, but smaller than max days\n",
    "        nclicks_per_day[delta.days] += 1 #increase by 1, which wil count how many events happen within a given day\n",
    "        # above line same as doing this: nclicks_per-day[delta.days] = nclicks_per-day[delta.days] + 1\n",
    "    "
   ]
  },
  {
   "cell_type": "markdown",
   "metadata": {},
   "source": [
    "Let's manually check whether these counts are correct by opening the '104500.csv' file. We know that the final day is 8-1-2016, so lets count the number of time-stamped events for that day."
   ]
  },
  {
   "cell_type": "code",
   "execution_count": 292,
   "metadata": {},
   "outputs": [
    {
     "name": "stdout",
     "output_type": "stream",
     "text": [
      "[ 0  0  0  0  0  0  0  7  0 25  2 11  4  4  2  9 12 17  3  1 13  0  4 10  0\n",
      "  6  0  0  8  5  2  5  5  4 38 33 17  6 15  7  5 11  3 13  7  0  0  0  0  5]\n",
      "(50,)\n"
     ]
    }
   ],
   "source": [
    "print nclicks_per_day\n",
    "print nclicks_per_day.shape"
   ]
  },
  {
   "cell_type": "markdown",
   "metadata": {},
   "source": [
    "### Single student array function\n",
    "You can make this a function by putting all of the initialized variables in the argument.\n",
    "\n",
    "When you put in arguments this way, these will be the default values."
   ]
  },
  {
   "cell_type": "code",
   "execution_count": 302,
   "metadata": {},
   "outputs": [],
   "source": [
    "def get_nclicks_per_day(data, max_days = 50, first_day = datetime(2016, 6, 13, 0, 0, 0)):\n",
    "    nclicks_per_day = np.zeros(max_days)\n",
    "    for time in data['ts']:\n",
    "        delta = time - first_day\n",
    "        if 0 <= delta.days < max_days: # if  delta.days is within this range (<=0 but < max_days)\n",
    "            nclicks_per_day[delta.days] += 1\n",
    "    \n",
    "    return nclicks_per_day\n"
   ]
  },
  {
   "cell_type": "code",
   "execution_count": 303,
   "metadata": {},
   "outputs": [
    {
     "name": "stdout",
     "output_type": "stream",
     "text": [
      "[  0.   0.   0.   0.   0.   0.   0.   7.   0.  25.   2.  11.   4.   4.   2.\n",
      "   9.  12.  17.   3.   1.  13.   0.   4.  10.   0.   6.   0.   0.   8.   5.\n",
      "   2.   5.   5.   4.  38.  33.  17.   6.  15.   7.   5.  11.   3.  13.   7.\n",
      "   0.   0.   0.   0.   5.]\n",
      "(50,)\n"
     ]
    }
   ],
   "source": [
    "print get_nclicks_per_day(data['104500'])\n",
    "print nclicks_per_day.shape"
   ]
  },
  {
   "cell_type": "markdown",
   "metadata": {},
   "source": [
    "<br>\n",
    "### Array for all student csv files\n",
    "Now we need to create a matrix for the entire data in our data dictionary. \n",
    "\n",
    "This will now be a two dimensional matrix."
   ]
  },
  {
   "cell_type": "code",
   "execution_count": 149,
   "metadata": {},
   "outputs": [
    {
     "data": {
      "text/plain": [
       "4"
      ]
     },
     "execution_count": 149,
     "metadata": {},
     "output_type": "execute_result"
    }
   ],
   "source": [
    "len(data)"
   ]
  },
  {
   "cell_type": "code",
   "execution_count": 309,
   "metadata": {},
   "outputs": [],
   "source": [
    "n_students = len(data)\n",
    "n_students\n",
    "max_days = 50\n",
    "\n",
    "nclicks_per_day_mat = np.zeros((n_students, max_days))"
   ]
  },
  {
   "cell_type": "code",
   "execution_count": 310,
   "metadata": {},
   "outputs": [
    {
     "name": "stdout",
     "output_type": "stream",
     "text": [
      "[[ 0.  0.  0.  0.  0.  0.  0.  0.  0.  0.  0.  0.  0.  0.  0.  0.  0.  0.\n",
      "   0.  0.  0.  0.  0.  0.  0.  0.  0.  0.  0.  0.  0.  0.  0.  0.  0.  0.\n",
      "   0.  0.  0.  0.  0.  0.  0.  0.  0.  0.  0.  0.  0.  0.]\n",
      " [ 0.  0.  0.  0.  0.  0.  0.  0.  0.  0.  0.  0.  0.  0.  0.  0.  0.  0.\n",
      "   0.  0.  0.  0.  0.  0.  0.  0.  0.  0.  0.  0.  0.  0.  0.  0.  0.  0.\n",
      "   0.  0.  0.  0.  0.  0.  0.  0.  0.  0.  0.  0.  0.  0.]\n",
      " [ 0.  0.  0.  0.  0.  0.  0.  0.  0.  0.  0.  0.  0.  0.  0.  0.  0.  0.\n",
      "   0.  0.  0.  0.  0.  0.  0.  0.  0.  0.  0.  0.  0.  0.  0.  0.  0.  0.\n",
      "   0.  0.  0.  0.  0.  0.  0.  0.  0.  0.  0.  0.  0.  0.]\n",
      " [ 0.  0.  0.  0.  0.  0.  0.  0.  0.  0.  0.  0.  0.  0.  0.  0.  0.  0.\n",
      "   0.  0.  0.  0.  0.  0.  0.  0.  0.  0.  0.  0.  0.  0.  0.  0.  0.  0.\n",
      "   0.  0.  0.  0.  0.  0.  0.  0.  0.  0.  0.  0.  0.  0.]]\n",
      "(4, 50)\n"
     ]
    }
   ],
   "source": [
    "print nclicks_per_day_mat\n",
    "print nclicks_per_day_mat.shape # two-dimensional matrix"
   ]
  },
  {
   "cell_type": "markdown",
   "metadata": {},
   "source": [
    "To save as each of the rows, we need the row indexes, not the random ids. \n",
    "\n",
    "We will create idx = 0 and increment by 1 whenever we fill in the rows.\n"
   ]
  },
  {
   "cell_type": "code",
   "execution_count": 311,
   "metadata": {},
   "outputs": [],
   "source": [
    "n_students = len(data)\n",
    "max_days = 50\n",
    "\n",
    "nclicks_per_day_mat = np.zeros((n_students, max_days))\n",
    "\n",
    "idx = 0\n",
    "\n",
    "for rid in data.keys():\n",
    "    nclicks_per_day_mat[idx, :] = get_nclicks_per_day(data[rid]) # [idx, :] <- we are assigning idx to the row\n",
    "    idx += 1 # same as writing idx = idx +1\n",
    "    "
   ]
  },
  {
   "cell_type": "code",
   "execution_count": 257,
   "metadata": {},
   "outputs": [
    {
     "name": "stdout",
     "output_type": "stream",
     "text": [
      "[[  5.   0.   0.   0.   0.   4.  33.   1.  22.   0.  17.  19.   2.  27.\n",
      "   17.   0.   0.  19.   0.   3.   2.   1.   2.   0.   0.  10.   4.  10.\n",
      "    0.   4.   5.   6.   3.   6.   4.   6.   3.  25.   6.   4.   7.   3.\n",
      "    3.   0.   0.   0.   0.   0.   0.   0.]\n",
      " [  0.   0.  16.   0.   0.   8.   8.   6.   3.  18.   2.   5.   9.  13.\n",
      "    6.  11.   7.   0.   4.   2.   9.   3.  11.   1.   8.   6.   4.  16.\n",
      "   11.   6.  14.   9.   7.   0.   8.   0.  50.   8.   1.   6.   0.   3.\n",
      "    2.   2.   0.   2.   0.   2.   2.   0.]\n",
      " [  0.   0.   0.   0.   0.   0.   0.   7.   0.  25.   2.  11.   4.   4.\n",
      "    2.   9.  12.  17.   3.   1.  13.   0.   4.  10.   0.   6.   0.   0.\n",
      "    8.   5.   2.   5.   5.   4.  38.  33.  17.   6.  15.   7.   5.  11.\n",
      "    3.  13.   7.   0.   0.   0.   0.   5.]\n",
      " [  0.   0.   0.   0.   0.   0.   0.   0.   0.   3.   0.   0.  10.  16.\n",
      "   71.   4.   1.   3.   0.   3.   7.   3.   1.   9.   5.   0.   9.   1.\n",
      "   12.   0.  14.   9.   0.   0.   0.  10.   0.   9.  20.   0.   1.   4.\n",
      "    7.  12.   2.   0.   4.   0.   1.   0.]]\n"
     ]
    }
   ],
   "source": [
    "print nclicks_per_day_mat"
   ]
  },
  {
   "cell_type": "code",
   "execution_count": 258,
   "metadata": {},
   "outputs": [
    {
     "data": {
      "text/plain": [
       "(4, 50)"
      ]
     },
     "execution_count": 258,
     "metadata": {},
     "output_type": "execute_result"
    }
   ],
   "source": [
    "nclicks_per_day_mat.shape"
   ]
  },
  {
   "cell_type": "code",
   "execution_count": 315,
   "metadata": {},
   "outputs": [
    {
     "name": "stdout",
     "output_type": "stream",
     "text": [
      "0 106707\n",
      "1 105751\n",
      "2 104500\n",
      "3 104716\n"
     ]
    }
   ],
   "source": [
    "# we can also check how idx was used using the enumerate function\n",
    "# you can think of idx as the row index\n",
    "\n",
    "for idx, rid in enumerate(data.keys()):\n",
    "    print idx, rid"
   ]
  },
  {
   "cell_type": "markdown",
   "metadata": {},
   "source": [
    "<br><br>\n",
    "### Matplotlib library for making visualizations\n",
    "I won't discuss Matplotlib today, but I wanted to show you that Python can also transform data and plot it.\n",
    "\n",
    "There is a whole coursera course on this if you are intereste in learning how to use matplotlib.<br>\n",
    "https://www.coursera.org/learn/python-plotting"
   ]
  },
  {
   "cell_type": "code",
   "execution_count": 259,
   "metadata": {},
   "outputs": [],
   "source": [
    "import matplotlib.pyplot as plt\n",
    "%matplotlib inline"
   ]
  },
  {
   "cell_type": "code",
   "execution_count": 265,
   "metadata": {},
   "outputs": [
    {
     "name": "stdout",
     "output_type": "stream",
     "text": [
      "[  1.25   0.     4.     0.     0.     3.    10.25   3.5    6.25  11.5\n",
      "   5.25   8.75   6.25  15.    24.     6.     5.     9.75   1.75   2.25\n",
      "   7.75   1.75   4.5    5.     3.25   5.5    4.25   6.75   7.75   3.75\n",
      "   8.75   7.25   3.75   2.5   12.5   12.25  17.5   12.    10.5    4.25\n",
      "   3.25   5.25   3.75   6.75   2.25   0.5    1.     0.5    0.75   1.25]\n",
      "(50,)\n"
     ]
    }
   ],
   "source": [
    "avg_nclicks = np.mean(nclicks_per_day_mat, axis=0)\n",
    "print avg_nclicks\n",
    "print avg_nclicks.shape"
   ]
  },
  {
   "cell_type": "code",
   "execution_count": 272,
   "metadata": {},
   "outputs": [
    {
     "data": {
      "image/png": "[encoded data removed]",
      "text/plain": [
       "<matplotlib.figure.Figure at 0x11554b290>"
      ]
     },
     "metadata": {},
     "output_type": "display_data"
    }
   ],
   "source": [
    "fig = plt.figure(figsize=(6,4))\n",
    "plt.bar(range(max_days), avg_nclicks, linewidth = 0, figure = fig)\n",
    "plt.xlabel('DAYS')\n",
    "plt.ylabel('AVERAGE NUMBER OF CLICKS PER DAY BY STUDENT')\n",
    "plt.grid(alpha=.2)\n",
    "# plt.show()\n",
    "# Save figure\n",
    "barplot_fname = './barplot.pdf'\n",
    "plt.savefig(barplot_fname)\n",
    "# plt.close()"
   ]
  },
  {
   "cell_type": "code",
   "execution_count": null,
   "metadata": {},
   "outputs": [],
   "source": [
    "\n"
   ]
  }
 ],
 "metadata": {
  "kernelspec": {
   "display_name": "Python [default]",
   "language": "python",
   "name": "python2"
  },
  "language_info": {
   "codemirror_mode": {
    "name": "ipython",
    "version": 2
   },
   "file_extension": ".py",
   "mimetype": "text/x-python",
   "name": "python",
   "nbconvert_exporter": "python",
   "pygments_lexer": "ipython2",
   "version": "2.7.13"
  }
 },
 "nbformat": 4,
 "nbformat_minor": 2
}
