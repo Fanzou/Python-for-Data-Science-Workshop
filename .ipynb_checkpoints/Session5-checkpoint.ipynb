{
 "cells": [
  {
   "cell_type": "markdown",
   "metadata": {},
   "source": [
    "# Python for Data Science Workshop - Spring 2018\n",
    "May 24, 2018\n",
    "\n",
    "Instructor: Fernando Rodriguez\n",
    "\n",
    "## Session 5: Strings, Indexing, len(), and Lists"
   ]
  },
  {
   "cell_type": "markdown",
   "metadata": {},
   "source": [
    "Our goal for today will be to use what we have learned thus far to build the function below.\n",
    "\n",
    "This function will take a URL (which is stored as a string) and categorize the url based on a set of criteria."
   ]
  },
  {
   "cell_type": "code",
   "execution_count": 67,
   "metadata": {},
   "outputs": [],
   "source": [
    "def get_cats_from_url(url):\n",
    "    if len(url.split('/')) < 6:\n",
    "        return \"homepage\"\n",
    "    else:\n",
    "        return url.split('/')[5]"
   ]
  },
  {
   "cell_type": "markdown",
   "metadata": {},
   "source": [
    "<br>\n",
    "<br>\n",
    "### Exercise: Building Functions\n",
    "\n",
    "Build a function that:\n",
    "1. Takes a variable with a single value (e.g., x = 50), \n",
    "\n",
    "2. multiplies that variable it by 100, and \n",
    "\n",
    "3. prints the result.\n",
    "\n",
    "\n",
    "So if x = 50, the result will equal 5000\n"
   ]
  },
  {
   "cell_type": "code",
   "execution_count": 68,
   "metadata": {},
   "outputs": [],
   "source": [
    "w = 25\n",
    "x = 50\n",
    "y = 100"
   ]
  },
  {
   "cell_type": "code",
   "execution_count": 136,
   "metadata": {},
   "outputs": [
    {
     "name": "stdout",
     "output_type": "stream",
     "text": [
      "2500\n",
      "12300\n",
      "10000\n"
     ]
    }
   ],
   "source": [
    "def mult100(x):\n",
    "    solution = x * 100\n",
    "    print solution\n",
    "\n",
    "mult100(w)\n",
    "mult100(x)\n",
    "mult100(y)"
   ]
  },
  {
   "cell_type": "markdown",
   "metadata": {},
   "source": [
    "Create a function that:\n",
    "\n",
    "1. Only multiplies a varaible by 100 if the variable is greater than 30 (hint: use if-else statements in the function).\n",
    "\n",
    "2. If the variable is less than 30, the function should print: \"Initial value is less 30. Request denied.\""
   ]
  },
  {
   "cell_type": "code",
   "execution_count": 70,
   "metadata": {},
   "outputs": [],
   "source": [
    "w = 25\n",
    "x = 50\n",
    "y = 100"
   ]
  },
  {
   "cell_type": "code",
   "execution_count": 137,
   "metadata": {},
   "outputs": [
    {
     "name": "stdout",
     "output_type": "stream",
     "text": [
      "Initial value is less 30. Request denied.\n",
      "12300\n",
      "10000\n"
     ]
    }
   ],
   "source": [
    "def mult100(x):\n",
    "    if x > 30:\n",
    "        solution = x * 100\n",
    "        print solution\n",
    "    else:\n",
    "        print \"Initial value is less 30. Request denied.\"\n",
    "\n",
    "mult100(w)\n",
    "mult100(x)\n",
    "mult100(y)"
   ]
  },
  {
   "cell_type": "markdown",
   "metadata": {},
   "source": [
    "<br><br>\n",
    "### Strings"
   ]
  },
  {
   "cell_type": "markdown",
   "metadata": {},
   "source": [
    "A string is a sequence of characters. \n",
    "\n",
    "Use the single or double quotations,\"\", to create a string."
   ]
  },
  {
   "cell_type": "code",
   "execution_count": 72,
   "metadata": {},
   "outputs": [],
   "source": [
    "fruit = \"banana\""
   ]
  },
  {
   "cell_type": "code",
   "execution_count": 73,
   "metadata": {},
   "outputs": [
    {
     "name": "stdout",
     "output_type": "stream",
     "text": [
      "banana\n"
     ]
    }
   ],
   "source": [
    "print fruit"
   ]
  },
  {
   "cell_type": "markdown",
   "metadata": {},
   "source": [
    "String are immutable. You cannot modify elements within the string (e.g., replacing the H in hello with L).\n",
    "\n",
    "However, you can add more string characters to the beginning or end of a string."
   ]
  },
  {
   "cell_type": "code",
   "execution_count": 74,
   "metadata": {},
   "outputs": [
    {
     "name": "stdout",
     "output_type": "stream",
     "text": [
      "Hello World\n"
     ]
    }
   ],
   "source": [
    "greeting = 'Hello World'\n",
    "print greeting"
   ]
  },
  {
   "cell_type": "code",
   "execution_count": 75,
   "metadata": {},
   "outputs": [
    {
     "name": "stdout",
     "output_type": "stream",
     "text": [
      "Hello World!!!\n",
      "!!!Hello World!!!\n"
     ]
    }
   ],
   "source": [
    "greeting = greeting + \"!!!\"\n",
    "print greeting\n",
    "\n",
    "greeting = \"!!!\" + greeting \n",
    "print greeting"
   ]
  },
  {
   "cell_type": "markdown",
   "metadata": {},
   "source": [
    "<br><br>\n",
    "### String Methods"
   ]
  },
  {
   "cell_type": "markdown",
   "metadata": {},
   "source": [
    "Strings are examples of Python objects.\n",
    "\n",
    "An object contains both data (the actual string itself) and \"methods\".\n",
    "\n",
    "Methods are functions that are built into the object and are available to any instance of the object"
   ]
  },
  {
   "cell_type": "code",
   "execution_count": 76,
   "metadata": {},
   "outputs": [
    {
     "data": {
      "text/plain": [
       "str"
      ]
     },
     "execution_count": 76,
     "metadata": {},
     "output_type": "execute_result"
    }
   ],
   "source": [
    "# the `type` function shows the type of an object\n",
    "type(greeting)"
   ]
  },
  {
   "cell_type": "markdown",
   "metadata": {},
   "source": [
    "Python has a function called `dir` which lists the methods available for an object."
   ]
  },
  {
   "cell_type": "markdown",
   "metadata": {},
   "source": [
    "The methods with leading and trailing underscores are 'magic methods'. We won't focus on these for this workshop.\n",
    "\n",
    "We will focus on the methods without the underscore. "
   ]
  },
  {
   "cell_type": "code",
   "execution_count": 77,
   "metadata": {},
   "outputs": [
    {
     "data": {
      "text/plain": [
       "['__add__',\n",
       " '__class__',\n",
       " '__contains__',\n",
       " '__delattr__',\n",
       " '__doc__',\n",
       " '__eq__',\n",
       " '__format__',\n",
       " '__ge__',\n",
       " '__getattribute__',\n",
       " '__getitem__',\n",
       " '__getnewargs__',\n",
       " '__getslice__',\n",
       " '__gt__',\n",
       " '__hash__',\n",
       " '__init__',\n",
       " '__le__',\n",
       " '__len__',\n",
       " '__lt__',\n",
       " '__mod__',\n",
       " '__mul__',\n",
       " '__ne__',\n",
       " '__new__',\n",
       " '__reduce__',\n",
       " '__reduce_ex__',\n",
       " '__repr__',\n",
       " '__rmod__',\n",
       " '__rmul__',\n",
       " '__setattr__',\n",
       " '__sizeof__',\n",
       " '__str__',\n",
       " '__subclasshook__',\n",
       " '_formatter_field_name_split',\n",
       " '_formatter_parser',\n",
       " 'capitalize',\n",
       " 'center',\n",
       " 'count',\n",
       " 'decode',\n",
       " 'encode',\n",
       " 'endswith',\n",
       " 'expandtabs',\n",
       " 'find',\n",
       " 'format',\n",
       " 'index',\n",
       " 'isalnum',\n",
       " 'isalpha',\n",
       " 'isdigit',\n",
       " 'islower',\n",
       " 'isspace',\n",
       " 'istitle',\n",
       " 'isupper',\n",
       " 'join',\n",
       " 'ljust',\n",
       " 'lower',\n",
       " 'lstrip',\n",
       " 'partition',\n",
       " 'replace',\n",
       " 'rfind',\n",
       " 'rindex',\n",
       " 'rjust',\n",
       " 'rpartition',\n",
       " 'rsplit',\n",
       " 'rstrip',\n",
       " 'split',\n",
       " 'splitlines',\n",
       " 'startswith',\n",
       " 'strip',\n",
       " 'swapcase',\n",
       " 'title',\n",
       " 'translate',\n",
       " 'upper',\n",
       " 'zfill']"
      ]
     },
     "execution_count": 77,
     "metadata": {},
     "output_type": "execute_result"
    }
   ],
   "source": [
    "dir(greeting)"
   ]
  },
  {
   "cell_type": "markdown",
   "metadata": {},
   "source": [
    "You can also use the help command for each object.\n",
    "\n",
    "Let's see what <b>rstrip</b> does."
   ]
  },
  {
   "cell_type": "code",
   "execution_count": 78,
   "metadata": {},
   "outputs": [
    {
     "name": "stdout",
     "output_type": "stream",
     "text": [
      "Help on method_descriptor:\n",
      "\n",
      "rstrip(...)\n",
      "    S.rstrip([chars]) -> string or unicode\n",
      "    \n",
      "    Return a copy of the string S with trailing whitespace removed.\n",
      "    If chars is given and not None, remove characters in chars instead.\n",
      "    If chars is unicode, S will be converted to unicode before stripping\n",
      "\n"
     ]
    }
   ],
   "source": [
    "help(str.rstrip)"
   ]
  },
  {
   "cell_type": "markdown",
   "metadata": {},
   "source": [
    "We can also use variables in the help function"
   ]
  },
  {
   "cell_type": "code",
   "execution_count": 79,
   "metadata": {},
   "outputs": [
    {
     "name": "stdout",
     "output_type": "stream",
     "text": [
      "Help on built-in function rstrip:\n",
      "\n",
      "rstrip(...)\n",
      "    S.rstrip([chars]) -> string or unicode\n",
      "    \n",
      "    Return a copy of the string S with trailing whitespace removed.\n",
      "    If chars is given and not None, remove characters in chars instead.\n",
      "    If chars is unicode, S will be converted to unicode before stripping\n",
      "\n"
     ]
    }
   ],
   "source": [
    "help(greeting.rstrip)"
   ]
  },
  {
   "cell_type": "markdown",
   "metadata": {},
   "source": [
    "Let's try using the method <b>rstrip</b>.\n",
    "\n",
    "We invoke methods using dot notation. \n",
    "\n",
    "The object (i.e., variable) appears before the dot, and the name of the method appears after the dot."
   ]
  },
  {
   "cell_type": "code",
   "execution_count": 80,
   "metadata": {},
   "outputs": [
    {
     "name": "stdout",
     "output_type": "stream",
     "text": [
      "Hello World      \n"
     ]
    }
   ],
   "source": [
    "greeting = \"Hello World      \"\n",
    "\n",
    "print greeting"
   ]
  },
  {
   "cell_type": "code",
   "execution_count": 81,
   "metadata": {},
   "outputs": [
    {
     "name": "stdout",
     "output_type": "stream",
     "text": [
      "Hello World      !\n"
     ]
    }
   ],
   "source": [
    "print greeting + \"!\""
   ]
  },
  {
   "cell_type": "code",
   "execution_count": 82,
   "metadata": {},
   "outputs": [
    {
     "name": "stdout",
     "output_type": "stream",
     "text": [
      "Hello World!\n"
     ]
    }
   ],
   "source": [
    "print greeting.rstrip() + \"!\""
   ]
  },
  {
   "cell_type": "code",
   "execution_count": 83,
   "metadata": {},
   "outputs": [
    {
     "name": "stdout",
     "output_type": "stream",
     "text": [
      "Hello World%%%%&%%%%%&\n"
     ]
    }
   ],
   "source": [
    "greeting = \"Hello World%%%%&%%%%%&\"\n",
    "print greeting"
   ]
  },
  {
   "cell_type": "code",
   "execution_count": 84,
   "metadata": {},
   "outputs": [
    {
     "name": "stdout",
     "output_type": "stream",
     "text": [
      "Hello World%%%%&%%%%%\n"
     ]
    }
   ],
   "source": [
    "print greeting.rstrip('&')"
   ]
  },
  {
   "cell_type": "code",
   "execution_count": 85,
   "metadata": {},
   "outputs": [
    {
     "name": "stdout",
     "output_type": "stream",
     "text": [
      "Hello World\n"
     ]
    }
   ],
   "source": [
    "print greeting.rstrip('&, %')\n"
   ]
  },
  {
   "cell_type": "markdown",
   "metadata": {},
   "source": [
    "let's try using .upper and .lower"
   ]
  },
  {
   "cell_type": "code",
   "execution_count": 86,
   "metadata": {},
   "outputs": [
    {
     "name": "stdout",
     "output_type": "stream",
     "text": [
      "HELLO WORLD%%%%&%%%%%&\n",
      "hello world%%%%&%%%%%&\n"
     ]
    }
   ],
   "source": [
    "print greeting.upper()\n",
    "print greeting.lower()"
   ]
  },
  {
   "cell_type": "markdown",
   "metadata": {},
   "source": [
    "You can even use mutiple methods in the same line of code"
   ]
  },
  {
   "cell_type": "code",
   "execution_count": 87,
   "metadata": {},
   "outputs": [
    {
     "name": "stdout",
     "output_type": "stream",
     "text": [
      "hello world\n"
     ]
    }
   ],
   "source": [
    "print greeting.lower().rstrip('&, %')"
   ]
  },
  {
   "cell_type": "markdown",
   "metadata": {},
   "source": [
    "Remember that the outputs for the methods we used have not been saved anywhere."
   ]
  },
  {
   "cell_type": "code",
   "execution_count": 88,
   "metadata": {},
   "outputs": [
    {
     "name": "stdout",
     "output_type": "stream",
     "text": [
      "Hello World%%%%&%%%%%&\n"
     ]
    }
   ],
   "source": [
    "print greeting"
   ]
  },
  {
   "cell_type": "markdown",
   "metadata": {},
   "source": [
    "<br><br>\n",
    "### Lists\n",
    "\n",
    "A list is an ordered sequence of elements. \n",
    "\n",
    "Each element inside a list is called an item.\n",
    "\n",
    "Lists are defined by having values between square brackets [ ] with elements seperated by commas [1, 2, 3]."
   ]
  },
  {
   "cell_type": "code",
   "execution_count": 89,
   "metadata": {},
   "outputs": [],
   "source": [
    "numbers = [2, 4, 6, 8]"
   ]
  },
  {
   "cell_type": "markdown",
   "metadata": {},
   "source": [
    "<br><br>\n",
    "### Indexing Lists and Strings\n",
    "\n",
    "An index refers to a position within an ordered list. \n",
    "\n",
    "Python uses 0-indexing, which means the first character within a list or string is assigned 0. "
   ]
  },
  {
   "cell_type": "code",
   "execution_count": 90,
   "metadata": {},
   "outputs": [],
   "source": [
    "colors = ['red', 'blue', 'green']"
   ]
  },
  {
   "cell_type": "code",
   "execution_count": 91,
   "metadata": {},
   "outputs": [
    {
     "data": {
      "image/png": "[encoded data removed]",
      "text/plain": [
       "<IPython.core.display.Image object>"
      ]
     },
     "execution_count": 91,
     "metadata": {},
     "output_type": "execute_result"
    }
   ],
   "source": [
    "from IPython.display import Image\n",
    "Image(filename='images/s5_colorsindex.png') "
   ]
  },
  {
   "cell_type": "markdown",
   "metadata": {},
   "source": [
    "Using indexing, we can print the item, 'blue'.\n",
    "\n",
    "We use [] to access specific characters within a list."
   ]
  },
  {
   "cell_type": "code",
   "execution_count": 92,
   "metadata": {},
   "outputs": [
    {
     "name": "stdout",
     "output_type": "stream",
     "text": [
      "blue\n"
     ]
    }
   ],
   "source": [
    "print colors[1]"
   ]
  },
  {
   "cell_type": "markdown",
   "metadata": {},
   "source": [
    "A string can be thought of a list of characters, which we can also index."
   ]
  },
  {
   "cell_type": "code",
   "execution_count": 93,
   "metadata": {},
   "outputs": [
    {
     "data": {
      "image/png": "[encoded data removed]",
      "text/plain": [
       "<IPython.core.display.Image object>"
      ]
     },
     "execution_count": 93,
     "metadata": {},
     "output_type": "execute_result"
    }
   ],
   "source": [
    "Image(filename='images/s4_indexing.png') "
   ]
  },
  {
   "cell_type": "code",
   "execution_count": 94,
   "metadata": {},
   "outputs": [
    {
     "name": "stdout",
     "output_type": "stream",
     "text": [
      "n\n"
     ]
    }
   ],
   "source": [
    "print fruit[2]"
   ]
  },
  {
   "cell_type": "markdown",
   "metadata": {},
   "source": [
    "Note the differences in how lists and strings are indexed\n"
   ]
  },
  {
   "cell_type": "markdown",
   "metadata": {},
   "source": [
    "<br><br>\n",
    "### len() Funciton\n",
    "\n",
    "Length gives us the length of a list or a string.\n",
    "\n",
    "For lists, it gives us the length of items.\n",
    "\n",
    "For strings, it gives us the length fo characters.\n",
    "\n",
    "Note the differences in how lists and strings produce length sizes."
   ]
  },
  {
   "cell_type": "code",
   "execution_count": 95,
   "metadata": {},
   "outputs": [],
   "source": [
    "sampleList = [2, 3, 5, 10, 100]\n",
    "fruit = \"banana\""
   ]
  },
  {
   "cell_type": "markdown",
   "metadata": {},
   "source": [
    "<br><br>\n",
    "### \n",
    "\n",
    "let's use everything we have learned so far to build a function that:\n",
    "\n",
    "1. Splits up URL strings into a list\n",
    "2. Determines the category for each URL string using len() and indexing"
   ]
  },
  {
   "cell_type": "code",
   "execution_count": 96,
   "metadata": {},
   "outputs": [],
   "source": [
    "url_file = \"https://canvas.eee.uci.edu/courses/2230/files/742190?module_item_id=62039\" \n",
    "url_assignment = \"https://canvas.eee.uci.edu/courses/2230/assignments/49367/submissions\"  \n",
    "url_home = \"https://canvas.eee.uci.edu/courses/2230\""
   ]
  },
  {
   "cell_type": "markdown",
   "metadata": {},
   "source": [
    "<br>\n",
    "### Exercise: Bringing it all together\n",
    "\n",
    "1. Use the .split() method to split the variable, <b>url_file</b>. Make sure to save the output into a new variable (e.g., urlSplit).\n",
    "2. Print the new variable.\n",
    "3. Print the length of the new variable.\n",
    "4. Using indexing, print out <b>'files'</b> from the list."
   ]
  },
  {
   "cell_type": "code",
   "execution_count": 97,
   "metadata": {},
   "outputs": [
    {
     "name": "stdout",
     "output_type": "stream",
     "text": [
      "['https:', '', 'canvas.eee.uci.edu', 'courses', '2230', 'files', '742190?module_item_id=62039']\n",
      "7\n",
      "files\n"
     ]
    }
   ],
   "source": [
    "urlSplit = url_file.split(\"/\")\n",
    "print urlSplit\n",
    "print len(urlSplit)\n",
    "print urlSplit[5]"
   ]
  },
  {
   "cell_type": "markdown",
   "metadata": {},
   "source": [
    "<br><br>\n",
    "### Now that we're warmed up, let's write this function\n",
    "\n",
    "1. Splits up URL strings into a list\n",
    "2. Determines the category for each URL string using len() and indexing"
   ]
  },
  {
   "cell_type": "code",
   "execution_count": 98,
   "metadata": {},
   "outputs": [],
   "source": [
    "def get_cats_from_url(url):\n",
    "    if len(url.split('/')) < 6:\n",
    "        return \"homepage\"\n",
    "    else:\n",
    "        return url.split('/')[5]"
   ]
  },
  {
   "cell_type": "code",
   "execution_count": 99,
   "metadata": {},
   "outputs": [
    {
     "name": "stdout",
     "output_type": "stream",
     "text": [
      "files\n",
      "assignments\n",
      "homepage\n"
     ]
    }
   ],
   "source": [
    "print get_cats_from_url(url_file)\n",
    "print get_cats_from_url(url_assignment)\n",
    "print get_cats_from_url(url_home)"
   ]
  },
  {
   "cell_type": "markdown",
   "metadata": {},
   "source": [
    "We'll use just three urls to test the function. But in the later weeks, we'll use this function to traverse and categorize all urls in our data."
   ]
  }
 ],
 "metadata": {
  "kernelspec": {
   "display_name": "Python [default]",
   "language": "python",
   "name": "python2"
  },
  "language_info": {
   "codemirror_mode": {
    "name": "ipython",
    "version": 2
   },
   "file_extension": ".py",
   "mimetype": "text/x-python",
   "name": "python",
   "nbconvert_exporter": "python",
   "pygments_lexer": "ipython2",
   "version": "2.7.13"
  }
 },
 "nbformat": 4,
 "nbformat_minor": 2
}
